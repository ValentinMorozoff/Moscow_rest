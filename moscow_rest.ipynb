{
 "cells": [
  {
   "cell_type": "markdown",
   "metadata": {},
   "source": [
    "# Описание проекта\n",
    "\n",
    "Вы решили открыть небольшое кафе в Москве. Оно оригинальное — гостей должны обслуживать роботы. Проект многообещающий, но дорогой. Вместе с партнёрами вы решились обратиться к инвесторам. Их интересует текущее положение дел на рынке — сможете ли вы снискать популярность на долгое время, когда все зеваки насмотрятся на роботов-официантов?"
   ]
  },
  {
   "cell_type": "code",
   "execution_count": 1,
   "metadata": {},
   "outputs": [],
   "source": [
    "import pandas as pd\n",
    "\n",
    "import seaborn as sns\n",
    "sns.set(rc={'figure.figsize':(12, 8)})\n",
    "sns.set_style('whitegrid')\n",
    "sns.set_context('notebook')\n",
    "\n",
    "import matplotlib.pyplot as plt"
   ]
  },
  {
   "cell_type": "markdown",
   "metadata": {},
   "source": [
    "## Загрузка данных и подготовка их к анализу\n",
    "### Чтение и описание представленных на исследование данных"
   ]
  },
  {
   "cell_type": "code",
   "execution_count": 2,
   "metadata": {},
   "outputs": [
    {
     "data": {
      "text/html": [
       "<div>\n",
       "<style scoped>\n",
       "    .dataframe tbody tr th:only-of-type {\n",
       "        vertical-align: middle;\n",
       "    }\n",
       "\n",
       "    .dataframe tbody tr th {\n",
       "        vertical-align: top;\n",
       "    }\n",
       "\n",
       "    .dataframe thead th {\n",
       "        text-align: right;\n",
       "    }\n",
       "</style>\n",
       "<table border=\"1\" class=\"dataframe\">\n",
       "  <thead>\n",
       "    <tr style=\"text-align: right;\">\n",
       "      <th></th>\n",
       "      <th>id</th>\n",
       "      <th>object_name</th>\n",
       "      <th>chain</th>\n",
       "      <th>object_type</th>\n",
       "      <th>address</th>\n",
       "      <th>number</th>\n",
       "    </tr>\n",
       "  </thead>\n",
       "  <tbody>\n",
       "    <tr>\n",
       "      <th>0</th>\n",
       "      <td>151635</td>\n",
       "      <td>СМЕТАНА</td>\n",
       "      <td>нет</td>\n",
       "      <td>кафе</td>\n",
       "      <td>город Москва, улица Егора Абакумова, дом 9</td>\n",
       "      <td>48</td>\n",
       "    </tr>\n",
       "    <tr>\n",
       "      <th>1</th>\n",
       "      <td>77874</td>\n",
       "      <td>Родник</td>\n",
       "      <td>нет</td>\n",
       "      <td>кафе</td>\n",
       "      <td>город Москва, улица Талалихина, дом 2/1, корпус 1</td>\n",
       "      <td>35</td>\n",
       "    </tr>\n",
       "    <tr>\n",
       "      <th>2</th>\n",
       "      <td>24309</td>\n",
       "      <td>Кафе «Академия»</td>\n",
       "      <td>нет</td>\n",
       "      <td>кафе</td>\n",
       "      <td>город Москва, Абельмановская улица, дом 6</td>\n",
       "      <td>95</td>\n",
       "    </tr>\n",
       "    <tr>\n",
       "      <th>3</th>\n",
       "      <td>21894</td>\n",
       "      <td>ПИЦЦЕТОРИЯ</td>\n",
       "      <td>да</td>\n",
       "      <td>кафе</td>\n",
       "      <td>город Москва, Абрамцевская улица, дом 1</td>\n",
       "      <td>40</td>\n",
       "    </tr>\n",
       "    <tr>\n",
       "      <th>4</th>\n",
       "      <td>119365</td>\n",
       "      <td>Кафе «Вишневая метель»</td>\n",
       "      <td>нет</td>\n",
       "      <td>кафе</td>\n",
       "      <td>город Москва, Абрамцевская улица, дом 9, корпус 1</td>\n",
       "      <td>50</td>\n",
       "    </tr>\n",
       "  </tbody>\n",
       "</table>\n",
       "</div>"
      ],
      "text/plain": [
       "       id             object_name chain object_type  \\\n",
       "0  151635                 СМЕТАНА   нет        кафе   \n",
       "1   77874                  Родник   нет        кафе   \n",
       "2   24309         Кафе «Академия»   нет        кафе   \n",
       "3   21894              ПИЦЦЕТОРИЯ    да        кафе   \n",
       "4  119365  Кафе «Вишневая метель»   нет        кафе   \n",
       "\n",
       "                                             address  number  \n",
       "0         город Москва, улица Егора Абакумова, дом 9      48  \n",
       "1  город Москва, улица Талалихина, дом 2/1, корпус 1      35  \n",
       "2          город Москва, Абельмановская улица, дом 6      95  \n",
       "3            город Москва, Абрамцевская улица, дом 1      40  \n",
       "4  город Москва, Абрамцевская улица, дом 9, корпус 1      50  "
      ]
     },
     "execution_count": 2,
     "metadata": {},
     "output_type": "execute_result"
    }
   ],
   "source": [
    "df = pd.read_csv('moscow_rest_data.csv')\n",
    "df.head()"
   ]
  },
  {
   "cell_type": "code",
   "execution_count": 3,
   "metadata": {},
   "outputs": [
    {
     "name": "stdout",
     "output_type": "stream",
     "text": [
      "<class 'pandas.core.frame.DataFrame'>\n",
      "RangeIndex: 15366 entries, 0 to 15365\n",
      "Data columns (total 6 columns):\n",
      " #   Column       Non-Null Count  Dtype \n",
      "---  ------       --------------  ----- \n",
      " 0   id           15366 non-null  int64 \n",
      " 1   object_name  15366 non-null  object\n",
      " 2   chain        15366 non-null  object\n",
      " 3   object_type  15366 non-null  object\n",
      " 4   address      15366 non-null  object\n",
      " 5   number       15366 non-null  int64 \n",
      "dtypes: int64(2), object(4)\n",
      "memory usage: 720.4+ KB\n"
     ]
    },
    {
     "data": {
      "text/plain": [
       "0"
      ]
     },
     "metadata": {},
     "output_type": "display_data"
    },
    {
     "data": {
      "text/plain": [
       "92196"
      ]
     },
     "metadata": {},
     "output_type": "display_data"
    }
   ],
   "source": [
    "df.info()\n",
    "display(df.duplicated().sum())\n",
    "display(df.size)"
   ]
  },
  {
   "cell_type": "markdown",
   "metadata": {},
   "source": [
    "**Выводы:**\n",
    "\n",
    "1. Представленные на исследование данные открылись корректно. \n",
    "\n",
    "2. Датсет состоит из 15366 наблюдей по 6 признакам. Всего 92196 записей.\n",
    "\n",
    "3. Пропущенные значения - отсутвуют, явные(полные) дубликаты - отсутвуют.\n",
    "\n",
    "4. Данные представлены следующими типами: \n",
    "\n",
    "- id — идентификатор объекта - int64, - целочисленный метод;\n",
    "- object_name — название объекта общественного питания - object, - строковый или иной вид нечисленных данных;\n",
    "- chain — сетевой ресторан - - object, - строковый или иной вид нечисленных данных;\n",
    "- object_type — тип объекта общественного питания - - object, - строковый или иной вид нечисленных данных;\n",
    "- address — адрес - - object, - строковый или иной вид нечисленных данных;\n",
    "- number — количество посадочных мест int64, - целочисленный метод.\n",
    "\n",
    "5. Для целей дальнейшего исследования (возможности проведения математичнских операций над данными) целесообразно зашифровать столбец chain в виде булевого типа данных, где 1 - соответсвует True, а 0 - False, при этом тип данных сформировать, как int."
   ]
  },
  {
   "cell_type": "markdown",
   "metadata": {},
   "source": [
    "### Предобработка данных"
   ]
  },
  {
   "cell_type": "code",
   "execution_count": 4,
   "metadata": {},
   "outputs": [
    {
     "data": {
      "text/html": [
       "<div>\n",
       "<style scoped>\n",
       "    .dataframe tbody tr th:only-of-type {\n",
       "        vertical-align: middle;\n",
       "    }\n",
       "\n",
       "    .dataframe tbody tr th {\n",
       "        vertical-align: top;\n",
       "    }\n",
       "\n",
       "    .dataframe thead th {\n",
       "        text-align: right;\n",
       "    }\n",
       "</style>\n",
       "<table border=\"1\" class=\"dataframe\">\n",
       "  <thead>\n",
       "    <tr style=\"text-align: right;\">\n",
       "      <th></th>\n",
       "      <th>id</th>\n",
       "      <th>object_name</th>\n",
       "      <th>chain</th>\n",
       "      <th>object_type</th>\n",
       "      <th>address</th>\n",
       "      <th>number</th>\n",
       "    </tr>\n",
       "  </thead>\n",
       "  <tbody>\n",
       "    <tr>\n",
       "      <th>0</th>\n",
       "      <td>151635</td>\n",
       "      <td>СМЕТАНА</td>\n",
       "      <td>0</td>\n",
       "      <td>кафе</td>\n",
       "      <td>город Москва, улица Егора Абакумова, дом 9</td>\n",
       "      <td>48</td>\n",
       "    </tr>\n",
       "    <tr>\n",
       "      <th>1</th>\n",
       "      <td>77874</td>\n",
       "      <td>Родник</td>\n",
       "      <td>0</td>\n",
       "      <td>кафе</td>\n",
       "      <td>город Москва, улица Талалихина, дом 2/1, корпус 1</td>\n",
       "      <td>35</td>\n",
       "    </tr>\n",
       "    <tr>\n",
       "      <th>2</th>\n",
       "      <td>24309</td>\n",
       "      <td>Кафе «Академия»</td>\n",
       "      <td>0</td>\n",
       "      <td>кафе</td>\n",
       "      <td>город Москва, Абельмановская улица, дом 6</td>\n",
       "      <td>95</td>\n",
       "    </tr>\n",
       "    <tr>\n",
       "      <th>3</th>\n",
       "      <td>21894</td>\n",
       "      <td>ПИЦЦЕТОРИЯ</td>\n",
       "      <td>1</td>\n",
       "      <td>кафе</td>\n",
       "      <td>город Москва, Абрамцевская улица, дом 1</td>\n",
       "      <td>40</td>\n",
       "    </tr>\n",
       "    <tr>\n",
       "      <th>4</th>\n",
       "      <td>119365</td>\n",
       "      <td>Кафе «Вишневая метель»</td>\n",
       "      <td>0</td>\n",
       "      <td>кафе</td>\n",
       "      <td>город Москва, Абрамцевская улица, дом 9, корпус 1</td>\n",
       "      <td>50</td>\n",
       "    </tr>\n",
       "  </tbody>\n",
       "</table>\n",
       "</div>"
      ],
      "text/plain": [
       "       id             object_name  chain object_type  \\\n",
       "0  151635                 СМЕТАНА      0        кафе   \n",
       "1   77874                  Родник      0        кафе   \n",
       "2   24309         Кафе «Академия»      0        кафе   \n",
       "3   21894              ПИЦЦЕТОРИЯ      1        кафе   \n",
       "4  119365  Кафе «Вишневая метель»      0        кафе   \n",
       "\n",
       "                                             address  number  \n",
       "0         город Москва, улица Егора Абакумова, дом 9      48  \n",
       "1  город Москва, улица Талалихина, дом 2/1, корпус 1      35  \n",
       "2          город Москва, Абельмановская улица, дом 6      95  \n",
       "3            город Москва, Абрамцевская улица, дом 1      40  \n",
       "4  город Москва, Абрамцевская улица, дом 9, корпус 1      50  "
      ]
     },
     "execution_count": 4,
     "metadata": {},
     "output_type": "execute_result"
    }
   ],
   "source": [
    "df['chain'] = df['chain'].replace({'да': 1, 'нет': 0}).astype(int)\n",
    "df.head()"
   ]
  },
  {
   "cell_type": "markdown",
   "metadata": {},
   "source": [
    "**Вывод:**\n",
    "\n",
    "Данные подготовлены для дальнейшго исследования."
   ]
  },
  {
   "cell_type": "markdown",
   "metadata": {},
   "source": [
    "## Анализ данных\n",
    "### Исследуйте соотношение видов объектов общественного питания по количеству. Постройте график"
   ]
  },
  {
   "cell_type": "code",
   "execution_count": 5,
   "metadata": {},
   "outputs": [
    {
     "data": {
      "text/html": [
       "<div>\n",
       "<style scoped>\n",
       "    .dataframe tbody tr th:only-of-type {\n",
       "        vertical-align: middle;\n",
       "    }\n",
       "\n",
       "    .dataframe tbody tr th {\n",
       "        vertical-align: top;\n",
       "    }\n",
       "\n",
       "    .dataframe thead th {\n",
       "        text-align: right;\n",
       "    }\n",
       "</style>\n",
       "<table border=\"1\" class=\"dataframe\">\n",
       "  <thead>\n",
       "    <tr style=\"text-align: right;\">\n",
       "      <th></th>\n",
       "      <th>object_type</th>\n",
       "      <th>count</th>\n",
       "      <th>share</th>\n",
       "    </tr>\n",
       "  </thead>\n",
       "  <tbody>\n",
       "    <tr>\n",
       "      <th>0</th>\n",
       "      <td>кафе</td>\n",
       "      <td>6099</td>\n",
       "      <td>0.40</td>\n",
       "    </tr>\n",
       "    <tr>\n",
       "      <th>1</th>\n",
       "      <td>столовая</td>\n",
       "      <td>2587</td>\n",
       "      <td>0.17</td>\n",
       "    </tr>\n",
       "    <tr>\n",
       "      <th>2</th>\n",
       "      <td>ресторан</td>\n",
       "      <td>2285</td>\n",
       "      <td>0.15</td>\n",
       "    </tr>\n",
       "    <tr>\n",
       "      <th>3</th>\n",
       "      <td>предприятие быстрого обслуживания</td>\n",
       "      <td>1923</td>\n",
       "      <td>0.13</td>\n",
       "    </tr>\n",
       "    <tr>\n",
       "      <th>4</th>\n",
       "      <td>бар</td>\n",
       "      <td>856</td>\n",
       "      <td>0.06</td>\n",
       "    </tr>\n",
       "    <tr>\n",
       "      <th>5</th>\n",
       "      <td>буфет</td>\n",
       "      <td>585</td>\n",
       "      <td>0.04</td>\n",
       "    </tr>\n",
       "    <tr>\n",
       "      <th>6</th>\n",
       "      <td>кафетерий</td>\n",
       "      <td>398</td>\n",
       "      <td>0.03</td>\n",
       "    </tr>\n",
       "    <tr>\n",
       "      <th>7</th>\n",
       "      <td>закусочная</td>\n",
       "      <td>360</td>\n",
       "      <td>0.02</td>\n",
       "    </tr>\n",
       "    <tr>\n",
       "      <th>8</th>\n",
       "      <td>магазин (отдел кулинарии)</td>\n",
       "      <td>273</td>\n",
       "      <td>0.02</td>\n",
       "    </tr>\n",
       "  </tbody>\n",
       "</table>\n",
       "</div>"
      ],
      "text/plain": [
       "                         object_type  count  share\n",
       "0                               кафе   6099   0.40\n",
       "1                           столовая   2587   0.17\n",
       "2                           ресторан   2285   0.15\n",
       "3  предприятие быстрого обслуживания   1923   0.13\n",
       "4                                бар    856   0.06\n",
       "5                              буфет    585   0.04\n",
       "6                          кафетерий    398   0.03\n",
       "7                         закусочная    360   0.02\n",
       "8          магазин (отдел кулинарии)    273   0.02"
      ]
     },
     "execution_count": 5,
     "metadata": {},
     "output_type": "execute_result"
    }
   ],
   "source": [
    "rest_type = (\n",
    "    df['object_type'].value_counts()\n",
    "    .rename_axis('object_type')\n",
    "    .to_frame('count')\n",
    "    .reset_index()\n",
    "    .assign(share = lambda x: (x['count'] / x['count'].sum()).round(2))\n",
    ")\n",
    "\n",
    "rest_type"
   ]
  },
  {
   "cell_type": "markdown",
   "metadata": {},
   "source": [
    "**Выводы**\n",
    "\n",
    "1. Объекты питания представлены в виде кафе, столовых, ресторанов, предприятий фастфуда, баров, буфетов, кафетерий, закосочных и отделов кулинарии.\n",
    "2. Подавляющее большинство объектов общественного питания представленов в качестве кафе - 6099 заведений, что составлет 40% рынка. Практически в равных количествах представлены столовые и рестораны, 2587 и 2285 соответсвенно, что суммарно составляет 32% рынка.\n",
    "3. В меньшем размере представлены категории кафетерий, закусочных и отделов кулинарии, 398, 360 и 273 соответвенно, что суммарно составляет 7% рынка."
   ]
  },
  {
   "cell_type": "code",
   "execution_count": 6,
   "metadata": {},
   "outputs": [
    {
     "data": {
      "image/png": "[encoded data removed]",
      "text/plain": [
       "<Figure size 864x576 with 1 Axes>"
      ]
     },
     "metadata": {},
     "output_type": "display_data"
    }
   ],
   "source": [
    "sns.barplot(data=rest_type, y='object_type', x='count')\n",
    "plt.xticks(rotation=70)\n",
    "plt.title('Соотношение видов объектов общественного питания по количеству', fontsize=17)\n",
    "plt.show()"
   ]
  },
  {
   "cell_type": "markdown",
   "metadata": {},
   "source": [
    "**Вывод**\n",
    "\n",
    "На представленном графике отмечено явное доминирование кафе, как типа заведения общественного питания, практически равное равномерное распределение имеют столовые, рестораны и заведния фастфуда, а также буфеты, кафетерии, закусочные и отделы кулинарии."
   ]
  },
  {
   "cell_type": "markdown",
   "metadata": {},
   "source": [
    "### Исследуйте соотношение сетевых и несетевых заведений по количеству. Постройте график"
   ]
  },
  {
   "cell_type": "code",
   "execution_count": 7,
   "metadata": {},
   "outputs": [
    {
     "data": {
      "text/html": [
       "<div>\n",
       "<style scoped>\n",
       "    .dataframe tbody tr th:only-of-type {\n",
       "        vertical-align: middle;\n",
       "    }\n",
       "\n",
       "    .dataframe tbody tr th {\n",
       "        vertical-align: top;\n",
       "    }\n",
       "\n",
       "    .dataframe thead th {\n",
       "        text-align: right;\n",
       "    }\n",
       "</style>\n",
       "<table border=\"1\" class=\"dataframe\">\n",
       "  <thead>\n",
       "    <tr style=\"text-align: right;\">\n",
       "      <th></th>\n",
       "      <th>chain</th>\n",
       "      <th>count</th>\n",
       "      <th>share</th>\n",
       "    </tr>\n",
       "  </thead>\n",
       "  <tbody>\n",
       "    <tr>\n",
       "      <th>0</th>\n",
       "      <td>локальные заведения</td>\n",
       "      <td>12398</td>\n",
       "      <td>0.81</td>\n",
       "    </tr>\n",
       "    <tr>\n",
       "      <th>1</th>\n",
       "      <td>сетевые заведения</td>\n",
       "      <td>2968</td>\n",
       "      <td>0.19</td>\n",
       "    </tr>\n",
       "  </tbody>\n",
       "</table>\n",
       "</div>"
      ],
      "text/plain": [
       "                 chain  count  share\n",
       "0  локальные заведения  12398   0.81\n",
       "1    сетевые заведения   2968   0.19"
      ]
     },
     "execution_count": 7,
     "metadata": {},
     "output_type": "execute_result"
    }
   ],
   "source": [
    "rest_chain = (\n",
    "    df.groupby('chain')['chain'].count()\n",
    "    .to_frame()\n",
    "    .rename(columns={'chain': 'count'})\n",
    "    .assign(share = lambda x: (x['count'] / x['count'].sum()).round(2))\n",
    "    .reset_index()\n",
    ")\n",
    "\n",
    "rest_chain['chain'] = rest_chain['chain'].replace({1: 'сетевые заведения', 0: 'локальные заведения'})\n",
    "\n",
    "rest_chain"
   ]
  },
  {
   "cell_type": "markdown",
   "metadata": {},
   "source": [
    "**Вывод**\n",
    "\n",
    "Несетевые заведения составляют 81% рынка или 12398 объектов, сетевые заведения 19% рынка или 2968 объектов."
   ]
  },
  {
   "cell_type": "code",
   "execution_count": 8,
   "metadata": {},
   "outputs": [
    {
     "data": {
      "image/png": "[encoded data removed]",
      "text/plain": [
       "<Figure size 864x576 with 1 Axes>"
      ]
     },
     "metadata": {},
     "output_type": "display_data"
    }
   ],
   "source": [
    "sns.barplot(data=rest_chain, x='chain', y='count')\n",
    "plt.title('Соотношение сетевых и несетевых заведений по количеству', fontsize=17)\n",
    "plt.text(0.45, 12100, 'Доминирование локальных заведений')\n",
    "plt.show()"
   ]
  },
  {
   "cell_type": "code",
   "execution_count": 9,
   "metadata": {},
   "outputs": [
    {
     "data": {
      "image/png": "[encoded data removed]",
      "text/plain": [
       "<Figure size 864x576 with 1 Axes>"
      ]
     },
     "metadata": {},
     "output_type": "display_data"
    }
   ],
   "source": [
    "(\n",
    "    plt.pie(x=rest_chain['count'], \n",
    "            autopct=\"%.1f%%\", \n",
    "            explode=[0.05]*2, \n",
    "            labels=rest_chain['chain'], \n",
    "            pctdistance=0.5,  \n",
    "            shadow=True)\n",
    ")\n",
    "plt.title('Соотношение сетевых и несетевых заведений по доле', fontsize=17)\n",
    "plt.show()"
   ]
  },
  {
   "cell_type": "markdown",
   "metadata": {},
   "source": [
    "**Вывод**\n",
    "\n",
    "На графике отмечено превышение каличества локальных завеений над сетевыми."
   ]
  },
  {
   "cell_type": "markdown",
   "metadata": {},
   "source": [
    "### Для какого вида объекта общественного питания характерно сетевое распространение?"
   ]
  },
  {
   "cell_type": "code",
   "execution_count": 10,
   "metadata": {},
   "outputs": [
    {
     "data": {
      "text/html": [
       "<div>\n",
       "<style scoped>\n",
       "    .dataframe tbody tr th:only-of-type {\n",
       "        vertical-align: middle;\n",
       "    }\n",
       "\n",
       "    .dataframe tbody tr th {\n",
       "        vertical-align: top;\n",
       "    }\n",
       "\n",
       "    .dataframe thead th {\n",
       "        text-align: right;\n",
       "    }\n",
       "</style>\n",
       "<table border=\"1\" class=\"dataframe\">\n",
       "  <thead>\n",
       "    <tr style=\"text-align: right;\">\n",
       "      <th></th>\n",
       "      <th>object_type</th>\n",
       "      <th>count</th>\n",
       "      <th>share</th>\n",
       "    </tr>\n",
       "  </thead>\n",
       "  <tbody>\n",
       "    <tr>\n",
       "      <th>0</th>\n",
       "      <td>кафе</td>\n",
       "      <td>1396</td>\n",
       "      <td>0.4704</td>\n",
       "    </tr>\n",
       "    <tr>\n",
       "      <th>1</th>\n",
       "      <td>предприятие быстрого обслуживания</td>\n",
       "      <td>791</td>\n",
       "      <td>0.2665</td>\n",
       "    </tr>\n",
       "    <tr>\n",
       "      <th>2</th>\n",
       "      <td>ресторан</td>\n",
       "      <td>544</td>\n",
       "      <td>0.1833</td>\n",
       "    </tr>\n",
       "    <tr>\n",
       "      <th>3</th>\n",
       "      <td>магазин (отдел кулинарии)</td>\n",
       "      <td>78</td>\n",
       "      <td>0.0263</td>\n",
       "    </tr>\n",
       "    <tr>\n",
       "      <th>4</th>\n",
       "      <td>закусочная</td>\n",
       "      <td>56</td>\n",
       "      <td>0.0189</td>\n",
       "    </tr>\n",
       "    <tr>\n",
       "      <th>5</th>\n",
       "      <td>кафетерий</td>\n",
       "      <td>52</td>\n",
       "      <td>0.0175</td>\n",
       "    </tr>\n",
       "    <tr>\n",
       "      <th>6</th>\n",
       "      <td>бар</td>\n",
       "      <td>37</td>\n",
       "      <td>0.0125</td>\n",
       "    </tr>\n",
       "    <tr>\n",
       "      <th>7</th>\n",
       "      <td>буфет</td>\n",
       "      <td>11</td>\n",
       "      <td>0.0037</td>\n",
       "    </tr>\n",
       "    <tr>\n",
       "      <th>8</th>\n",
       "      <td>столовая</td>\n",
       "      <td>3</td>\n",
       "      <td>0.0010</td>\n",
       "    </tr>\n",
       "  </tbody>\n",
       "</table>\n",
       "</div>"
      ],
      "text/plain": [
       "                         object_type  count   share\n",
       "0                               кафе   1396  0.4704\n",
       "1  предприятие быстрого обслуживания    791  0.2665\n",
       "2                           ресторан    544  0.1833\n",
       "3          магазин (отдел кулинарии)     78  0.0263\n",
       "4                         закусочная     56  0.0189\n",
       "5                          кафетерий     52  0.0175\n",
       "6                                бар     37  0.0125\n",
       "7                              буфет     11  0.0037\n",
       "8                           столовая      3  0.0010"
      ]
     },
     "execution_count": 10,
     "metadata": {},
     "output_type": "execute_result"
    }
   ],
   "source": [
    "rest_chain_type = (\n",
    "    df[df['chain'] == 1]\n",
    "    .groupby('object_type')['id'].count()\n",
    "    .to_frame()\n",
    "    .rename(columns={'id': 'count'})\n",
    "    .assign(share = lambda x: (x['count'] / x['count'].sum()).round(4))\n",
    "    .sort_values(by='count', ascending=False)\n",
    "    .reset_index()\n",
    ")\n",
    "\n",
    "rest_chain_type"
   ]
  },
  {
   "cell_type": "markdown",
   "metadata": {},
   "source": [
    "**Вывод**\n",
    "\n",
    "1. 47% или 1396 объекта сетевых зававедений представлено в качестве кафе.\n",
    "2. В схожих объемах, 27% и 18% сетвых заведений представлено в качестве предприятий фастфуда и ресторанов, что составляет 791 и 544 объекта соответсвенно.\n",
    "3. Из сетевых заведений наименьших процент рынка (суммарно менее 2%) занимают бары, буфеты и столовые 37, 11 и 3 соответсвенно."
   ]
  },
  {
   "cell_type": "code",
   "execution_count": 11,
   "metadata": {},
   "outputs": [
    {
     "data": {
      "image/png": "[encoded data removed]",
      "text/plain": [
       "<Figure size 864x576 with 1 Axes>"
      ]
     },
     "metadata": {},
     "output_type": "display_data"
    }
   ],
   "source": [
    "sns.barplot(data=rest_chain_type, y='object_type', x='count')\n",
    "plt.xticks(rotation=90)\n",
    "plt.title('Виды объектов общественного питания с характерным сетевым распространение', fontsize=17)\n",
    "plt.show()"
   ]
  },
  {
   "cell_type": "markdown",
   "metadata": {},
   "source": [
    "**Вывод**\n",
    "\n",
    "На графике отмечено предобладание кафе, как типа сетевого заведения и равномерное распределение среди кулинарий, закусочных, кафетерий и баров, как сетевых объектов общественного питания."
   ]
  },
  {
   "cell_type": "code",
   "execution_count": 12,
   "metadata": {},
   "outputs": [
    {
     "data": {
      "text/html": [
       "<div>\n",
       "<style scoped>\n",
       "    .dataframe tbody tr th:only-of-type {\n",
       "        vertical-align: middle;\n",
       "    }\n",
       "\n",
       "    .dataframe tbody tr th {\n",
       "        vertical-align: top;\n",
       "    }\n",
       "\n",
       "    .dataframe thead th {\n",
       "        text-align: right;\n",
       "    }\n",
       "</style>\n",
       "<table border=\"1\" class=\"dataframe\">\n",
       "  <thead>\n",
       "    <tr style=\"text-align: right;\">\n",
       "      <th></th>\n",
       "      <th>object_type</th>\n",
       "      <th>rest_count_chain</th>\n",
       "      <th>rest_count_total</th>\n",
       "      <th>rest_chain_share</th>\n",
       "    </tr>\n",
       "  </thead>\n",
       "  <tbody>\n",
       "    <tr>\n",
       "      <th>0</th>\n",
       "      <td>предприятие быстрого обслуживания</td>\n",
       "      <td>791</td>\n",
       "      <td>1923</td>\n",
       "      <td>0.41</td>\n",
       "    </tr>\n",
       "    <tr>\n",
       "      <th>1</th>\n",
       "      <td>магазин (отдел кулинарии)</td>\n",
       "      <td>78</td>\n",
       "      <td>273</td>\n",
       "      <td>0.29</td>\n",
       "    </tr>\n",
       "    <tr>\n",
       "      <th>2</th>\n",
       "      <td>ресторан</td>\n",
       "      <td>544</td>\n",
       "      <td>2285</td>\n",
       "      <td>0.24</td>\n",
       "    </tr>\n",
       "    <tr>\n",
       "      <th>3</th>\n",
       "      <td>кафе</td>\n",
       "      <td>1396</td>\n",
       "      <td>6099</td>\n",
       "      <td>0.23</td>\n",
       "    </tr>\n",
       "    <tr>\n",
       "      <th>4</th>\n",
       "      <td>закусочная</td>\n",
       "      <td>56</td>\n",
       "      <td>360</td>\n",
       "      <td>0.16</td>\n",
       "    </tr>\n",
       "    <tr>\n",
       "      <th>5</th>\n",
       "      <td>кафетерий</td>\n",
       "      <td>52</td>\n",
       "      <td>398</td>\n",
       "      <td>0.13</td>\n",
       "    </tr>\n",
       "    <tr>\n",
       "      <th>6</th>\n",
       "      <td>бар</td>\n",
       "      <td>37</td>\n",
       "      <td>856</td>\n",
       "      <td>0.04</td>\n",
       "    </tr>\n",
       "    <tr>\n",
       "      <th>7</th>\n",
       "      <td>буфет</td>\n",
       "      <td>11</td>\n",
       "      <td>585</td>\n",
       "      <td>0.02</td>\n",
       "    </tr>\n",
       "    <tr>\n",
       "      <th>8</th>\n",
       "      <td>столовая</td>\n",
       "      <td>3</td>\n",
       "      <td>2587</td>\n",
       "      <td>0.00</td>\n",
       "    </tr>\n",
       "  </tbody>\n",
       "</table>\n",
       "</div>"
      ],
      "text/plain": [
       "                         object_type  rest_count_chain  rest_count_total  \\\n",
       "0  предприятие быстрого обслуживания               791              1923   \n",
       "1          магазин (отдел кулинарии)                78               273   \n",
       "2                           ресторан               544              2285   \n",
       "3                               кафе              1396              6099   \n",
       "4                         закусочная                56               360   \n",
       "5                          кафетерий                52               398   \n",
       "6                                бар                37               856   \n",
       "7                              буфет                11               585   \n",
       "8                           столовая                 3              2587   \n",
       "\n",
       "   rest_chain_share  \n",
       "0              0.41  \n",
       "1              0.29  \n",
       "2              0.24  \n",
       "3              0.23  \n",
       "4              0.16  \n",
       "5              0.13  \n",
       "6              0.04  \n",
       "7              0.02  \n",
       "8              0.00  "
      ]
     },
     "execution_count": 12,
     "metadata": {},
     "output_type": "execute_result"
    }
   ],
   "source": [
    "rest_type_count_total = (\n",
    "    df.groupby('object_type')['id'].count()\n",
    "    .to_frame()\n",
    "    .rename(columns={'id': 'rest_count_total'})\n",
    ")\n",
    "\n",
    "rest_type_chain_count = (\n",
    "    df[df['chain'] == 1]\n",
    "    .groupby('object_type')['id'].count()\n",
    "    .to_frame()\n",
    "    .rename(columns={'id': 'rest_count_chain'})\n",
    ")\n",
    "\n",
    "rest_type_chain_share = (\n",
    "    rest_type_chain_count.merge(rest_type_count_total, on='object_type')\n",
    "    .assign(rest_chain_share = lambda x: (x['rest_count_chain'] / x['rest_count_total']).round(2))\n",
    "    .sort_values(by='rest_chain_share', ascending=False)\n",
    "    .reset_index()\n",
    ")\n",
    "\n",
    "rest_type_chain_share"
   ]
  },
  {
   "cell_type": "markdown",
   "metadata": {},
   "source": [
    "**Вывод**\n",
    "\n",
    "1. 41% предприятий фасфуда являються сетевыми.\n",
    "2. Практически равномерное распределение в категории сетевые заведения в 29%, 24% и 23% имеют объекты клинарии, рестораны и кафе соответсвенно.\n",
    "3. Сетевое распространение не характерно для баров, буфетов и столовых - доля указанных заведений в сети стремиться к нулю. "
   ]
  },
  {
   "cell_type": "code",
   "execution_count": 13,
   "metadata": {},
   "outputs": [
    {
     "data": {
      "image/png": "[encoded data removed]",
      "text/plain": [
       "<Figure size 864x576 with 1 Axes>"
      ]
     },
     "metadata": {},
     "output_type": "display_data"
    }
   ],
   "source": [
    "sns.barplot(data=rest_type_chain_share, x='object_type', y='rest_chain_share')\n",
    "plt.xticks(rotation=90)\n",
    "plt.title('Виды объектов общественного питания с характерным сетевым распространение', fontsize=17)\n",
    "plt.text(0.5, 0.405, 'Доминирование предприятий фастфуда')\n",
    "plt.text(0.7, 0.305, 'Практически равномерное распределение')\n",
    "plt.show()"
   ]
  },
  {
   "cell_type": "markdown",
   "metadata": {},
   "source": [
    "**Вывод**\n",
    "\n",
    "На графике отмечено предобладание предприятий фастфуда, как типа сетевого заведения и равномерное распределение среди кулинарий, ресторанов и кафе, как сетевых объектов общественного питания. Доля баров, буфетов и столовых, как сетевых объектов, близка к нулю."
   ]
  },
  {
   "cell_type": "markdown",
   "metadata": {},
   "source": [
    "### Что характерно для сетевых заведений: много заведений с небольшим числом посадочных мест в каждом или мало заведений с большим количеством посадочных мест? Для каждого вида объекта общественного питания опишите среднее количество посадочных мест. Какой вид предоставляет в среднем самое большое количество посадочных мест? "
   ]
  },
  {
   "cell_type": "code",
   "execution_count": 14,
   "metadata": {},
   "outputs": [
    {
     "data": {
      "text/html": [
       "<div>\n",
       "<style scoped>\n",
       "    .dataframe tbody tr th:only-of-type {\n",
       "        vertical-align: middle;\n",
       "    }\n",
       "\n",
       "    .dataframe tbody tr th {\n",
       "        vertical-align: top;\n",
       "    }\n",
       "\n",
       "    .dataframe thead th {\n",
       "        text-align: right;\n",
       "    }\n",
       "</style>\n",
       "<table border=\"1\" class=\"dataframe\">\n",
       "  <thead>\n",
       "    <tr style=\"text-align: right;\">\n",
       "      <th></th>\n",
       "      <th>object_type</th>\n",
       "      <th>chain_rest_count</th>\n",
       "      <th>seats_mean</th>\n",
       "    </tr>\n",
       "  </thead>\n",
       "  <tbody>\n",
       "    <tr>\n",
       "      <th>0</th>\n",
       "      <td>столовая</td>\n",
       "      <td>3</td>\n",
       "      <td>112</td>\n",
       "    </tr>\n",
       "    <tr>\n",
       "      <th>1</th>\n",
       "      <td>ресторан</td>\n",
       "      <td>544</td>\n",
       "      <td>100</td>\n",
       "    </tr>\n",
       "    <tr>\n",
       "      <th>2</th>\n",
       "      <td>бар</td>\n",
       "      <td>37</td>\n",
       "      <td>53</td>\n",
       "    </tr>\n",
       "    <tr>\n",
       "      <th>3</th>\n",
       "      <td>кафе</td>\n",
       "      <td>1396</td>\n",
       "      <td>47</td>\n",
       "    </tr>\n",
       "    <tr>\n",
       "      <th>4</th>\n",
       "      <td>предприятие быстрого обслуживания</td>\n",
       "      <td>791</td>\n",
       "      <td>40</td>\n",
       "    </tr>\n",
       "    <tr>\n",
       "      <th>5</th>\n",
       "      <td>закусочная</td>\n",
       "      <td>56</td>\n",
       "      <td>14</td>\n",
       "    </tr>\n",
       "    <tr>\n",
       "      <th>6</th>\n",
       "      <td>буфет</td>\n",
       "      <td>11</td>\n",
       "      <td>13</td>\n",
       "    </tr>\n",
       "    <tr>\n",
       "      <th>7</th>\n",
       "      <td>кафетерий</td>\n",
       "      <td>52</td>\n",
       "      <td>12</td>\n",
       "    </tr>\n",
       "    <tr>\n",
       "      <th>8</th>\n",
       "      <td>магазин (отдел кулинарии)</td>\n",
       "      <td>78</td>\n",
       "      <td>9</td>\n",
       "    </tr>\n",
       "  </tbody>\n",
       "</table>\n",
       "</div>"
      ],
      "text/plain": [
       "                         object_type  chain_rest_count  seats_mean\n",
       "0                           столовая                 3         112\n",
       "1                           ресторан               544         100\n",
       "2                                бар                37          53\n",
       "3                               кафе              1396          47\n",
       "4  предприятие быстрого обслуживания               791          40\n",
       "5                         закусочная                56          14\n",
       "6                              буфет                11          13\n",
       "7                          кафетерий                52          12\n",
       "8          магазин (отдел кулинарии)                78           9"
      ]
     },
     "execution_count": 14,
     "metadata": {},
     "output_type": "execute_result"
    }
   ],
   "source": [
    "rest_chain_type_seats = (\n",
    "    df[df['chain'] == 1]\n",
    "    .groupby('object_type').agg({'id': 'count', 'number': 'mean'})\n",
    "    .rename(columns={'id': 'chain_rest_count', 'number': 'seats_mean'})   \n",
    "    .round()\n",
    "    .astype(int)\n",
    "    .sort_values('seats_mean', ascending=False)\n",
    "    .reset_index()\n",
    ")\n",
    "rest_chain_type_seats"
   ]
  },
  {
   "cell_type": "markdown",
   "metadata": {},
   "source": [
    "**Вывод**\n",
    "\n",
    "Явного паттерна по количеству заведений и среднему количеству посадочных мест для сетевых завелений выявить не представляеться возможным. \n",
    "\n",
    "Так, сетевые столовые представлены в количенстве трех заведений, при этом среднее количество посадочных мест составляет 112, в то же время сопоставимые по количеству средних посадочных мест на заведение - 100, сетевые рестораны имеют 544 заведения.\n",
    "\n",
    "Кафе, - 1396 сетевых заведения имеют в среднем 47 посадочных мест, а сетевые бары, со среднем сопоставимым с кафе количеством посадочных мест в 53 имеют лишь 37 заведния."
   ]
  },
  {
   "cell_type": "code",
   "execution_count": 15,
   "metadata": {},
   "outputs": [
    {
     "data": {
      "image/png": "[encoded data removed]",
      "text/plain": [
       "<Figure size 864x576 with 1 Axes>"
      ]
     },
     "metadata": {},
     "output_type": "display_data"
    }
   ],
   "source": [
    "sns.lineplot(data=rest_chain_type_seats, x='seats_mean', y='chain_rest_count')\n",
    "plt.title('Отношение количества сетевых заведений к среднему количеству посадочных мест в них', fontsize=17)\n",
    "plt.text(47, 1410, 'кафе')\n",
    "plt.text(14, 10, 'отдел кулинарии')\n",
    "plt.text(30, 810, 'фастфуд')\n",
    "plt.text(55, 10, 'бар')\n",
    "plt.text(100, 570, 'ресторан')\n",
    "plt.text(112, 10, 'столовая')\n",
    "plt.show()"
   ]
  },
  {
   "cell_type": "markdown",
   "metadata": {},
   "source": [
    "**Вывод**\n",
    "\n",
    "На графике представлена соотношение количества заведений в сети и среднего количества посадочных мест.\n",
    "\n",
    "Так, при увеличении количества заведений в сети, до определенного уровня, растет и среднее количество посадочных мест, что характерно для предприятий фастфуда, кафе и ресторанов.\n",
    "\n",
    "В то же время, для кунирий, баров и столовых не характерно увеличение количества заведений в сети, размер среднего количество мест определяеться изначальным планом рассадки клиентов."
   ]
  },
  {
   "cell_type": "code",
   "execution_count": 16,
   "metadata": {
    "scrolled": false
   },
   "outputs": [
    {
     "data": {
      "text/html": [
       "<div>\n",
       "<style scoped>\n",
       "    .dataframe tbody tr th:only-of-type {\n",
       "        vertical-align: middle;\n",
       "    }\n",
       "\n",
       "    .dataframe tbody tr th {\n",
       "        vertical-align: top;\n",
       "    }\n",
       "\n",
       "    .dataframe thead th {\n",
       "        text-align: right;\n",
       "    }\n",
       "</style>\n",
       "<table border=\"1\" class=\"dataframe\">\n",
       "  <thead>\n",
       "    <tr style=\"text-align: right;\">\n",
       "      <th></th>\n",
       "      <th>object_name</th>\n",
       "      <th>object_type</th>\n",
       "      <th>rest_count</th>\n",
       "      <th>seats_sum</th>\n",
       "      <th>rest_chain_category</th>\n",
       "      <th>rest_chain_seats_category</th>\n",
       "    </tr>\n",
       "  </thead>\n",
       "  <tbody>\n",
       "    <tr>\n",
       "      <th>0</th>\n",
       "      <td>шоколадница</td>\n",
       "      <td>кафе</td>\n",
       "      <td>150</td>\n",
       "      <td>8448</td>\n",
       "      <td>много заведений</td>\n",
       "      <td>много мест</td>\n",
       "    </tr>\n",
       "    <tr>\n",
       "      <th>1</th>\n",
       "      <td>макдоналдс</td>\n",
       "      <td>предприятие быстрого обслуживания</td>\n",
       "      <td>103</td>\n",
       "      <td>9637</td>\n",
       "      <td>много заведений</td>\n",
       "      <td>много мест</td>\n",
       "    </tr>\n",
       "    <tr>\n",
       "      <th>2</th>\n",
       "      <td>kfc</td>\n",
       "      <td>предприятие быстрого обслуживания</td>\n",
       "      <td>99</td>\n",
       "      <td>5926</td>\n",
       "      <td>много заведений</td>\n",
       "      <td>много мест</td>\n",
       "    </tr>\n",
       "    <tr>\n",
       "      <th>3</th>\n",
       "      <td>бургер кинг</td>\n",
       "      <td>предприятие быстрого обслуживания</td>\n",
       "      <td>93</td>\n",
       "      <td>4404</td>\n",
       "      <td>много заведений</td>\n",
       "      <td>много мест</td>\n",
       "    </tr>\n",
       "    <tr>\n",
       "      <th>4</th>\n",
       "      <td>крошка картошка</td>\n",
       "      <td>предприятие быстрого обслуживания</td>\n",
       "      <td>58</td>\n",
       "      <td>1359</td>\n",
       "      <td>много заведений</td>\n",
       "      <td>много мест</td>\n",
       "    </tr>\n",
       "    <tr>\n",
       "      <th>5</th>\n",
       "      <td>теремок</td>\n",
       "      <td>предприятие быстрого обслуживания</td>\n",
       "      <td>55</td>\n",
       "      <td>1439</td>\n",
       "      <td>много заведений</td>\n",
       "      <td>много мест</td>\n",
       "    </tr>\n",
       "    <tr>\n",
       "      <th>6</th>\n",
       "      <td>домино'с пицца</td>\n",
       "      <td>кафе</td>\n",
       "      <td>51</td>\n",
       "      <td>888</td>\n",
       "      <td>много заведений</td>\n",
       "      <td>много мест</td>\n",
       "    </tr>\n",
       "    <tr>\n",
       "      <th>7</th>\n",
       "      <td>додо пицца</td>\n",
       "      <td>кафе</td>\n",
       "      <td>37</td>\n",
       "      <td>1243</td>\n",
       "      <td>много заведений</td>\n",
       "      <td>много мест</td>\n",
       "    </tr>\n",
       "    <tr>\n",
       "      <th>8</th>\n",
       "      <td>чайхона №1</td>\n",
       "      <td>ресторан</td>\n",
       "      <td>37</td>\n",
       "      <td>6000</td>\n",
       "      <td>много заведений</td>\n",
       "      <td>много мест</td>\n",
       "    </tr>\n",
       "    <tr>\n",
       "      <th>9</th>\n",
       "      <td>суши wok</td>\n",
       "      <td>кафе</td>\n",
       "      <td>35</td>\n",
       "      <td>283</td>\n",
       "      <td>много заведений</td>\n",
       "      <td>много мест</td>\n",
       "    </tr>\n",
       "  </tbody>\n",
       "</table>\n",
       "</div>"
      ],
      "text/plain": [
       "       object_name                        object_type  rest_count  seats_sum  \\\n",
       "0      шоколадница                               кафе         150       8448   \n",
       "1       макдоналдс  предприятие быстрого обслуживания         103       9637   \n",
       "2              kfc  предприятие быстрого обслуживания          99       5926   \n",
       "3      бургер кинг  предприятие быстрого обслуживания          93       4404   \n",
       "4  крошка картошка  предприятие быстрого обслуживания          58       1359   \n",
       "5          теремок  предприятие быстрого обслуживания          55       1439   \n",
       "6   домино'с пицца                               кафе          51        888   \n",
       "7       додо пицца                               кафе          37       1243   \n",
       "8       чайхона №1                           ресторан          37       6000   \n",
       "9         суши wok                               кафе          35        283   \n",
       "\n",
       "  rest_chain_category rest_chain_seats_category  \n",
       "0     много заведений                много мест  \n",
       "1     много заведений                много мест  \n",
       "2     много заведений                много мест  \n",
       "3     много заведений                много мест  \n",
       "4     много заведений                много мест  \n",
       "5     много заведений                много мест  \n",
       "6     много заведений                много мест  \n",
       "7     много заведений                много мест  \n",
       "8     много заведений                много мест  \n",
       "9     много заведений                много мест  "
      ]
     },
     "execution_count": 16,
     "metadata": {},
     "output_type": "execute_result"
    }
   ],
   "source": [
    "df.object_name = df.object_name.str.lower().str.strip()\n",
    "\n",
    "rest_chain = (\n",
    "    df[df['chain'] == 1]\n",
    "    .groupby(['object_name', 'object_type']).agg({'object_name': 'count', 'number': 'sum'})\n",
    "    .rename(columns={'object_name': 'rest_count', 'number': 'seats_sum'})\n",
    "    .sort_values('rest_count', ascending=False)\n",
    "    .query('rest_count > 2')\n",
    "    .reset_index()\n",
    ")\n",
    "\n",
    "\n",
    "#df['binned'] = pd.cut(df['percentage'], bins=bins, labels=labels)\n",
    "\n",
    "rest_chain['rest_chain_category'] = (\n",
    "    pd.cut(rest_chain['rest_count'], \n",
    "           bins=[0, 5, 150], \n",
    "           labels=['мало заведений', 'много заведений'])\n",
    ")\n",
    "\n",
    "rest_chain['rest_chain_seats_category'] = (\n",
    "    pd.cut(rest_chain['seats_sum'],\n",
    "           bins=[0, 208, 9637],\n",
    "          labels=['мало мест', 'много мест'])\n",
    ")\n",
    "\n",
    "rest_chain.head(10)"
   ]
  },
  {
   "cell_type": "markdown",
   "metadata": {},
   "source": [
    "**Вывод**\n",
    "\n",
    "Представленная группировка данных позволяет путем применения фильтров определять количество заведений в сети и суммарное количество посадочных мест в сети, как для типа заведения общественного питания, так и для конкретной сети объекта.\n",
    "\n",
    "Например,"
   ]
  },
  {
   "cell_type": "code",
   "execution_count": 17,
   "metadata": {},
   "outputs": [
    {
     "data": {
      "text/html": [
       "<div>\n",
       "<style scoped>\n",
       "    .dataframe tbody tr th:only-of-type {\n",
       "        vertical-align: middle;\n",
       "    }\n",
       "\n",
       "    .dataframe tbody tr th {\n",
       "        vertical-align: top;\n",
       "    }\n",
       "\n",
       "    .dataframe thead th {\n",
       "        text-align: right;\n",
       "    }\n",
       "</style>\n",
       "<table border=\"1\" class=\"dataframe\">\n",
       "  <thead>\n",
       "    <tr style=\"text-align: right;\">\n",
       "      <th></th>\n",
       "      <th>object_type</th>\n",
       "      <th>rest_count</th>\n",
       "      <th>seats_sum</th>\n",
       "      <th>rest_shart</th>\n",
       "      <th>seats_mean</th>\n",
       "    </tr>\n",
       "  </thead>\n",
       "  <tbody>\n",
       "    <tr>\n",
       "      <th>0</th>\n",
       "      <td>кафе</td>\n",
       "      <td>1119</td>\n",
       "      <td>52989</td>\n",
       "      <td>0.49</td>\n",
       "      <td>47</td>\n",
       "    </tr>\n",
       "    <tr>\n",
       "      <th>1</th>\n",
       "      <td>предприятие быстрого обслуживания</td>\n",
       "      <td>677</td>\n",
       "      <td>27986</td>\n",
       "      <td>0.30</td>\n",
       "      <td>41</td>\n",
       "    </tr>\n",
       "    <tr>\n",
       "      <th>2</th>\n",
       "      <td>ресторан</td>\n",
       "      <td>345</td>\n",
       "      <td>35058</td>\n",
       "      <td>0.15</td>\n",
       "      <td>101</td>\n",
       "    </tr>\n",
       "    <tr>\n",
       "      <th>3</th>\n",
       "      <td>магазин (отдел кулинарии)</td>\n",
       "      <td>62</td>\n",
       "      <td>450</td>\n",
       "      <td>0.03</td>\n",
       "      <td>7</td>\n",
       "    </tr>\n",
       "    <tr>\n",
       "      <th>4</th>\n",
       "      <td>закусочная</td>\n",
       "      <td>30</td>\n",
       "      <td>444</td>\n",
       "      <td>0.01</td>\n",
       "      <td>14</td>\n",
       "    </tr>\n",
       "    <tr>\n",
       "      <th>5</th>\n",
       "      <td>кафетерий</td>\n",
       "      <td>23</td>\n",
       "      <td>76</td>\n",
       "      <td>0.01</td>\n",
       "      <td>3</td>\n",
       "    </tr>\n",
       "    <tr>\n",
       "      <th>6</th>\n",
       "      <td>бар</td>\n",
       "      <td>3</td>\n",
       "      <td>108</td>\n",
       "      <td>0.00</td>\n",
       "      <td>36</td>\n",
       "    </tr>\n",
       "    <tr>\n",
       "      <th>7</th>\n",
       "      <td>буфет</td>\n",
       "      <td>3</td>\n",
       "      <td>0</td>\n",
       "      <td>0.00</td>\n",
       "      <td>0</td>\n",
       "    </tr>\n",
       "  </tbody>\n",
       "</table>\n",
       "</div>"
      ],
      "text/plain": [
       "                         object_type  rest_count  seats_sum  rest_shart  \\\n",
       "0                               кафе        1119      52989        0.49   \n",
       "1  предприятие быстрого обслуживания         677      27986        0.30   \n",
       "2                           ресторан         345      35058        0.15   \n",
       "3          магазин (отдел кулинарии)          62        450        0.03   \n",
       "4                         закусочная          30        444        0.01   \n",
       "5                          кафетерий          23         76        0.01   \n",
       "6                                бар           3        108        0.00   \n",
       "7                              буфет           3          0        0.00   \n",
       "\n",
       "   seats_mean  \n",
       "0          47  \n",
       "1          41  \n",
       "2         101  \n",
       "3           7  \n",
       "4          14  \n",
       "5           3  \n",
       "6          36  \n",
       "7           0  "
      ]
     },
     "execution_count": 17,
     "metadata": {},
     "output_type": "execute_result"
    }
   ],
   "source": [
    "(\n",
    "    rest_chain.groupby('object_type')\n",
    "    .agg({'rest_count': 'sum', 'seats_sum': 'sum'})\n",
    "    .sort_values('rest_count', ascending=False)\n",
    "    .assign(rest_shart = lambda x: (x['rest_count'] / x['rest_count'].sum()).round(2))\n",
    "    .assign(seats_mean = lambda x: (x['seats_sum'] / x['rest_count']).astype(int))\n",
    "    .reset_index()\n",
    ")"
   ]
  },
  {
   "cell_type": "markdown",
   "metadata": {},
   "source": [
    "Итого, лидером сетевых заведений являеться тип кафе. В данных тип заведения представлен в количестве 1119 заведений (49% рынка сетевых заведений), суммарно 52989 мест, со среднем количиством мест на одно заведение 47.\n",
    "\n",
    "Меньше всего баров и буфетов, среди сетевых завелений - по 3. При этом будет посадочных мест не имеет, а бары имеют суммарно 108 посадочных мест по 36 в каждом баре в среднем.\n",
    "\n",
    "Или например,"
   ]
  },
  {
   "cell_type": "code",
   "execution_count": 18,
   "metadata": {},
   "outputs": [
    {
     "data": {
      "text/html": [
       "<div>\n",
       "<style scoped>\n",
       "    .dataframe tbody tr th:only-of-type {\n",
       "        vertical-align: middle;\n",
       "    }\n",
       "\n",
       "    .dataframe tbody tr th {\n",
       "        vertical-align: top;\n",
       "    }\n",
       "\n",
       "    .dataframe thead th {\n",
       "        text-align: right;\n",
       "    }\n",
       "</style>\n",
       "<table border=\"1\" class=\"dataframe\">\n",
       "  <thead>\n",
       "    <tr style=\"text-align: right;\">\n",
       "      <th></th>\n",
       "      <th>object_name</th>\n",
       "      <th>object_type</th>\n",
       "      <th>rest_count</th>\n",
       "      <th>seats_sum</th>\n",
       "      <th>rest_chain_category</th>\n",
       "      <th>rest_chain_seats_category</th>\n",
       "    </tr>\n",
       "  </thead>\n",
       "  <tbody>\n",
       "    <tr>\n",
       "      <th>0</th>\n",
       "      <td>шоколадница</td>\n",
       "      <td>кафе</td>\n",
       "      <td>150</td>\n",
       "      <td>8448</td>\n",
       "      <td>много заведений</td>\n",
       "      <td>много мест</td>\n",
       "    </tr>\n",
       "    <tr>\n",
       "      <th>95</th>\n",
       "      <td>шоколадница</td>\n",
       "      <td>ресторан</td>\n",
       "      <td>5</td>\n",
       "      <td>340</td>\n",
       "      <td>мало заведений</td>\n",
       "      <td>много мест</td>\n",
       "    </tr>\n",
       "  </tbody>\n",
       "</table>\n",
       "</div>"
      ],
      "text/plain": [
       "    object_name object_type  rest_count  seats_sum rest_chain_category  \\\n",
       "0   шоколадница        кафе         150       8448     много заведений   \n",
       "95  шоколадница    ресторан           5        340      мало заведений   \n",
       "\n",
       "   rest_chain_seats_category  \n",
       "0                 много мест  \n",
       "95                много мест  "
      ]
     },
     "execution_count": 18,
     "metadata": {},
     "output_type": "execute_result"
    }
   ],
   "source": [
    "rest_chain[rest_chain['object_name'] == 'шоколадница']"
   ]
  },
  {
   "cell_type": "markdown",
   "metadata": {},
   "source": [
    "Сеть \"Шоколадница\", представлены, как виде кафе (150 заведений с 8448 посадочными местами суммарно), так и в виде ресторана (5 объектов на 340 мест суммарно).\n",
    "\n",
    "Таким образом, в зависимости от технического задания заказчика представляеться возможным сформировать тренд, как по видам объектов общественного питания, так и по конкретной сети."
   ]
  },
  {
   "cell_type": "code",
   "execution_count": 19,
   "metadata": {},
   "outputs": [
    {
     "data": {
      "image/png": "[encoded data removed]",
      "text/plain": [
       "<Figure size 864x576 with 1 Axes>"
      ]
     },
     "metadata": {},
     "output_type": "display_data"
    }
   ],
   "source": [
    "sns.scatterplot(data=rest_chain, x='seats_sum', y='rest_count', hue='object_type')\n",
    "plt.show()"
   ]
  },
  {
   "cell_type": "markdown",
   "metadata": {},
   "source": [
    "**Вывод**\n",
    "\n",
    "На графике представлены соотношения количества посадочных мест суммарно к количнеству сетевых объектов общественного питания по типу.\n",
    "\n",
    "Так, большинство заведений группируються около нуля, то есть имеют небольшую сеть с малым количеством посадочных мест. Однако, ряд предприятий фастфуда (не более пяти объектов), кафе (не более четырех объектов) и ресторанов (не более трех объектов) имеют, как значительное количество заведений в сети"
   ]
  },
  {
   "cell_type": "code",
   "execution_count": 20,
   "metadata": {},
   "outputs": [
    {
     "data": {
      "text/html": [
       "<div>\n",
       "<style scoped>\n",
       "    .dataframe tbody tr th:only-of-type {\n",
       "        vertical-align: middle;\n",
       "    }\n",
       "\n",
       "    .dataframe tbody tr th {\n",
       "        vertical-align: top;\n",
       "    }\n",
       "\n",
       "    .dataframe thead th {\n",
       "        text-align: right;\n",
       "    }\n",
       "</style>\n",
       "<table border=\"1\" class=\"dataframe\">\n",
       "  <thead>\n",
       "    <tr style=\"text-align: right;\">\n",
       "      <th></th>\n",
       "      <th>object_name</th>\n",
       "      <th>object_type</th>\n",
       "      <th>rest_count</th>\n",
       "      <th>seats_sum</th>\n",
       "      <th>rest_chain_category</th>\n",
       "      <th>rest_chain_seats_category</th>\n",
       "    </tr>\n",
       "  </thead>\n",
       "  <tbody>\n",
       "    <tr>\n",
       "      <th>17</th>\n",
       "      <td>милти</td>\n",
       "      <td>магазин (отдел кулинарии)</td>\n",
       "      <td>27</td>\n",
       "      <td>26</td>\n",
       "      <td>много заведений</td>\n",
       "      <td>мало мест</td>\n",
       "    </tr>\n",
       "    <tr>\n",
       "      <th>18</th>\n",
       "      <td>милти</td>\n",
       "      <td>предприятие быстрого обслуживания</td>\n",
       "      <td>27</td>\n",
       "      <td>14</td>\n",
       "      <td>много заведений</td>\n",
       "      <td>мало мест</td>\n",
       "    </tr>\n",
       "    <tr>\n",
       "      <th>28</th>\n",
       "      <td>суши wok</td>\n",
       "      <td>предприятие быстрого обслуживания</td>\n",
       "      <td>22</td>\n",
       "      <td>122</td>\n",
       "      <td>много заведений</td>\n",
       "      <td>мало мест</td>\n",
       "    </tr>\n",
       "    <tr>\n",
       "      <th>30</th>\n",
       "      <td>кофе с собой</td>\n",
       "      <td>предприятие быстрого обслуживания</td>\n",
       "      <td>21</td>\n",
       "      <td>6</td>\n",
       "      <td>много заведений</td>\n",
       "      <td>мало мест</td>\n",
       "    </tr>\n",
       "    <tr>\n",
       "      <th>35</th>\n",
       "      <td>папа джонс</td>\n",
       "      <td>предприятие быстрого обслуживания</td>\n",
       "      <td>17</td>\n",
       "      <td>181</td>\n",
       "      <td>много заведений</td>\n",
       "      <td>мало мест</td>\n",
       "    </tr>\n",
       "    <tr>\n",
       "      <th>41</th>\n",
       "      <td>cofix</td>\n",
       "      <td>кафе</td>\n",
       "      <td>12</td>\n",
       "      <td>150</td>\n",
       "      <td>много заведений</td>\n",
       "      <td>мало мест</td>\n",
       "    </tr>\n",
       "    <tr>\n",
       "      <th>45</th>\n",
       "      <td>кофе с собой</td>\n",
       "      <td>кафетерий</td>\n",
       "      <td>11</td>\n",
       "      <td>16</td>\n",
       "      <td>много заведений</td>\n",
       "      <td>мало мест</td>\n",
       "    </tr>\n",
       "    <tr>\n",
       "      <th>47</th>\n",
       "      <td>кофе с собой</td>\n",
       "      <td>кафе</td>\n",
       "      <td>11</td>\n",
       "      <td>14</td>\n",
       "      <td>много заведений</td>\n",
       "      <td>мало мест</td>\n",
       "    </tr>\n",
       "    <tr>\n",
       "      <th>49</th>\n",
       "      <td>сабвей</td>\n",
       "      <td>предприятие быстрого обслуживания</td>\n",
       "      <td>10</td>\n",
       "      <td>161</td>\n",
       "      <td>много заведений</td>\n",
       "      <td>мало мест</td>\n",
       "    </tr>\n",
       "    <tr>\n",
       "      <th>50</th>\n",
       "      <td>суши wok</td>\n",
       "      <td>магазин (отдел кулинарии)</td>\n",
       "      <td>10</td>\n",
       "      <td>57</td>\n",
       "      <td>много заведений</td>\n",
       "      <td>мало мест</td>\n",
       "    </tr>\n",
       "    <tr>\n",
       "      <th>51</th>\n",
       "      <td>cofix</td>\n",
       "      <td>кафетерий</td>\n",
       "      <td>9</td>\n",
       "      <td>56</td>\n",
       "      <td>много заведений</td>\n",
       "      <td>мало мест</td>\n",
       "    </tr>\n",
       "    <tr>\n",
       "      <th>52</th>\n",
       "      <td>милти</td>\n",
       "      <td>кафе</td>\n",
       "      <td>9</td>\n",
       "      <td>56</td>\n",
       "      <td>много заведений</td>\n",
       "      <td>мало мест</td>\n",
       "    </tr>\n",
       "    <tr>\n",
       "      <th>53</th>\n",
       "      <td>волконский</td>\n",
       "      <td>кафе</td>\n",
       "      <td>9</td>\n",
       "      <td>143</td>\n",
       "      <td>много заведений</td>\n",
       "      <td>мало мест</td>\n",
       "    </tr>\n",
       "    <tr>\n",
       "      <th>54</th>\n",
       "      <td>subway</td>\n",
       "      <td>кафе</td>\n",
       "      <td>9</td>\n",
       "      <td>165</td>\n",
       "      <td>много заведений</td>\n",
       "      <td>мало мест</td>\n",
       "    </tr>\n",
       "    <tr>\n",
       "      <th>55</th>\n",
       "      <td>сабвей</td>\n",
       "      <td>кафе</td>\n",
       "      <td>9</td>\n",
       "      <td>158</td>\n",
       "      <td>много заведений</td>\n",
       "      <td>мало мест</td>\n",
       "    </tr>\n",
       "    <tr>\n",
       "      <th>56</th>\n",
       "      <td>домино'с пицца</td>\n",
       "      <td>ресторан</td>\n",
       "      <td>9</td>\n",
       "      <td>167</td>\n",
       "      <td>много заведений</td>\n",
       "      <td>мало мест</td>\n",
       "    </tr>\n",
       "    <tr>\n",
       "      <th>72</th>\n",
       "      <td>французская выпечка</td>\n",
       "      <td>кафе</td>\n",
       "      <td>7</td>\n",
       "      <td>137</td>\n",
       "      <td>много заведений</td>\n",
       "      <td>мало мест</td>\n",
       "    </tr>\n",
       "    <tr>\n",
       "      <th>74</th>\n",
       "      <td>пиццерия «папа джонс»</td>\n",
       "      <td>кафе</td>\n",
       "      <td>7</td>\n",
       "      <td>198</td>\n",
       "      <td>много заведений</td>\n",
       "      <td>мало мест</td>\n",
       "    </tr>\n",
       "    <tr>\n",
       "      <th>75</th>\n",
       "      <td>сушишоп</td>\n",
       "      <td>кафе</td>\n",
       "      <td>7</td>\n",
       "      <td>60</td>\n",
       "      <td>много заведений</td>\n",
       "      <td>мало мест</td>\n",
       "    </tr>\n",
       "    <tr>\n",
       "      <th>76</th>\n",
       "      <td>суши вок</td>\n",
       "      <td>кафе</td>\n",
       "      <td>7</td>\n",
       "      <td>51</td>\n",
       "      <td>много заведений</td>\n",
       "      <td>мало мест</td>\n",
       "    </tr>\n",
       "    <tr>\n",
       "      <th>77</th>\n",
       "      <td>баскин роббинс</td>\n",
       "      <td>предприятие быстрого обслуживания</td>\n",
       "      <td>7</td>\n",
       "      <td>91</td>\n",
       "      <td>много заведений</td>\n",
       "      <td>мало мест</td>\n",
       "    </tr>\n",
       "    <tr>\n",
       "      <th>78</th>\n",
       "      <td>кулинарная лавка братьев караваевых</td>\n",
       "      <td>магазин (отдел кулинарии)</td>\n",
       "      <td>7</td>\n",
       "      <td>184</td>\n",
       "      <td>много заведений</td>\n",
       "      <td>мало мест</td>\n",
       "    </tr>\n",
       "    <tr>\n",
       "      <th>79</th>\n",
       "      <td>krispy creme</td>\n",
       "      <td>кафе</td>\n",
       "      <td>7</td>\n",
       "      <td>157</td>\n",
       "      <td>много заведений</td>\n",
       "      <td>мало мест</td>\n",
       "    </tr>\n",
       "    <tr>\n",
       "      <th>81</th>\n",
       "      <td>теремок</td>\n",
       "      <td>ресторан</td>\n",
       "      <td>6</td>\n",
       "      <td>184</td>\n",
       "      <td>много заведений</td>\n",
       "      <td>мало мест</td>\n",
       "    </tr>\n",
       "    <tr>\n",
       "      <th>84</th>\n",
       "      <td>азбука вкуса</td>\n",
       "      <td>кафе</td>\n",
       "      <td>6</td>\n",
       "      <td>82</td>\n",
       "      <td>много заведений</td>\n",
       "      <td>мало мест</td>\n",
       "    </tr>\n",
       "    <tr>\n",
       "      <th>88</th>\n",
       "      <td>пицца хат</td>\n",
       "      <td>кафе</td>\n",
       "      <td>6</td>\n",
       "      <td>84</td>\n",
       "      <td>много заведений</td>\n",
       "      <td>мало мест</td>\n",
       "    </tr>\n",
       "    <tr>\n",
       "      <th>89</th>\n",
       "      <td>суши сет</td>\n",
       "      <td>кафе</td>\n",
       "      <td>6</td>\n",
       "      <td>86</td>\n",
       "      <td>много заведений</td>\n",
       "      <td>мало мест</td>\n",
       "    </tr>\n",
       "    <tr>\n",
       "      <th>90</th>\n",
       "      <td>братья караваевы</td>\n",
       "      <td>кафе</td>\n",
       "      <td>6</td>\n",
       "      <td>180</td>\n",
       "      <td>много заведений</td>\n",
       "      <td>мало мест</td>\n",
       "    </tr>\n",
       "    <tr>\n",
       "      <th>91</th>\n",
       "      <td>пицца экспресс</td>\n",
       "      <td>кафе</td>\n",
       "      <td>6</td>\n",
       "      <td>184</td>\n",
       "      <td>много заведений</td>\n",
       "      <td>мало мест</td>\n",
       "    </tr>\n",
       "    <tr>\n",
       "      <th>93</th>\n",
       "      <td>теремок</td>\n",
       "      <td>закусочная</td>\n",
       "      <td>6</td>\n",
       "      <td>147</td>\n",
       "      <td>много заведений</td>\n",
       "      <td>мало мест</td>\n",
       "    </tr>\n",
       "  </tbody>\n",
       "</table>\n",
       "</div>"
      ],
      "text/plain": [
       "                            object_name                        object_type  \\\n",
       "17                                милти          магазин (отдел кулинарии)   \n",
       "18                                милти  предприятие быстрого обслуживания   \n",
       "28                             суши wok  предприятие быстрого обслуживания   \n",
       "30                         кофе с собой  предприятие быстрого обслуживания   \n",
       "35                           папа джонс  предприятие быстрого обслуживания   \n",
       "41                                cofix                               кафе   \n",
       "45                         кофе с собой                          кафетерий   \n",
       "47                         кофе с собой                               кафе   \n",
       "49                               сабвей  предприятие быстрого обслуживания   \n",
       "50                             суши wok          магазин (отдел кулинарии)   \n",
       "51                                cofix                          кафетерий   \n",
       "52                                милти                               кафе   \n",
       "53                           волконский                               кафе   \n",
       "54                               subway                               кафе   \n",
       "55                               сабвей                               кафе   \n",
       "56                       домино'с пицца                           ресторан   \n",
       "72                  французская выпечка                               кафе   \n",
       "74                пиццерия «папа джонс»                               кафе   \n",
       "75                              сушишоп                               кафе   \n",
       "76                             суши вок                               кафе   \n",
       "77                       баскин роббинс  предприятие быстрого обслуживания   \n",
       "78  кулинарная лавка братьев караваевых          магазин (отдел кулинарии)   \n",
       "79                         krispy creme                               кафе   \n",
       "81                              теремок                           ресторан   \n",
       "84                         азбука вкуса                               кафе   \n",
       "88                            пицца хат                               кафе   \n",
       "89                             суши сет                               кафе   \n",
       "90                     братья караваевы                               кафе   \n",
       "91                       пицца экспресс                               кафе   \n",
       "93                              теремок                         закусочная   \n",
       "\n",
       "    rest_count  seats_sum rest_chain_category rest_chain_seats_category  \n",
       "17          27         26     много заведений                 мало мест  \n",
       "18          27         14     много заведений                 мало мест  \n",
       "28          22        122     много заведений                 мало мест  \n",
       "30          21          6     много заведений                 мало мест  \n",
       "35          17        181     много заведений                 мало мест  \n",
       "41          12        150     много заведений                 мало мест  \n",
       "45          11         16     много заведений                 мало мест  \n",
       "47          11         14     много заведений                 мало мест  \n",
       "49          10        161     много заведений                 мало мест  \n",
       "50          10         57     много заведений                 мало мест  \n",
       "51           9         56     много заведений                 мало мест  \n",
       "52           9         56     много заведений                 мало мест  \n",
       "53           9        143     много заведений                 мало мест  \n",
       "54           9        165     много заведений                 мало мест  \n",
       "55           9        158     много заведений                 мало мест  \n",
       "56           9        167     много заведений                 мало мест  \n",
       "72           7        137     много заведений                 мало мест  \n",
       "74           7        198     много заведений                 мало мест  \n",
       "75           7         60     много заведений                 мало мест  \n",
       "76           7         51     много заведений                 мало мест  \n",
       "77           7         91     много заведений                 мало мест  \n",
       "78           7        184     много заведений                 мало мест  \n",
       "79           7        157     много заведений                 мало мест  \n",
       "81           6        184     много заведений                 мало мест  \n",
       "84           6         82     много заведений                 мало мест  \n",
       "88           6         84     много заведений                 мало мест  \n",
       "89           6         86     много заведений                 мало мест  \n",
       "90           6        180     много заведений                 мало мест  \n",
       "91           6        184     много заведений                 мало мест  \n",
       "93           6        147     много заведений                 мало мест  "
      ]
     },
     "execution_count": 20,
     "metadata": {},
     "output_type": "execute_result"
    }
   ],
   "source": [
    "rest_chain_many_rest = (\n",
    "    rest_chain[(rest_chain['rest_chain_category'] == 'много заведений') & \n",
    "                   (rest_chain['rest_chain_seats_category'] == 'мало мест')]\n",
    ")\n",
    "\n",
    "rest_chain_many_rest"
   ]
  },
  {
   "cell_type": "markdown",
   "metadata": {},
   "source": [
    "**Вывод**\n",
    "\n",
    "В таблтицы представлены сетевые заведения сгруппированные по признаку \"много заведений - мало мест\". Лидерами, при такой группировке являются сети \"Милти\",  \"Суши WOK\", \"Кофе с собой\", \"Папа Джонс\". Аутсайдерами - \"Пицца Хат\", \"Суши сет\", \"Братья Караваевы\", \"Пицца экспресс\", \"Теремок\"."
   ]
  },
  {
   "cell_type": "code",
   "execution_count": 21,
   "metadata": {
    "scrolled": false
   },
   "outputs": [
    {
     "data": {
      "image/png": "[encoded data removed]",
      "text/plain": [
       "<Figure size 864x576 with 1 Axes>"
      ]
     },
     "metadata": {},
     "output_type": "display_data"
    }
   ],
   "source": [
    "sns.scatterplot(data=rest_chain_many_rest, x='seats_sum', y='rest_count', hue='object_type')\n",
    "plt.title('Сетевые заведния общественного питания в категории \"много заведений - мало мест\"', fontsize=14)\n",
    "plt.show()"
   ]
  },
  {
   "cell_type": "markdown",
   "metadata": {},
   "source": [
    "**Вывод**\n",
    "\n",
    "На графике представлено отношениесумаррного количества посадочных мест к количеству объектов общественного питания в сети с разбивкой по типу заведния, в категории \"много заведений - мало мест\".\n",
    "\n",
    "Итак, больше всего сетевых заведений у сети в категории фастфуд и кулинария, больше всего суммарных посадочных мест у объектов в категории кафе, кулинария, фастфуд."
   ]
  },
  {
   "cell_type": "code",
   "execution_count": 22,
   "metadata": {},
   "outputs": [
    {
     "data": {
      "text/html": [
       "<div>\n",
       "<style scoped>\n",
       "    .dataframe tbody tr th:only-of-type {\n",
       "        vertical-align: middle;\n",
       "    }\n",
       "\n",
       "    .dataframe tbody tr th {\n",
       "        vertical-align: top;\n",
       "    }\n",
       "\n",
       "    .dataframe thead th {\n",
       "        text-align: right;\n",
       "    }\n",
       "</style>\n",
       "<table border=\"1\" class=\"dataframe\">\n",
       "  <thead>\n",
       "    <tr style=\"text-align: right;\">\n",
       "      <th></th>\n",
       "      <th>object_name</th>\n",
       "      <th>object_type</th>\n",
       "      <th>rest_count</th>\n",
       "      <th>seats_sum</th>\n",
       "      <th>rest_chain_category</th>\n",
       "      <th>rest_chain_seats_category</th>\n",
       "    </tr>\n",
       "  </thead>\n",
       "  <tbody>\n",
       "    <tr>\n",
       "      <th>94</th>\n",
       "      <td>кафе «андерсон»</td>\n",
       "      <td>кафе</td>\n",
       "      <td>5</td>\n",
       "      <td>548</td>\n",
       "      <td>мало заведений</td>\n",
       "      <td>много мест</td>\n",
       "    </tr>\n",
       "    <tr>\n",
       "      <th>95</th>\n",
       "      <td>шоколадница</td>\n",
       "      <td>ресторан</td>\n",
       "      <td>5</td>\n",
       "      <td>340</td>\n",
       "      <td>мало заведений</td>\n",
       "      <td>много мест</td>\n",
       "    </tr>\n",
       "    <tr>\n",
       "      <th>97</th>\n",
       "      <td>мимино</td>\n",
       "      <td>кафе</td>\n",
       "      <td>5</td>\n",
       "      <td>284</td>\n",
       "      <td>мало заведений</td>\n",
       "      <td>много мест</td>\n",
       "    </tr>\n",
       "    <tr>\n",
       "      <th>100</th>\n",
       "      <td>вьеткафе</td>\n",
       "      <td>кафе</td>\n",
       "      <td>5</td>\n",
       "      <td>264</td>\n",
       "      <td>мало заведений</td>\n",
       "      <td>много мест</td>\n",
       "    </tr>\n",
       "    <tr>\n",
       "      <th>103</th>\n",
       "      <td>кафе «му-му»</td>\n",
       "      <td>кафе</td>\n",
       "      <td>5</td>\n",
       "      <td>890</td>\n",
       "      <td>мало заведений</td>\n",
       "      <td>много мест</td>\n",
       "    </tr>\n",
       "    <tr>\n",
       "      <th>104</th>\n",
       "      <td>жан жак</td>\n",
       "      <td>кафе</td>\n",
       "      <td>5</td>\n",
       "      <td>338</td>\n",
       "      <td>мало заведений</td>\n",
       "      <td>много мест</td>\n",
       "    </tr>\n",
       "    <tr>\n",
       "      <th>108</th>\n",
       "      <td>ресторан «чайхона №1»</td>\n",
       "      <td>ресторан</td>\n",
       "      <td>5</td>\n",
       "      <td>809</td>\n",
       "      <td>мало заведений</td>\n",
       "      <td>много мест</td>\n",
       "    </tr>\n",
       "    <tr>\n",
       "      <th>109</th>\n",
       "      <td>кафе «теремок»</td>\n",
       "      <td>предприятие быстрого обслуживания</td>\n",
       "      <td>5</td>\n",
       "      <td>271</td>\n",
       "      <td>мало заведений</td>\n",
       "      <td>много мест</td>\n",
       "    </tr>\n",
       "    <tr>\n",
       "      <th>110</th>\n",
       "      <td>гамбринус</td>\n",
       "      <td>ресторан</td>\n",
       "      <td>5</td>\n",
       "      <td>430</td>\n",
       "      <td>мало заведений</td>\n",
       "      <td>много мест</td>\n",
       "    </tr>\n",
       "    <tr>\n",
       "      <th>111</th>\n",
       "      <td>академия</td>\n",
       "      <td>кафе</td>\n",
       "      <td>5</td>\n",
       "      <td>280</td>\n",
       "      <td>мало заведений</td>\n",
       "      <td>много мест</td>\n",
       "    </tr>\n",
       "    <tr>\n",
       "      <th>115</th>\n",
       "      <td>ресторан «иль патио»</td>\n",
       "      <td>ресторан</td>\n",
       "      <td>4</td>\n",
       "      <td>740</td>\n",
       "      <td>мало заведений</td>\n",
       "      <td>много мест</td>\n",
       "    </tr>\n",
       "    <tr>\n",
       "      <th>116</th>\n",
       "      <td>кафе «кружка»</td>\n",
       "      <td>кафе</td>\n",
       "      <td>4</td>\n",
       "      <td>776</td>\n",
       "      <td>мало заведений</td>\n",
       "      <td>много мест</td>\n",
       "    </tr>\n",
       "    <tr>\n",
       "      <th>121</th>\n",
       "      <td>руккола</td>\n",
       "      <td>кафе</td>\n",
       "      <td>4</td>\n",
       "      <td>475</td>\n",
       "      <td>мало заведений</td>\n",
       "      <td>много мест</td>\n",
       "    </tr>\n",
       "    <tr>\n",
       "      <th>124</th>\n",
       "      <td>хинкальная</td>\n",
       "      <td>ресторан</td>\n",
       "      <td>4</td>\n",
       "      <td>254</td>\n",
       "      <td>мало заведений</td>\n",
       "      <td>много мест</td>\n",
       "    </tr>\n",
       "    <tr>\n",
       "      <th>127</th>\n",
       "      <td>ресторан «макдоналдс»</td>\n",
       "      <td>предприятие быстрого обслуживания</td>\n",
       "      <td>4</td>\n",
       "      <td>469</td>\n",
       "      <td>мало заведений</td>\n",
       "      <td>много мест</td>\n",
       "    </tr>\n",
       "    <tr>\n",
       "      <th>129</th>\n",
       "      <td>иль патио</td>\n",
       "      <td>кафе</td>\n",
       "      <td>4</td>\n",
       "      <td>369</td>\n",
       "      <td>мало заведений</td>\n",
       "      <td>много мест</td>\n",
       "    </tr>\n",
       "    <tr>\n",
       "      <th>131</th>\n",
       "      <td>кофейня шоколадница</td>\n",
       "      <td>кафе</td>\n",
       "      <td>4</td>\n",
       "      <td>338</td>\n",
       "      <td>мало заведений</td>\n",
       "      <td>много мест</td>\n",
       "    </tr>\n",
       "    <tr>\n",
       "      <th>132</th>\n",
       "      <td>бургер кинг burger king</td>\n",
       "      <td>предприятие быстрого обслуживания</td>\n",
       "      <td>4</td>\n",
       "      <td>354</td>\n",
       "      <td>мало заведений</td>\n",
       "      <td>много мест</td>\n",
       "    </tr>\n",
       "    <tr>\n",
       "      <th>147</th>\n",
       "      <td>ресторан «урюк»</td>\n",
       "      <td>ресторан</td>\n",
       "      <td>3</td>\n",
       "      <td>550</td>\n",
       "      <td>мало заведений</td>\n",
       "      <td>много мест</td>\n",
       "    </tr>\n",
       "    <tr>\n",
       "      <th>150</th>\n",
       "      <td>джон джоли</td>\n",
       "      <td>кафе</td>\n",
       "      <td>3</td>\n",
       "      <td>390</td>\n",
       "      <td>мало заведений</td>\n",
       "      <td>много мест</td>\n",
       "    </tr>\n",
       "    <tr>\n",
       "      <th>153</th>\n",
       "      <td>де марко</td>\n",
       "      <td>кафе</td>\n",
       "      <td>3</td>\n",
       "      <td>280</td>\n",
       "      <td>мало заведений</td>\n",
       "      <td>много мест</td>\n",
       "    </tr>\n",
       "    <tr>\n",
       "      <th>154</th>\n",
       "      <td>две палочки</td>\n",
       "      <td>ресторан</td>\n",
       "      <td>3</td>\n",
       "      <td>374</td>\n",
       "      <td>мало заведений</td>\n",
       "      <td>много мест</td>\n",
       "    </tr>\n",
       "    <tr>\n",
       "      <th>155</th>\n",
       "      <td>две палочки</td>\n",
       "      <td>кафе</td>\n",
       "      <td>3</td>\n",
       "      <td>290</td>\n",
       "      <td>мало заведений</td>\n",
       "      <td>много мест</td>\n",
       "    </tr>\n",
       "    <tr>\n",
       "      <th>159</th>\n",
       "      <td>гурман</td>\n",
       "      <td>ресторан</td>\n",
       "      <td>3</td>\n",
       "      <td>324</td>\n",
       "      <td>мало заведений</td>\n",
       "      <td>много мест</td>\n",
       "    </tr>\n",
       "    <tr>\n",
       "      <th>161</th>\n",
       "      <td>гудман</td>\n",
       "      <td>ресторан</td>\n",
       "      <td>3</td>\n",
       "      <td>460</td>\n",
       "      <td>мало заведений</td>\n",
       "      <td>много мест</td>\n",
       "    </tr>\n",
       "    <tr>\n",
       "      <th>162</th>\n",
       "      <td>ресторан «макдоналдс»</td>\n",
       "      <td>ресторан</td>\n",
       "      <td>3</td>\n",
       "      <td>597</td>\n",
       "      <td>мало заведений</td>\n",
       "      <td>много мест</td>\n",
       "    </tr>\n",
       "    <tr>\n",
       "      <th>164</th>\n",
       "      <td>ресторан «планета суши»</td>\n",
       "      <td>ресторан</td>\n",
       "      <td>3</td>\n",
       "      <td>360</td>\n",
       "      <td>мало заведений</td>\n",
       "      <td>много мест</td>\n",
       "    </tr>\n",
       "    <tr>\n",
       "      <th>166</th>\n",
       "      <td>сварня</td>\n",
       "      <td>ресторан</td>\n",
       "      <td>3</td>\n",
       "      <td>405</td>\n",
       "      <td>мало заведений</td>\n",
       "      <td>много мест</td>\n",
       "    </tr>\n",
       "    <tr>\n",
       "      <th>167</th>\n",
       "      <td>пронто</td>\n",
       "      <td>кафе</td>\n",
       "      <td>3</td>\n",
       "      <td>330</td>\n",
       "      <td>мало заведений</td>\n",
       "      <td>много мест</td>\n",
       "    </tr>\n",
       "    <tr>\n",
       "      <th>168</th>\n",
       "      <td>ресторан «брудер»</td>\n",
       "      <td>ресторан</td>\n",
       "      <td>3</td>\n",
       "      <td>344</td>\n",
       "      <td>мало заведений</td>\n",
       "      <td>много мест</td>\n",
       "    </tr>\n",
       "    <tr>\n",
       "      <th>169</th>\n",
       "      <td>ёрш</td>\n",
       "      <td>ресторан</td>\n",
       "      <td>3</td>\n",
       "      <td>354</td>\n",
       "      <td>мало заведений</td>\n",
       "      <td>много мест</td>\n",
       "    </tr>\n",
       "    <tr>\n",
       "      <th>172</th>\n",
       "      <td>кофе-хаус</td>\n",
       "      <td>кафе</td>\n",
       "      <td>3</td>\n",
       "      <td>227</td>\n",
       "      <td>мало заведений</td>\n",
       "      <td>много мест</td>\n",
       "    </tr>\n",
       "    <tr>\n",
       "      <th>173</th>\n",
       "      <td>андерсон</td>\n",
       "      <td>ресторан</td>\n",
       "      <td>3</td>\n",
       "      <td>429</td>\n",
       "      <td>мало заведений</td>\n",
       "      <td>много мест</td>\n",
       "    </tr>\n",
       "    <tr>\n",
       "      <th>181</th>\n",
       "      <td>маки-маки</td>\n",
       "      <td>кафе</td>\n",
       "      <td>3</td>\n",
       "      <td>245</td>\n",
       "      <td>мало заведений</td>\n",
       "      <td>много мест</td>\n",
       "    </tr>\n",
       "    <tr>\n",
       "      <th>183</th>\n",
       "      <td>порто мальтезе</td>\n",
       "      <td>ресторан</td>\n",
       "      <td>3</td>\n",
       "      <td>241</td>\n",
       "      <td>мало заведений</td>\n",
       "      <td>много мест</td>\n",
       "    </tr>\n",
       "    <tr>\n",
       "      <th>192</th>\n",
       "      <td>нияма</td>\n",
       "      <td>ресторан</td>\n",
       "      <td>3</td>\n",
       "      <td>266</td>\n",
       "      <td>мало заведений</td>\n",
       "      <td>много мест</td>\n",
       "    </tr>\n",
       "    <tr>\n",
       "      <th>203</th>\n",
       "      <td>вареничная №1</td>\n",
       "      <td>ресторан</td>\n",
       "      <td>3</td>\n",
       "      <td>218</td>\n",
       "      <td>мало заведений</td>\n",
       "      <td>много мест</td>\n",
       "    </tr>\n",
       "    <tr>\n",
       "      <th>204</th>\n",
       "      <td>космик</td>\n",
       "      <td>кафе</td>\n",
       "      <td>3</td>\n",
       "      <td>486</td>\n",
       "      <td>мало заведений</td>\n",
       "      <td>много мест</td>\n",
       "    </tr>\n",
       "    <tr>\n",
       "      <th>205</th>\n",
       "      <td>кафе пронто</td>\n",
       "      <td>кафе</td>\n",
       "      <td>3</td>\n",
       "      <td>633</td>\n",
       "      <td>мало заведений</td>\n",
       "      <td>много мест</td>\n",
       "    </tr>\n",
       "    <tr>\n",
       "      <th>206</th>\n",
       "      <td>территория</td>\n",
       "      <td>ресторан</td>\n",
       "      <td>3</td>\n",
       "      <td>280</td>\n",
       "      <td>мало заведений</td>\n",
       "      <td>много мест</td>\n",
       "    </tr>\n",
       "    <tr>\n",
       "      <th>208</th>\n",
       "      <td>тануки</td>\n",
       "      <td>кафе</td>\n",
       "      <td>3</td>\n",
       "      <td>226</td>\n",
       "      <td>мало заведений</td>\n",
       "      <td>много мест</td>\n",
       "    </tr>\n",
       "  </tbody>\n",
       "</table>\n",
       "</div>"
      ],
      "text/plain": [
       "                 object_name                        object_type  rest_count  \\\n",
       "94           кафе «андерсон»                               кафе           5   \n",
       "95               шоколадница                           ресторан           5   \n",
       "97                    мимино                               кафе           5   \n",
       "100                 вьеткафе                               кафе           5   \n",
       "103             кафе «му-му»                               кафе           5   \n",
       "104                  жан жак                               кафе           5   \n",
       "108    ресторан «чайхона №1»                           ресторан           5   \n",
       "109           кафе «теремок»  предприятие быстрого обслуживания           5   \n",
       "110                гамбринус                           ресторан           5   \n",
       "111                 академия                               кафе           5   \n",
       "115     ресторан «иль патио»                           ресторан           4   \n",
       "116            кафе «кружка»                               кафе           4   \n",
       "121                  руккола                               кафе           4   \n",
       "124               хинкальная                           ресторан           4   \n",
       "127    ресторан «макдоналдс»  предприятие быстрого обслуживания           4   \n",
       "129                иль патио                               кафе           4   \n",
       "131      кофейня шоколадница                               кафе           4   \n",
       "132  бургер кинг burger king  предприятие быстрого обслуживания           4   \n",
       "147          ресторан «урюк»                           ресторан           3   \n",
       "150               джон джоли                               кафе           3   \n",
       "153                 де марко                               кафе           3   \n",
       "154              две палочки                           ресторан           3   \n",
       "155              две палочки                               кафе           3   \n",
       "159                   гурман                           ресторан           3   \n",
       "161                   гудман                           ресторан           3   \n",
       "162    ресторан «макдоналдс»                           ресторан           3   \n",
       "164  ресторан «планета суши»                           ресторан           3   \n",
       "166                   сварня                           ресторан           3   \n",
       "167                   пронто                               кафе           3   \n",
       "168        ресторан «брудер»                           ресторан           3   \n",
       "169                      ёрш                           ресторан           3   \n",
       "172                кофе-хаус                               кафе           3   \n",
       "173                 андерсон                           ресторан           3   \n",
       "181                маки-маки                               кафе           3   \n",
       "183           порто мальтезе                           ресторан           3   \n",
       "192                    нияма                           ресторан           3   \n",
       "203            вареничная №1                           ресторан           3   \n",
       "204                   космик                               кафе           3   \n",
       "205              кафе пронто                               кафе           3   \n",
       "206               территория                           ресторан           3   \n",
       "208                   тануки                               кафе           3   \n",
       "\n",
       "     seats_sum rest_chain_category rest_chain_seats_category  \n",
       "94         548      мало заведений                много мест  \n",
       "95         340      мало заведений                много мест  \n",
       "97         284      мало заведений                много мест  \n",
       "100        264      мало заведений                много мест  \n",
       "103        890      мало заведений                много мест  \n",
       "104        338      мало заведений                много мест  \n",
       "108        809      мало заведений                много мест  \n",
       "109        271      мало заведений                много мест  \n",
       "110        430      мало заведений                много мест  \n",
       "111        280      мало заведений                много мест  \n",
       "115        740      мало заведений                много мест  \n",
       "116        776      мало заведений                много мест  \n",
       "121        475      мало заведений                много мест  \n",
       "124        254      мало заведений                много мест  \n",
       "127        469      мало заведений                много мест  \n",
       "129        369      мало заведений                много мест  \n",
       "131        338      мало заведений                много мест  \n",
       "132        354      мало заведений                много мест  \n",
       "147        550      мало заведений                много мест  \n",
       "150        390      мало заведений                много мест  \n",
       "153        280      мало заведений                много мест  \n",
       "154        374      мало заведений                много мест  \n",
       "155        290      мало заведений                много мест  \n",
       "159        324      мало заведений                много мест  \n",
       "161        460      мало заведений                много мест  \n",
       "162        597      мало заведений                много мест  \n",
       "164        360      мало заведений                много мест  \n",
       "166        405      мало заведений                много мест  \n",
       "167        330      мало заведений                много мест  \n",
       "168        344      мало заведений                много мест  \n",
       "169        354      мало заведений                много мест  \n",
       "172        227      мало заведений                много мест  \n",
       "173        429      мало заведений                много мест  \n",
       "181        245      мало заведений                много мест  \n",
       "183        241      мало заведений                много мест  \n",
       "192        266      мало заведений                много мест  \n",
       "203        218      мало заведений                много мест  \n",
       "204        486      мало заведений                много мест  \n",
       "205        633      мало заведений                много мест  \n",
       "206        280      мало заведений                много мест  \n",
       "208        226      мало заведений                много мест  "
      ]
     },
     "execution_count": 22,
     "metadata": {},
     "output_type": "execute_result"
    }
   ],
   "source": [
    "rest_chain_few_rest = (rest_chain[(rest_chain['rest_chain_category'] == 'мало заведений') & \n",
    "                   (rest_chain['rest_chain_seats_category'] == 'много мест')])\n",
    "\n",
    "rest_chain_few_rest"
   ]
  },
  {
   "cell_type": "markdown",
   "metadata": {},
   "source": [
    "**Вывод**\n",
    "\n",
    "Аналогичные расчеты произведены для категории \"мало заведений - много мест\". Так, лидерами списка объявляються Кафе \"Андерсон\", \"Шоколадница\", \"Мимино\", \"Вьеткафе\" и кафе \"Му-Му\", замыкают список - сети \"Нияма\", \"вареничная № 1\", \"Космик\", Кафе \"Пронто\", \"трритори\", \"Тануки\"."
   ]
  },
  {
   "cell_type": "code",
   "execution_count": 23,
   "metadata": {},
   "outputs": [
    {
     "data": {
      "image/png": "[encoded data removed]",
      "text/plain": [
       "<Figure size 864x576 with 1 Axes>"
      ]
     },
     "metadata": {},
     "output_type": "display_data"
    }
   ],
   "source": [
    "sns.scatterplot(data=rest_chain_few_rest, x='seats_sum', y='rest_count', hue='object_type')\n",
    "plt.title('Сетевые заведния общественного питания в категории \"мало заведений - много мест\"', fontsize=14)\n",
    "plt.show()"
   ]
  },
  {
   "cell_type": "markdown",
   "metadata": {},
   "source": [
    "**Вывод**\n",
    "\n",
    "На графике представлены отношения суммарного количества посадочных мест к количеству сетевых объектов общественного питания в категории \"мало заведений - много мест\".\n",
    "\n",
    "Так, больше всего мест и объектов у типа сетевого заведния кафе и рестораны, в меньший степени в категории \"мало заведений - много мест\" представлены предприятия быстрого питания."
   ]
  },
  {
   "cell_type": "code",
   "execution_count": 24,
   "metadata": {
    "scrolled": false
   },
   "outputs": [
    {
     "data": {
      "image/png": "[encoded data removed]",
      "text/plain": [
       "<Figure size 864x576 with 1 Axes>"
      ]
     },
     "metadata": {},
     "output_type": "display_data"
    }
   ],
   "source": [
    "sns.barplot(data=rest_chain_type_seats,  x='seats_mean', y='object_type')\n",
    "plt.xticks(rotation=70)\n",
    "plt.title('Сетевые заведния общественного питания с наибольшим среднем количеством посадочных мест', fontsize=17)\n",
    "plt.show()"
   ]
  },
  {
   "cell_type": "markdown",
   "metadata": {},
   "source": [
    "**Вывод**\n",
    "\n",
    "На графике представлено распределение среденего количества посадочных мест по типам сетевых заведений общественного питания.\n",
    "\n",
    "Так, лидерами отрасли по числу средних посадчных мест на заведение являются столовые и рестораны, аутсайдерами, - закусочные, буфеты, кафетерии и кулинарии."
   ]
  },
  {
   "cell_type": "markdown",
   "metadata": {},
   "source": [
    "### Выделите в отдельный столбец информацию об улице из столбца"
   ]
  },
  {
   "cell_type": "code",
   "execution_count": 25,
   "metadata": {},
   "outputs": [
    {
     "data": {
      "text/html": [
       "<div>\n",
       "<style scoped>\n",
       "    .dataframe tbody tr th:only-of-type {\n",
       "        vertical-align: middle;\n",
       "    }\n",
       "\n",
       "    .dataframe tbody tr th {\n",
       "        vertical-align: top;\n",
       "    }\n",
       "\n",
       "    .dataframe thead th {\n",
       "        text-align: right;\n",
       "    }\n",
       "</style>\n",
       "<table border=\"1\" class=\"dataframe\">\n",
       "  <thead>\n",
       "    <tr style=\"text-align: right;\">\n",
       "      <th></th>\n",
       "      <th>id</th>\n",
       "      <th>object_name</th>\n",
       "      <th>chain</th>\n",
       "      <th>object_type</th>\n",
       "      <th>address</th>\n",
       "      <th>number</th>\n",
       "      <th>street</th>\n",
       "    </tr>\n",
       "  </thead>\n",
       "  <tbody>\n",
       "    <tr>\n",
       "      <th>0</th>\n",
       "      <td>151635</td>\n",
       "      <td>сметана</td>\n",
       "      <td>0</td>\n",
       "      <td>кафе</td>\n",
       "      <td>город Москва, улица Егора Абакумова, дом 9</td>\n",
       "      <td>48</td>\n",
       "      <td>улица Егора Абакумова</td>\n",
       "    </tr>\n",
       "    <tr>\n",
       "      <th>1</th>\n",
       "      <td>77874</td>\n",
       "      <td>родник</td>\n",
       "      <td>0</td>\n",
       "      <td>кафе</td>\n",
       "      <td>город Москва, улица Талалихина, дом 2/1, корпус 1</td>\n",
       "      <td>35</td>\n",
       "      <td>улица Талалихина</td>\n",
       "    </tr>\n",
       "    <tr>\n",
       "      <th>2</th>\n",
       "      <td>24309</td>\n",
       "      <td>кафе «академия»</td>\n",
       "      <td>0</td>\n",
       "      <td>кафе</td>\n",
       "      <td>город Москва, Абельмановская улица, дом 6</td>\n",
       "      <td>95</td>\n",
       "      <td>Абельмановская улица</td>\n",
       "    </tr>\n",
       "    <tr>\n",
       "      <th>3</th>\n",
       "      <td>21894</td>\n",
       "      <td>пиццетория</td>\n",
       "      <td>1</td>\n",
       "      <td>кафе</td>\n",
       "      <td>город Москва, Абрамцевская улица, дом 1</td>\n",
       "      <td>40</td>\n",
       "      <td>Абрамцевская улица</td>\n",
       "    </tr>\n",
       "    <tr>\n",
       "      <th>4</th>\n",
       "      <td>119365</td>\n",
       "      <td>кафе «вишневая метель»</td>\n",
       "      <td>0</td>\n",
       "      <td>кафе</td>\n",
       "      <td>город Москва, Абрамцевская улица, дом 9, корпус 1</td>\n",
       "      <td>50</td>\n",
       "      <td>Абрамцевская улица</td>\n",
       "    </tr>\n",
       "  </tbody>\n",
       "</table>\n",
       "</div>"
      ],
      "text/plain": [
       "       id             object_name  chain object_type  \\\n",
       "0  151635                 сметана      0        кафе   \n",
       "1   77874                  родник      0        кафе   \n",
       "2   24309         кафе «академия»      0        кафе   \n",
       "3   21894              пиццетория      1        кафе   \n",
       "4  119365  кафе «вишневая метель»      0        кафе   \n",
       "\n",
       "                                             address  number  \\\n",
       "0         город Москва, улица Егора Абакумова, дом 9      48   \n",
       "1  город Москва, улица Талалихина, дом 2/1, корпус 1      35   \n",
       "2          город Москва, Абельмановская улица, дом 6      95   \n",
       "3            город Москва, Абрамцевская улица, дом 1      40   \n",
       "4  город Москва, Абрамцевская улица, дом 9, корпус 1      50   \n",
       "\n",
       "                  street  \n",
       "0  улица Егора Абакумова  \n",
       "1       улица Талалихина  \n",
       "2   Абельмановская улица  \n",
       "3     Абрамцевская улица  \n",
       "4     Абрамцевская улица  "
      ]
     },
     "execution_count": 25,
     "metadata": {},
     "output_type": "execute_result"
    }
   ],
   "source": [
    "df['street'] = df['address'].str.split(',').str[1].str.strip()\n",
    "\n",
    "rest_moscow = df[(df['street'] != 'город Зеленоград') & (df['street'] != 'поселение Сосенское')]\n",
    "\n",
    "rest_moscow.head()"
   ]
  },
  {
   "cell_type": "markdown",
   "metadata": {},
   "source": [
    "### Постройте график топ-10 улиц по количеству объектов общественного питания "
   ]
  },
  {
   "cell_type": "code",
   "execution_count": 26,
   "metadata": {},
   "outputs": [
    {
     "data": {
      "text/html": [
       "<div>\n",
       "<style scoped>\n",
       "    .dataframe tbody tr th:only-of-type {\n",
       "        vertical-align: middle;\n",
       "    }\n",
       "\n",
       "    .dataframe tbody tr th {\n",
       "        vertical-align: top;\n",
       "    }\n",
       "\n",
       "    .dataframe thead th {\n",
       "        text-align: right;\n",
       "    }\n",
       "</style>\n",
       "<table border=\"1\" class=\"dataframe\">\n",
       "  <thead>\n",
       "    <tr style=\"text-align: right;\">\n",
       "      <th></th>\n",
       "      <th>street</th>\n",
       "      <th>rest_count</th>\n",
       "    </tr>\n",
       "  </thead>\n",
       "  <tbody>\n",
       "    <tr>\n",
       "      <th>0</th>\n",
       "      <td>проспект Мира</td>\n",
       "      <td>204</td>\n",
       "    </tr>\n",
       "    <tr>\n",
       "      <th>1</th>\n",
       "      <td>Профсоюзная улица</td>\n",
       "      <td>182</td>\n",
       "    </tr>\n",
       "    <tr>\n",
       "      <th>2</th>\n",
       "      <td>Ленинградский проспект</td>\n",
       "      <td>171</td>\n",
       "    </tr>\n",
       "    <tr>\n",
       "      <th>3</th>\n",
       "      <td>Пресненская набережная</td>\n",
       "      <td>167</td>\n",
       "    </tr>\n",
       "    <tr>\n",
       "      <th>4</th>\n",
       "      <td>Варшавское шоссе</td>\n",
       "      <td>161</td>\n",
       "    </tr>\n",
       "    <tr>\n",
       "      <th>5</th>\n",
       "      <td>Ленинский проспект</td>\n",
       "      <td>147</td>\n",
       "    </tr>\n",
       "    <tr>\n",
       "      <th>6</th>\n",
       "      <td>проспект Вернадского</td>\n",
       "      <td>132</td>\n",
       "    </tr>\n",
       "    <tr>\n",
       "      <th>7</th>\n",
       "      <td>Кутузовский проспект</td>\n",
       "      <td>114</td>\n",
       "    </tr>\n",
       "    <tr>\n",
       "      <th>8</th>\n",
       "      <td>Каширское шоссе</td>\n",
       "      <td>112</td>\n",
       "    </tr>\n",
       "    <tr>\n",
       "      <th>9</th>\n",
       "      <td>Кировоградская улица</td>\n",
       "      <td>110</td>\n",
       "    </tr>\n",
       "  </tbody>\n",
       "</table>\n",
       "</div>"
      ],
      "text/plain": [
       "                   street  rest_count\n",
       "0           проспект Мира         204\n",
       "1       Профсоюзная улица         182\n",
       "2  Ленинградский проспект         171\n",
       "3  Пресненская набережная         167\n",
       "4        Варшавское шоссе         161\n",
       "5      Ленинский проспект         147\n",
       "6    проспект Вернадского         132\n",
       "7    Кутузовский проспект         114\n",
       "8         Каширское шоссе         112\n",
       "9    Кировоградская улица         110"
      ]
     },
     "execution_count": 26,
     "metadata": {},
     "output_type": "execute_result"
    }
   ],
   "source": [
    "rest_street_top_10 = (\n",
    "    rest_moscow.groupby('street', as_index=False)['id'].count()\n",
    "    .rename(columns={'id': 'rest_count'})\n",
    "    .sort_values('rest_count', ascending=False)\n",
    "    .head(10)\n",
    "    .reset_index(drop=True)\n",
    "    )\n",
    "\n",
    "rest_street_top_10"
   ]
  },
  {
   "cell_type": "code",
   "execution_count": 27,
   "metadata": {},
   "outputs": [
    {
     "data": {
      "image/png": "[encoded data removed]",
      "text/plain": [
       "<Figure size 864x576 with 1 Axes>"
      ]
     },
     "metadata": {},
     "output_type": "display_data"
    }
   ],
   "source": [
    "sns.barplot(data=rest_street_top_10, y='street', x='rest_count')\n",
    "plt.xticks(rotation=45)\n",
    "plt.title('Топ-10 улиц по количеству объектов общественного питания', fontsize=17)\n",
    "plt.show()"
   ]
  },
  {
   "cell_type": "markdown",
   "metadata": {},
   "source": [
    "**Вывод**\n",
    "\n",
    "В топ-10 улиц Москвы по кличеству заведений общественного питания входят улицы с числом объектов от 110, - Кировоградская улица до максимальной отметки в 204 заведения, - проспект Мира. "
   ]
  },
  {
   "cell_type": "markdown",
   "metadata": {},
   "source": [
    "### Найдите число улиц с одним объектом общественного питания"
   ]
  },
  {
   "cell_type": "code",
   "execution_count": 29,
   "metadata": {},
   "outputs": [
    {
     "data": {
      "text/plain": [
       "579"
      ]
     },
     "execution_count": 29,
     "metadata": {},
     "output_type": "execute_result"
    }
   ],
   "source": [
    "single_rest_street = (\n",
    "    df.groupby('street')['id'].count()\n",
    "    .to_frame()\n",
    "    .loc[lambda x: x['id'] == 1]\n",
    "    .reset_index()\n",
    "    .rename(columns={'id': 'rest_count'})\n",
    ")\n",
    "\n",
    "single_rest_street.shape[0]"
   ]
  },
  {
   "cell_type": "markdown",
   "metadata": {},
   "source": [
    "**Вывод**\n",
    "\n",
    "Итак, в Москве 579 улиц с одним объектом общественного питания."
   ]
  },
  {
   "cell_type": "markdown",
   "metadata": {},
   "source": [
    "### Посмотрите на распределение количества посадочных мест для улиц с большим количеством объектов общественного питания. Какие закономерности можно выявить?"
   ]
  },
  {
   "cell_type": "code",
   "execution_count": 30,
   "metadata": {},
   "outputs": [
    {
     "data": {
      "text/html": [
       "<div>\n",
       "<style scoped>\n",
       "    .dataframe tbody tr th:only-of-type {\n",
       "        vertical-align: middle;\n",
       "    }\n",
       "\n",
       "    .dataframe tbody tr th {\n",
       "        vertical-align: top;\n",
       "    }\n",
       "\n",
       "    .dataframe thead th {\n",
       "        text-align: right;\n",
       "    }\n",
       "</style>\n",
       "<table border=\"1\" class=\"dataframe\">\n",
       "  <thead>\n",
       "    <tr style=\"text-align: right;\">\n",
       "      <th>object_type</th>\n",
       "      <th>бар</th>\n",
       "      <th>буфет</th>\n",
       "      <th>закусочная</th>\n",
       "      <th>кафе</th>\n",
       "      <th>кафетерий</th>\n",
       "      <th>магазин (отдел кулинарии)</th>\n",
       "      <th>предприятие быстрого обслуживания</th>\n",
       "      <th>ресторан</th>\n",
       "      <th>столовая</th>\n",
       "    </tr>\n",
       "    <tr>\n",
       "      <th>street</th>\n",
       "      <th></th>\n",
       "      <th></th>\n",
       "      <th></th>\n",
       "      <th></th>\n",
       "      <th></th>\n",
       "      <th></th>\n",
       "      <th></th>\n",
       "      <th></th>\n",
       "      <th></th>\n",
       "    </tr>\n",
       "  </thead>\n",
       "  <tbody>\n",
       "    <tr>\n",
       "      <th>Варшавское шоссе</th>\n",
       "      <td>6</td>\n",
       "      <td>6</td>\n",
       "      <td>2</td>\n",
       "      <td>63</td>\n",
       "      <td>8</td>\n",
       "      <td>2</td>\n",
       "      <td>40</td>\n",
       "      <td>9</td>\n",
       "      <td>25</td>\n",
       "    </tr>\n",
       "    <tr>\n",
       "      <th>Каширское шоссе</th>\n",
       "      <td>2</td>\n",
       "      <td>3</td>\n",
       "      <td>0</td>\n",
       "      <td>30</td>\n",
       "      <td>8</td>\n",
       "      <td>0</td>\n",
       "      <td>43</td>\n",
       "      <td>9</td>\n",
       "      <td>17</td>\n",
       "    </tr>\n",
       "    <tr>\n",
       "      <th>Кировоградская улица</th>\n",
       "      <td>4</td>\n",
       "      <td>1</td>\n",
       "      <td>4</td>\n",
       "      <td>17</td>\n",
       "      <td>2</td>\n",
       "      <td>3</td>\n",
       "      <td>47</td>\n",
       "      <td>18</td>\n",
       "      <td>14</td>\n",
       "    </tr>\n",
       "    <tr>\n",
       "      <th>Кутузовский проспект</th>\n",
       "      <td>6</td>\n",
       "      <td>1</td>\n",
       "      <td>2</td>\n",
       "      <td>41</td>\n",
       "      <td>0</td>\n",
       "      <td>2</td>\n",
       "      <td>8</td>\n",
       "      <td>48</td>\n",
       "      <td>6</td>\n",
       "    </tr>\n",
       "    <tr>\n",
       "      <th>Ленинградский проспект</th>\n",
       "      <td>10</td>\n",
       "      <td>6</td>\n",
       "      <td>0</td>\n",
       "      <td>70</td>\n",
       "      <td>3</td>\n",
       "      <td>5</td>\n",
       "      <td>16</td>\n",
       "      <td>48</td>\n",
       "      <td>13</td>\n",
       "    </tr>\n",
       "    <tr>\n",
       "      <th>Ленинский проспект</th>\n",
       "      <td>6</td>\n",
       "      <td>1</td>\n",
       "      <td>1</td>\n",
       "      <td>64</td>\n",
       "      <td>3</td>\n",
       "      <td>0</td>\n",
       "      <td>9</td>\n",
       "      <td>37</td>\n",
       "      <td>26</td>\n",
       "    </tr>\n",
       "    <tr>\n",
       "      <th>Пресненская набережная</th>\n",
       "      <td>5</td>\n",
       "      <td>1</td>\n",
       "      <td>0</td>\n",
       "      <td>98</td>\n",
       "      <td>5</td>\n",
       "      <td>0</td>\n",
       "      <td>18</td>\n",
       "      <td>40</td>\n",
       "      <td>0</td>\n",
       "    </tr>\n",
       "    <tr>\n",
       "      <th>Профсоюзная улица</th>\n",
       "      <td>5</td>\n",
       "      <td>5</td>\n",
       "      <td>2</td>\n",
       "      <td>90</td>\n",
       "      <td>10</td>\n",
       "      <td>2</td>\n",
       "      <td>23</td>\n",
       "      <td>31</td>\n",
       "      <td>14</td>\n",
       "    </tr>\n",
       "    <tr>\n",
       "      <th>проспект Вернадского</th>\n",
       "      <td>4</td>\n",
       "      <td>5</td>\n",
       "      <td>2</td>\n",
       "      <td>56</td>\n",
       "      <td>3</td>\n",
       "      <td>2</td>\n",
       "      <td>27</td>\n",
       "      <td>19</td>\n",
       "      <td>14</td>\n",
       "    </tr>\n",
       "    <tr>\n",
       "      <th>проспект Мира</th>\n",
       "      <td>15</td>\n",
       "      <td>3</td>\n",
       "      <td>4</td>\n",
       "      <td>103</td>\n",
       "      <td>5</td>\n",
       "      <td>8</td>\n",
       "      <td>26</td>\n",
       "      <td>32</td>\n",
       "      <td>8</td>\n",
       "    </tr>\n",
       "  </tbody>\n",
       "</table>\n",
       "</div>"
      ],
      "text/plain": [
       "object_type             бар  буфет  закусочная  кафе  кафетерий  \\\n",
       "street                                                            \n",
       "Варшавское шоссе          6      6           2    63          8   \n",
       "Каширское шоссе           2      3           0    30          8   \n",
       "Кировоградская улица      4      1           4    17          2   \n",
       "Кутузовский проспект      6      1           2    41          0   \n",
       "Ленинградский проспект   10      6           0    70          3   \n",
       "Ленинский проспект        6      1           1    64          3   \n",
       "Пресненская набережная    5      1           0    98          5   \n",
       "Профсоюзная улица         5      5           2    90         10   \n",
       "проспект Вернадского      4      5           2    56          3   \n",
       "проспект Мира            15      3           4   103          5   \n",
       "\n",
       "object_type             магазин (отдел кулинарии)  \\\n",
       "street                                              \n",
       "Варшавское шоссе                                2   \n",
       "Каширское шоссе                                 0   \n",
       "Кировоградская улица                            3   \n",
       "Кутузовский проспект                            2   \n",
       "Ленинградский проспект                          5   \n",
       "Ленинский проспект                              0   \n",
       "Пресненская набережная                          0   \n",
       "Профсоюзная улица                               2   \n",
       "проспект Вернадского                            2   \n",
       "проспект Мира                                   8   \n",
       "\n",
       "object_type             предприятие быстрого обслуживания  ресторан  столовая  \n",
       "street                                                                         \n",
       "Варшавское шоссе                                       40         9        25  \n",
       "Каширское шоссе                                        43         9        17  \n",
       "Кировоградская улица                                   47        18        14  \n",
       "Кутузовский проспект                                    8        48         6  \n",
       "Ленинградский проспект                                 16        48        13  \n",
       "Ленинский проспект                                      9        37        26  \n",
       "Пресненская набережная                                 18        40         0  \n",
       "Профсоюзная улица                                      23        31        14  \n",
       "проспект Вернадского                                   27        19        14  \n",
       "проспект Мира                                          26        32         8  "
      ]
     },
     "execution_count": 30,
     "metadata": {},
     "output_type": "execute_result"
    }
   ],
   "source": [
    "rest_top_10_streets_seats = (\n",
    "    rest_moscow.groupby('street', as_index=False)['id'].count()\n",
    "    .sort_values('id', ascending=False)\n",
    "    .head(10)\n",
    "    .rename(columns={'id': 'rest_count'})\n",
    "    .merge(df, on='street')\n",
    "    .sort_values('rest_count', ascending=False)\n",
    "    .pivot_table(index='street', columns='object_type', values='number', aggfunc='count')\n",
    "    .fillna('0')\n",
    "    .astype(int)\n",
    ")\n",
    "\n",
    "rest_top_10_streets_seats"
   ]
  },
  {
   "cell_type": "markdown",
   "metadata": {},
   "source": [
    "**Выводы**\n",
    "\n",
    "1. Больше всего посадочных мест на улицах с наибольшей концентрацией заведений общественного питания приходиться на кафе: от 41 места на Кутозовском проспекте до 103 мест на проспекте Мира.\n",
    "2. Конкурировать с кафе по количеству посадочных мест могут предприятия быстрого обслуживания с максимальным количесвом посадочных мест в 40 на Варшавском шоссе и рестораны, - 48 мест на Кутозовском и Ленинградском проспектах, а также столовая в городе Зеленограде с 87 посадочными местами.\n",
    "3. В то же время, в кулинариях на Ленинсоком проспекте, Пресненской набережной и в поселении Сосенское, в закусочных на Ленинском проспекте, Пресненской набережной и городе Зеленограде, а также кулинариях на Ленинском проспекте, Пресненской набережной и поселении Сосенское вообще не предусмотрено посадочных мест.\n",
    "4. Однако, в кафе, ресторанах и столовых расположенных в тех же самых локациях посадочных мест вполне достаточно. Так, на Ленинском проспекте в кафе 64 места, в ресторанах 48, в столовых 26; на Пресненской набережной в кафе 98 мест, в ресторанах 40 мест, на Кутузовский проспекте кафе - 41 место, ресторан 48 мест.\n",
    "5. Распределение мест в барах и буфетах схожее. Так, максимальное количество посадочных мест в 15 в барах на проспекте Мире, что соответсвует 3 местам в буфете, 10 барных мест в городе Зеленограде соответсвует 4 местам в буфете и 10 мест в баре на Ленинградском проспекте соответсвуют 6 местам в будете."
   ]
  },
  {
   "cell_type": "code",
   "execution_count": 31,
   "metadata": {
    "scrolled": false
   },
   "outputs": [
    {
     "data": {
      "image/png": "[encoded data removed]",
      "text/plain": [
       "<Figure size 864x576 with 2 Axes>"
      ]
     },
     "metadata": {},
     "output_type": "display_data"
    }
   ],
   "source": [
    "sns.heatmap(rest_top_10_streets_seats, annot=True, linewidths=.5, cmap='Blues')\n",
    "plt.title('Распределение количества посадочных мест по типам заведений', fontsize=17)\n",
    "plt.show()"
   ]
  },
  {
   "cell_type": "markdown",
   "metadata": {},
   "source": [
    "**Вывод**\n",
    "\n",
    "На графике представлена концентрация посадочных мест по типам заведений и улицам, с наибольшим количеством заведений."
   ]
  },
  {
   "cell_type": "code",
   "execution_count": 32,
   "metadata": {},
   "outputs": [
    {
     "data": {
      "text/html": [
       "<div>\n",
       "<style scoped>\n",
       "    .dataframe tbody tr th:only-of-type {\n",
       "        vertical-align: middle;\n",
       "    }\n",
       "\n",
       "    .dataframe tbody tr th {\n",
       "        vertical-align: top;\n",
       "    }\n",
       "\n",
       "    .dataframe thead th {\n",
       "        text-align: right;\n",
       "    }\n",
       "</style>\n",
       "<table border=\"1\" class=\"dataframe\">\n",
       "  <thead>\n",
       "    <tr style=\"text-align: right;\">\n",
       "      <th></th>\n",
       "      <th>street</th>\n",
       "      <th>rest_count</th>\n",
       "      <th>seats_sum</th>\n",
       "    </tr>\n",
       "  </thead>\n",
       "  <tbody>\n",
       "    <tr>\n",
       "      <th>0</th>\n",
       "      <td>проспект Мира</td>\n",
       "      <td>204</td>\n",
       "      <td>12790</td>\n",
       "    </tr>\n",
       "    <tr>\n",
       "      <th>1</th>\n",
       "      <td>Профсоюзная улица</td>\n",
       "      <td>182</td>\n",
       "      <td>8447</td>\n",
       "    </tr>\n",
       "    <tr>\n",
       "      <th>2</th>\n",
       "      <td>Ленинградский проспект</td>\n",
       "      <td>171</td>\n",
       "      <td>9010</td>\n",
       "    </tr>\n",
       "    <tr>\n",
       "      <th>3</th>\n",
       "      <td>Пресненская набережная</td>\n",
       "      <td>167</td>\n",
       "      <td>7656</td>\n",
       "    </tr>\n",
       "    <tr>\n",
       "      <th>4</th>\n",
       "      <td>Варшавское шоссе</td>\n",
       "      <td>161</td>\n",
       "      <td>8513</td>\n",
       "    </tr>\n",
       "    <tr>\n",
       "      <th>5</th>\n",
       "      <td>Ленинский проспект</td>\n",
       "      <td>147</td>\n",
       "      <td>9330</td>\n",
       "    </tr>\n",
       "    <tr>\n",
       "      <th>6</th>\n",
       "      <td>проспект Вернадского</td>\n",
       "      <td>132</td>\n",
       "      <td>8840</td>\n",
       "    </tr>\n",
       "    <tr>\n",
       "      <th>7</th>\n",
       "      <td>Кутузовский проспект</td>\n",
       "      <td>114</td>\n",
       "      <td>9697</td>\n",
       "    </tr>\n",
       "    <tr>\n",
       "      <th>8</th>\n",
       "      <td>Каширское шоссе</td>\n",
       "      <td>112</td>\n",
       "      <td>6171</td>\n",
       "    </tr>\n",
       "    <tr>\n",
       "      <th>9</th>\n",
       "      <td>Кировоградская улица</td>\n",
       "      <td>110</td>\n",
       "      <td>6577</td>\n",
       "    </tr>\n",
       "  </tbody>\n",
       "</table>\n",
       "</div>"
      ],
      "text/plain": [
       "                   street  rest_count  seats_sum\n",
       "0           проспект Мира         204      12790\n",
       "1       Профсоюзная улица         182       8447\n",
       "2  Ленинградский проспект         171       9010\n",
       "3  Пресненская набережная         167       7656\n",
       "4        Варшавское шоссе         161       8513\n",
       "5      Ленинский проспект         147       9330\n",
       "6    проспект Вернадского         132       8840\n",
       "7    Кутузовский проспект         114       9697\n",
       "8         Каширское шоссе         112       6171\n",
       "9    Кировоградская улица         110       6577"
      ]
     },
     "execution_count": 32,
     "metadata": {},
     "output_type": "execute_result"
    }
   ],
   "source": [
    "rest_street_top_10_seats_sum = (\n",
    "    rest_moscow.groupby('street').agg({'id': 'count', 'number': 'sum'})\n",
    "    .rename(columns={'id': 'rest_count', 'number': 'seats_sum'})\n",
    "    .sort_values('rest_count', ascending=False)\n",
    "    .head(10)\n",
    "    .reset_index()\n",
    ")\n",
    "\n",
    "rest_street_top_10_seats_sum"
   ]
  },
  {
   "cell_type": "code",
   "execution_count": 33,
   "metadata": {},
   "outputs": [
    {
     "data": {
      "text/html": [
       "<div>\n",
       "<style scoped>\n",
       "    .dataframe tbody tr th:only-of-type {\n",
       "        vertical-align: middle;\n",
       "    }\n",
       "\n",
       "    .dataframe tbody tr th {\n",
       "        vertical-align: top;\n",
       "    }\n",
       "\n",
       "    .dataframe thead th {\n",
       "        text-align: right;\n",
       "    }\n",
       "</style>\n",
       "<table border=\"1\" class=\"dataframe\">\n",
       "  <thead>\n",
       "    <tr style=\"text-align: right;\">\n",
       "      <th></th>\n",
       "      <th>seats_sum</th>\n",
       "    </tr>\n",
       "  </thead>\n",
       "  <tbody>\n",
       "    <tr>\n",
       "      <th>count</th>\n",
       "      <td>10.000000</td>\n",
       "    </tr>\n",
       "    <tr>\n",
       "      <th>mean</th>\n",
       "      <td>8703.100000</td>\n",
       "    </tr>\n",
       "    <tr>\n",
       "      <th>std</th>\n",
       "      <td>1835.649958</td>\n",
       "    </tr>\n",
       "    <tr>\n",
       "      <th>min</th>\n",
       "      <td>6171.000000</td>\n",
       "    </tr>\n",
       "    <tr>\n",
       "      <th>25%</th>\n",
       "      <td>7853.750000</td>\n",
       "    </tr>\n",
       "    <tr>\n",
       "      <th>50%</th>\n",
       "      <td>8676.500000</td>\n",
       "    </tr>\n",
       "    <tr>\n",
       "      <th>75%</th>\n",
       "      <td>9250.000000</td>\n",
       "    </tr>\n",
       "    <tr>\n",
       "      <th>max</th>\n",
       "      <td>12790.000000</td>\n",
       "    </tr>\n",
       "  </tbody>\n",
       "</table>\n",
       "</div>"
      ],
      "text/plain": [
       "          seats_sum\n",
       "count     10.000000\n",
       "mean    8703.100000\n",
       "std     1835.649958\n",
       "min     6171.000000\n",
       "25%     7853.750000\n",
       "50%     8676.500000\n",
       "75%     9250.000000\n",
       "max    12790.000000"
      ]
     },
     "metadata": {},
     "output_type": "display_data"
    },
    {
     "data": {
      "image/png": "[encoded data removed]",
      "text/plain": [
       "<Figure size 864x576 with 1 Axes>"
      ]
     },
     "metadata": {},
     "output_type": "display_data"
    }
   ],
   "source": [
    "display(rest_street_top_10_seats_sum.seats_sum.describe().to_frame())\n",
    "\n",
    "sns.boxplot(data=rest_street_top_10_seats_sum, y='seats_sum')\n",
    "plt.title('Распределение количества посадочных мест для улиц Топ-10 (суммарно)')\n",
    "plt.show()"
   ]
  },
  {
   "cell_type": "markdown",
   "metadata": {},
   "source": [
    "**Вывод**\n",
    "\n",
    "Медиана в 8676,5 мест, среднее в 8703,1 мест, а также стандартное отклонение в 1835,64 мест по отношению к размаху выборе от минимального значения в 6171 место  до максимального в 12790 мест, в совакупности свидетельствует о достаточно плотном (\"узком\") распределении вокруг среднего, а также о нормальности распределения призанка с \"жирным\" хвостом в 12790 на проспекте Мира."
   ]
  },
  {
   "cell_type": "markdown",
   "metadata": {},
   "source": [
    "# Вывод"
   ]
  },
  {
   "cell_type": "markdown",
   "metadata": {},
   "source": [
    "Настоящее исследование посвящено анализу данных об объектах общественного питания города Москвы. Целью анализа выступает подбор оптимального типа объекта питания, место расположения объекта и определения количества посадочных мест в планируем к запуску заведению общественного питания. \n",
    "\n",
    "Для этого в работе проанализированы объекты общественного питания по типу, по принадлдености к сети, локации и количеству посадочных мест.В отдельный кластер выделены и проанализированы сетевые объекты общественного питания, улицы и района с наибольшей концентрацией заведений общественного питания, заведения с наибольшим средним чилом посадочных мест.\n",
    "\n",
    "Автор работы пришел следующим выводам:\n",
    "\n",
    "1. Объекты питания представлены в виде кафе, столовых, ресторанов, предприятий фастфуда, баров, буфетов, кафетерий, закосочных и отделов кулинарии. Подавляющее большинство объектов общественного питания представленов в качестве кафе - 6099 заведений, что составлет 40% рынка. Практически в равных количествах представлены столовые и рестораны, 2587 и 2285 соответсвенно, что суммарно составляет 32% рынка. В меньшем размере представлены категории кафетерий, закусочных и отделов кулинарии, 398, 360 и 273 соответвенно, что суммарно составляет 7% рынка.\n",
    "\n",
    "2. Несетевые заведения составляют 81% рынка или 12398 объектов, сетевые заведения 19% рынка или 2968 объектов.\n",
    "\n",
    "3. 47% или 1396 объекта сетевых зававедений представлено в качестве кафе. В схожих объемах, 27% и 18% сетвых заведений представлено в качестве предприятий фастфуда и ресторанов, что составляет 791 и 544 объекта соответсвенно. Из сетевых заведений наименьших процент рынка (суммарно менее 2%) занимают бары, буфеты и столовые 37, 11 и 3 соответсвенно.\n",
    "\n",
    "4. Явного паттерна по количеству заведений и среднему количеству посадочных мест для сетевых завелений выявить не представляеться возможным. Так, сетевые столовые представлены в количенстве трех заведений, при этом среднее количество посадочных мест составляет 112, в то же время сопоставимые по количеству средних посадочных мест на заведение - 100, сетевые рестораны имеют 544 заведения. Кафе, - 1396 сетевых заведения имеют в среднем 47 посадочных мест, а сетевые бары, со среднем сопоставимым с кафе количеством посадочных мест в 53 имеют лишь 37 заведния. Итого, при увеличении количества заведений в сети, до определенного уровня, растет и среднее количество посадочных мест, что характерно для предприятий фастфуда, кафе и ресторанов. В то же время, для кунирий, баров и столовых не характерно увеличение количества заведений в сети, размер среднего количество мест определяеться изначальным планом рассадки клиентов. Лидерами отрасли по числу средних посадчных мест на заведение являются столовые и рестораны, аутсайдерами, - закусочные, буфеты, кафетерии и кулинарии.\n",
    "\n",
    "5. В топ-10 улиц Москвы по кличеству заведений общественного питания входят улицы с числом объектов от 114, - Кутозовский проспект до максимальной отметки в 232 заведения, - город Зеленоград. Больше всего заведений сконцентрировано в Обручевском, Донском, Гагаринском, Ломоносовском районах, районе Теплый Стан и Проспект Вернадского. Меньше всего объектов в районе Якиманка, Раменском, Фили-Давыдково, Дорогомирово и поселении Сосенское. Улицы с одном объектом питания сосредоточены в 98 районах Москвы. Наибольшая концентрация улиц с одним объектом общественного питания характерана для Таганского района, района Хамовники, Басманного, Тверского и Пресненских районов.\n",
    "\n",
    "6. Больше всего посадочных мест на улицах с наибольшей концентрацией заведений общественного питания приходиться на кафе: от 41 места на Кутозовском проспекте до 103 мест на проспекте Мира. Конкурировать с кафе по количеству посадочных мест могут предприятия быстрого обслуживания с максимальным количесвом посадочных мест в 40 на Варшавском шоссе и рестораны, - 48 мест на Кутозовском и Ленинградском проспектах, а также столовая в городе Зеленограде с 87 посадочными местами. В то же время, в кулинариях на Ленинсоком проспекте, Пресненской набережной и в поселении Сосенское, в закусочных на Ленинском проспекте, Пресненской набережной и городе Зеленограде, а также кулинариях на Ленинском проспекте, Пресненской набережной и поселении Сосенское вообще не предусмотрено посадочных мест. Однако, в кафе, ресторанах и столовых расположенных в тех же самых локациях посадочных мест вполне достаточно. Так, на Ленинском проспекте в кафе 64 места, в ресторанах 48, в столовых 26; на Пресненской набережной в кафе 98 мест, в ресторанах 40 мест, на Кутузовский проспекте кафе - 41 место, ресторан 48 мест. Распределение мест в барах и буфетах схожее. Так, максимальное количество посадочных мест в 15 в барах на проспекте Мире, что соответсвует 3 местам в буфете, 10 барных мест в городе Зеленограде соответсвует 4 местам в буфете и 10 мест в баре на Ленинградском проспекте соответсвуют 6 местам в будете.\n",
    "\n",
    "Таким образом, следуя трендам рынка общественного питания целесообразно развивать проект в форме сетевого кафе, с количеством посадочных мест от 41 до 103, расположить в районах Обручевский, Теплый Стан, Донской район, Проспект Вернадского, Гагаринский, Ломоносовский район\tи район Тропарево-Никулино.\n",
    "\n",
    "**Презентация**\n",
    "\n",
    "<https://yadi.sk/i/wmcoXqdQnBzA3A>"
   ]
  }
 ],
 "metadata": {
  "ExecuteTimeLog": [
   {
    "duration": 805,
    "start_time": "2021-09-18T18:52:04.582Z"
   },
   {
    "duration": 2551,
    "start_time": "2021-09-18T18:52:33.914Z"
   },
   {
    "duration": 77,
    "start_time": "2021-09-18T18:53:04.503Z"
   },
   {
    "duration": 341,
    "start_time": "2021-09-18T18:53:23.351Z"
   },
   {
    "duration": 13,
    "start_time": "2021-09-18T18:53:29.418Z"
   },
   {
    "duration": 384,
    "start_time": "2021-09-18T18:56:46.144Z"
   },
   {
    "duration": 18,
    "start_time": "2021-09-18T18:56:55.035Z"
   },
   {
    "duration": 456,
    "start_time": "2021-09-18T18:58:03.194Z"
   },
   {
    "duration": 1067,
    "start_time": "2021-09-18T18:58:11.174Z"
   },
   {
    "duration": 550,
    "start_time": "2021-09-18T18:58:16.860Z"
   },
   {
    "duration": 369,
    "start_time": "2021-09-18T18:58:33.143Z"
   },
   {
    "duration": 346,
    "start_time": "2021-09-18T18:58:38.951Z"
   },
   {
    "duration": 313,
    "start_time": "2021-09-18T18:58:48.004Z"
   },
   {
    "duration": 14,
    "start_time": "2021-09-18T18:59:33.926Z"
   },
   {
    "duration": 383,
    "start_time": "2021-09-18T19:00:36.309Z"
   },
   {
    "duration": 369,
    "start_time": "2021-09-18T19:01:28.571Z"
   },
   {
    "duration": 15,
    "start_time": "2021-09-18T19:04:57.031Z"
   },
   {
    "duration": 16,
    "start_time": "2021-09-18T19:05:47.228Z"
   },
   {
    "duration": 372,
    "start_time": "2021-09-18T19:06:14.921Z"
   },
   {
    "duration": 673,
    "start_time": "2021-09-18T19:07:09.869Z"
   },
   {
    "duration": 362,
    "start_time": "2021-09-18T19:07:59.573Z"
   },
   {
    "duration": 333,
    "start_time": "2021-09-18T19:08:15.514Z"
   },
   {
    "duration": 353,
    "start_time": "2021-09-18T19:09:32.983Z"
   },
   {
    "duration": 593,
    "start_time": "2021-09-18T19:10:11.927Z"
   },
   {
    "duration": 663,
    "start_time": "2021-09-18T19:10:18.395Z"
   },
   {
    "duration": 609,
    "start_time": "2021-09-18T19:12:27.795Z"
   },
   {
    "duration": 632,
    "start_time": "2021-09-18T19:12:41.853Z"
   },
   {
    "duration": 653,
    "start_time": "2021-09-18T19:12:52.822Z"
   },
   {
    "duration": 645,
    "start_time": "2021-09-18T19:13:04.177Z"
   },
   {
    "duration": 1736,
    "start_time": "2021-09-18T19:14:04.789Z"
   },
   {
    "duration": 4,
    "start_time": "2021-09-18T19:14:11.041Z"
   },
   {
    "duration": 441,
    "start_time": "2021-09-18T19:14:15.197Z"
   },
   {
    "duration": 323,
    "start_time": "2021-09-18T19:14:38.712Z"
   },
   {
    "duration": 429,
    "start_time": "2021-09-20T08:06:50.888Z"
   },
   {
    "duration": 1629,
    "start_time": "2021-09-20T08:06:59.570Z"
   },
   {
    "duration": 78,
    "start_time": "2021-09-20T08:07:01.202Z"
   },
   {
    "duration": 14,
    "start_time": "2021-09-20T08:07:01.283Z"
   },
   {
    "duration": 47,
    "start_time": "2021-09-20T08:07:01.300Z"
   },
   {
    "duration": 25,
    "start_time": "2021-09-20T08:07:01.350Z"
   },
   {
    "duration": 356,
    "start_time": "2021-09-20T08:07:01.378Z"
   },
   {
    "duration": 34,
    "start_time": "2021-09-20T08:08:13.458Z"
   },
   {
    "duration": 33,
    "start_time": "2021-09-20T08:08:33.879Z"
   },
   {
    "duration": 14,
    "start_time": "2021-09-20T08:09:26.554Z"
   },
   {
    "duration": 18,
    "start_time": "2021-09-20T08:10:19.860Z"
   },
   {
    "duration": 474,
    "start_time": "2021-09-20T08:10:45.168Z"
   },
   {
    "duration": 582,
    "start_time": "2021-09-20T08:10:53.237Z"
   },
   {
    "duration": 15,
    "start_time": "2021-09-20T08:10:59.895Z"
   },
   {
    "duration": 17,
    "start_time": "2021-09-20T08:11:35.841Z"
   },
   {
    "duration": 16,
    "start_time": "2021-09-20T08:12:03.137Z"
   },
   {
    "duration": 409,
    "start_time": "2021-09-20T08:13:44.168Z"
   },
   {
    "duration": 16,
    "start_time": "2021-09-20T08:14:01.812Z"
   },
   {
    "duration": 23,
    "start_time": "2021-09-20T08:14:42.914Z"
   },
   {
    "duration": 16,
    "start_time": "2021-09-20T08:15:07.127Z"
   },
   {
    "duration": 25,
    "start_time": "2021-09-20T08:16:28.072Z"
   },
   {
    "duration": 393,
    "start_time": "2021-09-20T08:16:43.902Z"
   },
   {
    "duration": 349,
    "start_time": "2021-09-20T08:16:58.682Z"
   },
   {
    "duration": 403,
    "start_time": "2021-09-20T08:17:28.666Z"
   },
   {
    "duration": 416,
    "start_time": "2021-09-20T08:17:42.124Z"
   },
   {
    "duration": 333,
    "start_time": "2021-09-20T08:17:52.931Z"
   },
   {
    "duration": 23,
    "start_time": "2021-09-20T08:22:42.042Z"
   },
   {
    "duration": 20,
    "start_time": "2021-09-20T08:22:53.444Z"
   },
   {
    "duration": 353,
    "start_time": "2021-09-20T09:03:30.497Z"
   },
   {
    "duration": 368,
    "start_time": "2021-09-20T09:05:14.707Z"
   },
   {
    "duration": 373,
    "start_time": "2021-09-20T09:05:25.642Z"
   },
   {
    "duration": 469,
    "start_time": "2021-09-20T09:05:46.913Z"
   },
   {
    "duration": 353,
    "start_time": "2021-09-20T09:05:57.839Z"
   },
   {
    "duration": 381,
    "start_time": "2021-09-20T09:06:07.655Z"
   },
   {
    "duration": 359,
    "start_time": "2021-09-20T09:06:15.385Z"
   },
   {
    "duration": 720,
    "start_time": "2021-09-20T09:06:22.762Z"
   },
   {
    "duration": 519,
    "start_time": "2021-09-20T09:06:30.237Z"
   },
   {
    "duration": 365,
    "start_time": "2021-09-20T09:06:40.529Z"
   },
   {
    "duration": 565,
    "start_time": "2021-09-20T09:06:50.468Z"
   },
   {
    "duration": 390,
    "start_time": "2021-09-20T09:06:58.655Z"
   },
   {
    "duration": 11,
    "start_time": "2021-09-20T09:09:08.188Z"
   },
   {
    "duration": 378,
    "start_time": "2021-09-20T09:09:11.946Z"
   },
   {
    "duration": 6,
    "start_time": "2021-09-20T09:10:32.805Z"
   },
   {
    "duration": 651,
    "start_time": "2021-09-20T09:10:37.090Z"
   },
   {
    "duration": 5,
    "start_time": "2021-09-20T09:11:11.226Z"
   },
   {
    "duration": 7,
    "start_time": "2021-09-20T09:11:53.513Z"
   },
   {
    "duration": 562,
    "start_time": "2021-09-20T09:11:58.013Z"
   },
   {
    "duration": 905,
    "start_time": "2021-09-20T09:12:51.649Z"
   },
   {
    "duration": 937,
    "start_time": "2021-09-20T09:13:18.944Z"
   },
   {
    "duration": 575,
    "start_time": "2021-09-20T09:13:26.038Z"
   },
   {
    "duration": 547,
    "start_time": "2021-09-20T09:13:47.819Z"
   },
   {
    "duration": 376,
    "start_time": "2021-09-20T09:15:31.791Z"
   },
   {
    "duration": 6,
    "start_time": "2021-09-20T09:15:45.649Z"
   },
   {
    "duration": 551,
    "start_time": "2021-09-20T09:15:50.743Z"
   },
   {
    "duration": 560,
    "start_time": "2021-09-20T09:17:15.561Z"
   },
   {
    "duration": 9,
    "start_time": "2021-09-20T09:21:31.306Z"
   },
   {
    "duration": 564,
    "start_time": "2021-09-20T09:21:36.329Z"
   },
   {
    "duration": 14,
    "start_time": "2021-09-20T09:22:04.415Z"
   },
   {
    "duration": 33,
    "start_time": "2021-09-20T09:22:17.808Z"
   },
   {
    "duration": 15,
    "start_time": "2021-09-20T09:30:18.180Z"
   },
   {
    "duration": 416,
    "start_time": "2021-09-20T09:30:41.859Z"
   },
   {
    "duration": 379,
    "start_time": "2021-09-20T09:31:02.452Z"
   },
   {
    "duration": 396,
    "start_time": "2021-09-20T09:31:08.317Z"
   },
   {
    "duration": 355,
    "start_time": "2021-09-20T09:32:17.835Z"
   },
   {
    "duration": 7,
    "start_time": "2021-09-20T09:32:42.188Z"
   },
   {
    "duration": 12,
    "start_time": "2021-09-20T09:33:25.939Z"
   },
   {
    "duration": 85,
    "start_time": "2021-09-20T09:33:25.956Z"
   },
   {
    "duration": 38,
    "start_time": "2021-09-20T09:33:26.044Z"
   },
   {
    "duration": 13,
    "start_time": "2021-09-20T09:33:26.085Z"
   },
   {
    "duration": 22,
    "start_time": "2021-09-20T09:33:26.100Z"
   },
   {
    "duration": 608,
    "start_time": "2021-09-20T09:33:26.124Z"
   },
   {
    "duration": 394,
    "start_time": "2021-09-20T09:33:43.022Z"
   },
   {
    "duration": 1932,
    "start_time": "2021-09-20T09:33:59.914Z"
   },
   {
    "duration": 89,
    "start_time": "2021-09-20T09:34:01.849Z"
   },
   {
    "duration": 53,
    "start_time": "2021-09-20T09:34:01.941Z"
   },
   {
    "duration": 42,
    "start_time": "2021-09-20T09:34:01.997Z"
   },
   {
    "duration": 45,
    "start_time": "2021-09-20T09:34:02.043Z"
   },
   {
    "duration": 573,
    "start_time": "2021-09-20T09:34:02.091Z"
   },
   {
    "duration": 70,
    "start_time": "2021-09-20T09:36:08.845Z"
   },
   {
    "duration": 43,
    "start_time": "2021-09-20T09:36:10.358Z"
   },
   {
    "duration": 34,
    "start_time": "2021-09-20T09:38:14.798Z"
   },
   {
    "duration": 38,
    "start_time": "2021-09-20T09:38:25.273Z"
   },
   {
    "duration": 598,
    "start_time": "2021-09-20T10:14:46.184Z"
   },
   {
    "duration": 558,
    "start_time": "2021-09-20T10:15:01.135Z"
   },
   {
    "duration": 580,
    "start_time": "2021-09-20T10:16:37.789Z"
   },
   {
    "duration": 560,
    "start_time": "2021-09-20T10:16:46.902Z"
   },
   {
    "duration": 591,
    "start_time": "2021-09-20T10:17:00.000Z"
   },
   {
    "duration": 675,
    "start_time": "2021-09-20T10:17:14.150Z"
   },
   {
    "duration": 568,
    "start_time": "2021-09-20T10:17:26.600Z"
   },
   {
    "duration": 593,
    "start_time": "2021-09-20T10:17:39.955Z"
   },
   {
    "duration": 1149,
    "start_time": "2021-09-20T10:18:39.617Z"
   },
   {
    "duration": 593,
    "start_time": "2021-09-20T10:18:51.583Z"
   },
   {
    "duration": 9,
    "start_time": "2021-09-20T10:22:08.594Z"
   },
   {
    "duration": 432,
    "start_time": "2021-09-20T10:22:54.048Z"
   },
   {
    "duration": 9,
    "start_time": "2021-09-20T10:23:10.466Z"
   },
   {
    "duration": 92,
    "start_time": "2021-09-20T10:23:10.478Z"
   },
   {
    "duration": 38,
    "start_time": "2021-09-20T10:23:10.573Z"
   },
   {
    "duration": 22,
    "start_time": "2021-09-20T10:23:10.614Z"
   },
   {
    "duration": 19,
    "start_time": "2021-09-20T10:23:10.663Z"
   },
   {
    "duration": 606,
    "start_time": "2021-09-20T10:23:10.684Z"
   },
   {
    "duration": 15,
    "start_time": "2021-09-20T10:23:11.293Z"
   },
   {
    "duration": 24,
    "start_time": "2021-09-20T10:24:43.189Z"
   },
   {
    "duration": 24,
    "start_time": "2021-09-20T10:25:40.678Z"
   },
   {
    "duration": 9,
    "start_time": "2021-09-20T10:25:54.994Z"
   },
   {
    "duration": 383,
    "start_time": "2021-09-20T10:26:08.187Z"
   },
   {
    "duration": 8,
    "start_time": "2021-09-20T10:26:17.881Z"
   },
   {
    "duration": 12,
    "start_time": "2021-09-20T10:28:32.222Z"
   },
   {
    "duration": 363,
    "start_time": "2021-09-20T10:28:52.682Z"
   },
   {
    "duration": 15,
    "start_time": "2021-09-20T10:29:06.548Z"
   },
   {
    "duration": 16,
    "start_time": "2021-09-20T10:29:43.205Z"
   },
   {
    "duration": 167,
    "start_time": "2021-09-20T10:30:56.250Z"
   },
   {
    "duration": -63,
    "start_time": "2021-09-20T10:31:27.701Z"
   },
   {
    "duration": 267,
    "start_time": "2021-09-20T10:31:49.398Z"
   },
   {
    "duration": 15381,
    "start_time": "2021-09-20T10:32:07.365Z"
   },
   {
    "duration": 16773,
    "start_time": "2021-09-20T10:32:27.550Z"
   },
   {
    "duration": 21,
    "start_time": "2021-09-20T10:33:29.390Z"
   },
   {
    "duration": 18,
    "start_time": "2021-09-20T10:34:15.622Z"
   },
   {
    "duration": 25,
    "start_time": "2021-09-20T10:34:31.587Z"
   },
   {
    "duration": 408,
    "start_time": "2021-09-20T10:34:57.934Z"
   },
   {
    "duration": 25,
    "start_time": "2021-09-20T10:35:17.989Z"
   },
   {
    "duration": 398,
    "start_time": "2021-09-20T10:37:49.979Z"
   },
   {
    "duration": 20,
    "start_time": "2021-09-20T10:41:09.563Z"
   },
   {
    "duration": 29,
    "start_time": "2021-09-20T10:41:36.469Z"
   },
   {
    "duration": 521,
    "start_time": "2021-09-20T10:41:55.858Z"
   },
   {
    "duration": 18,
    "start_time": "2021-09-20T10:42:09.122Z"
   },
   {
    "duration": 20,
    "start_time": "2021-09-20T10:43:42.231Z"
   },
   {
    "duration": 20,
    "start_time": "2021-09-20T10:44:11.876Z"
   },
   {
    "duration": 20,
    "start_time": "2021-09-20T10:44:40.975Z"
   },
   {
    "duration": 9417,
    "start_time": "2021-09-20T10:46:37.795Z"
   },
   {
    "duration": -94,
    "start_time": "2021-09-20T10:46:47.309Z"
   },
   {
    "duration": 404,
    "start_time": "2021-09-20T10:47:18.058Z"
   },
   {
    "duration": 446,
    "start_time": "2021-09-20T10:47:56.219Z"
   },
   {
    "duration": 415,
    "start_time": "2021-09-20T10:48:05.808Z"
   },
   {
    "duration": 415,
    "start_time": "2021-09-20T10:48:14.908Z"
   },
   {
    "duration": 411,
    "start_time": "2021-09-20T10:48:21.111Z"
   },
   {
    "duration": 537,
    "start_time": "2021-09-20T10:48:32.458Z"
   },
   {
    "duration": 850,
    "start_time": "2021-09-20T10:48:46.306Z"
   },
   {
    "duration": 427,
    "start_time": "2021-09-20T10:48:53.526Z"
   },
   {
    "duration": 446,
    "start_time": "2021-09-20T10:49:10.946Z"
   },
   {
    "duration": 406,
    "start_time": "2021-09-20T10:49:19.826Z"
   },
   {
    "duration": 9,
    "start_time": "2021-09-20T10:49:58.121Z"
   },
   {
    "duration": 9,
    "start_time": "2021-09-20T10:50:05.513Z"
   },
   {
    "duration": 88,
    "start_time": "2021-09-20T10:50:05.525Z"
   },
   {
    "duration": 57,
    "start_time": "2021-09-20T10:50:05.617Z"
   },
   {
    "duration": 22,
    "start_time": "2021-09-20T10:50:05.677Z"
   },
   {
    "duration": 9436,
    "start_time": "2021-09-20T10:50:05.702Z"
   },
   {
    "duration": -61,
    "start_time": "2021-09-20T10:50:15.202Z"
   },
   {
    "duration": -69,
    "start_time": "2021-09-20T10:50:15.211Z"
   },
   {
    "duration": -82,
    "start_time": "2021-09-20T10:50:15.225Z"
   },
   {
    "duration": 19,
    "start_time": "2021-09-20T10:50:30.935Z"
   },
   {
    "duration": 564,
    "start_time": "2021-09-20T10:50:34.101Z"
   },
   {
    "duration": 593,
    "start_time": "2021-09-20T10:51:00.269Z"
   },
   {
    "duration": 558,
    "start_time": "2021-09-20T10:51:10.264Z"
   },
   {
    "duration": 716,
    "start_time": "2021-09-20T10:51:27.555Z"
   },
   {
    "duration": 578,
    "start_time": "2021-09-20T10:51:36.865Z"
   },
   {
    "duration": 577,
    "start_time": "2021-09-20T10:51:44.598Z"
   },
   {
    "duration": 689,
    "start_time": "2021-09-20T10:51:53.060Z"
   },
   {
    "duration": 581,
    "start_time": "2021-09-20T10:52:02.323Z"
   },
   {
    "duration": 575,
    "start_time": "2021-09-20T10:52:09.224Z"
   },
   {
    "duration": 20,
    "start_time": "2021-09-20T10:52:28.890Z"
   },
   {
    "duration": 436,
    "start_time": "2021-09-20T10:52:29.488Z"
   },
   {
    "duration": 14,
    "start_time": "2021-09-20T10:53:40.767Z"
   },
   {
    "duration": 9,
    "start_time": "2021-09-20T10:55:20.380Z"
   },
   {
    "duration": 51,
    "start_time": "2021-09-20T10:56:30.138Z"
   },
   {
    "duration": 32,
    "start_time": "2021-09-20T10:57:14.864Z"
   },
   {
    "duration": 28,
    "start_time": "2021-09-20T11:00:01.619Z"
   },
   {
    "duration": 19,
    "start_time": "2021-09-20T11:02:52.853Z"
   },
   {
    "duration": 13,
    "start_time": "2021-09-20T11:03:14.742Z"
   },
   {
    "duration": 16,
    "start_time": "2021-09-20T11:03:28.884Z"
   },
   {
    "duration": 24,
    "start_time": "2021-09-20T11:04:39.694Z"
   },
   {
    "duration": 21,
    "start_time": "2021-09-20T11:06:57.887Z"
   },
   {
    "duration": 20,
    "start_time": "2021-09-20T11:07:10.001Z"
   },
   {
    "duration": 23,
    "start_time": "2021-09-20T11:07:22.744Z"
   },
   {
    "duration": 152,
    "start_time": "2021-09-20T11:08:36.560Z"
   },
   {
    "duration": 119,
    "start_time": "2021-09-20T11:08:44.255Z"
   },
   {
    "duration": 24,
    "start_time": "2021-09-20T11:08:56.947Z"
   },
   {
    "duration": 23,
    "start_time": "2021-09-20T11:09:54.684Z"
   },
   {
    "duration": 566,
    "start_time": "2021-09-20T11:12:13.637Z"
   },
   {
    "duration": 878,
    "start_time": "2021-09-20T11:12:57.025Z"
   },
   {
    "duration": 570,
    "start_time": "2021-09-20T11:13:09.096Z"
   },
   {
    "duration": 563,
    "start_time": "2021-09-20T11:13:29.305Z"
   },
   {
    "duration": 557,
    "start_time": "2021-09-20T11:13:37.360Z"
   },
   {
    "duration": 579,
    "start_time": "2021-09-20T11:13:43.563Z"
   },
   {
    "duration": 551,
    "start_time": "2021-09-20T11:13:50.844Z"
   },
   {
    "duration": 674,
    "start_time": "2021-09-20T11:13:55.520Z"
   },
   {
    "duration": 427,
    "start_time": "2021-09-20T11:14:09.856Z"
   },
   {
    "duration": 415,
    "start_time": "2021-09-20T11:14:15.139Z"
   },
   {
    "duration": 588,
    "start_time": "2021-09-20T11:14:25.881Z"
   },
   {
    "duration": 574,
    "start_time": "2021-09-20T11:14:30.459Z"
   },
   {
    "duration": 575,
    "start_time": "2021-09-20T11:15:06.532Z"
   },
   {
    "duration": 584,
    "start_time": "2021-09-20T11:15:16.688Z"
   },
   {
    "duration": 605,
    "start_time": "2021-09-20T11:15:27.624Z"
   },
   {
    "duration": 567,
    "start_time": "2021-09-20T11:15:37.194Z"
   },
   {
    "duration": 584,
    "start_time": "2021-09-20T11:15:53.567Z"
   },
   {
    "duration": 574,
    "start_time": "2021-09-20T11:16:05.336Z"
   },
   {
    "duration": 25,
    "start_time": "2021-09-20T11:23:42.321Z"
   },
   {
    "duration": 11083,
    "start_time": "2021-09-20T11:24:18.209Z"
   },
   {
    "duration": 13,
    "start_time": "2021-09-20T11:24:46.409Z"
   },
   {
    "duration": 19,
    "start_time": "2021-09-20T11:27:46.131Z"
   },
   {
    "duration": 18,
    "start_time": "2021-09-20T11:29:16.714Z"
   },
   {
    "duration": 28,
    "start_time": "2021-09-20T11:29:45.427Z"
   },
   {
    "duration": 20,
    "start_time": "2021-09-20T11:30:24.817Z"
   },
   {
    "duration": 374,
    "start_time": "2021-09-20T11:32:11.929Z"
   },
   {
    "duration": 132,
    "start_time": "2021-09-20T11:32:27.678Z"
   },
   {
    "duration": 22,
    "start_time": "2021-09-20T11:32:52.671Z"
   },
   {
    "duration": 21,
    "start_time": "2021-09-20T11:32:58.129Z"
   },
   {
    "duration": 24,
    "start_time": "2021-09-20T11:33:24.325Z"
   },
   {
    "duration": 25,
    "start_time": "2021-09-20T11:33:56.898Z"
   },
   {
    "duration": 24,
    "start_time": "2021-09-20T11:34:40.140Z"
   },
   {
    "duration": 25,
    "start_time": "2021-09-20T11:35:11.844Z"
   },
   {
    "duration": 13,
    "start_time": "2021-09-20T11:37:22.287Z"
   },
   {
    "duration": 10375,
    "start_time": "2021-09-20T11:38:05.637Z"
   },
   {
    "duration": 20,
    "start_time": "2021-09-20T11:39:09.733Z"
   },
   {
    "duration": 13,
    "start_time": "2021-09-20T11:39:38.819Z"
   },
   {
    "duration": 1164,
    "start_time": "2021-09-20T11:41:18.648Z"
   },
   {
    "duration": 602,
    "start_time": "2021-09-20T11:42:11.622Z"
   },
   {
    "duration": 6,
    "start_time": "2021-09-20T11:42:45.338Z"
   },
   {
    "duration": 693,
    "start_time": "2021-09-20T11:42:53.178Z"
   },
   {
    "duration": 557,
    "start_time": "2021-09-20T11:43:37.065Z"
   },
   {
    "duration": 544,
    "start_time": "2021-09-20T11:44:05.270Z"
   },
   {
    "duration": 592,
    "start_time": "2021-09-20T11:45:56.898Z"
   },
   {
    "duration": 1053,
    "start_time": "2021-09-20T11:46:19.879Z"
   },
   {
    "duration": 616,
    "start_time": "2021-09-20T11:46:31.699Z"
   },
   {
    "duration": 1018,
    "start_time": "2021-09-20T11:47:02.912Z"
   },
   {
    "duration": 1149,
    "start_time": "2021-09-20T11:47:15.402Z"
   },
   {
    "duration": 695,
    "start_time": "2021-09-20T11:47:21.774Z"
   },
   {
    "duration": 581,
    "start_time": "2021-09-20T11:47:26.266Z"
   },
   {
    "duration": 137,
    "start_time": "2021-09-20T11:48:14.031Z"
   },
   {
    "duration": 1096,
    "start_time": "2021-09-20T11:48:21.535Z"
   },
   {
    "duration": 42,
    "start_time": "2021-09-20T11:48:32.575Z"
   },
   {
    "duration": 1096,
    "start_time": "2021-09-20T11:50:33.700Z"
   },
   {
    "duration": 1018,
    "start_time": "2021-09-20T11:50:47.362Z"
   },
   {
    "duration": 614,
    "start_time": "2021-09-20T11:50:58.960Z"
   },
   {
    "duration": 955,
    "start_time": "2021-09-20T11:52:09.866Z"
   },
   {
    "duration": 629,
    "start_time": "2021-09-20T11:52:41.844Z"
   },
   {
    "duration": 635,
    "start_time": "2021-09-20T11:52:54.702Z"
   },
   {
    "duration": 612,
    "start_time": "2021-09-20T11:53:03.086Z"
   },
   {
    "duration": 630,
    "start_time": "2021-09-20T11:53:11.217Z"
   },
   {
    "duration": 708,
    "start_time": "2021-09-20T11:53:16.930Z"
   },
   {
    "duration": 738,
    "start_time": "2021-09-20T11:53:31.018Z"
   },
   {
    "duration": 761,
    "start_time": "2021-09-20T11:53:37.993Z"
   },
   {
    "duration": 608,
    "start_time": "2021-09-20T11:54:49.685Z"
   },
   {
    "duration": 661,
    "start_time": "2021-09-20T11:55:00.962Z"
   },
   {
    "duration": 1113,
    "start_time": "2021-09-20T11:55:42.618Z"
   },
   {
    "duration": 638,
    "start_time": "2021-09-20T11:55:51.712Z"
   },
   {
    "duration": 636,
    "start_time": "2021-09-20T11:56:45.296Z"
   },
   {
    "duration": 638,
    "start_time": "2021-09-20T11:56:53.762Z"
   },
   {
    "duration": 647,
    "start_time": "2021-09-20T11:57:05.153Z"
   },
   {
    "duration": 26,
    "start_time": "2021-09-20T11:58:25.956Z"
   },
   {
    "duration": 14,
    "start_time": "2021-09-20T12:00:55.352Z"
   },
   {
    "duration": 439,
    "start_time": "2021-09-20T12:01:57.530Z"
   },
   {
    "duration": 142,
    "start_time": "2021-09-20T12:02:13.607Z"
   },
   {
    "duration": 9,
    "start_time": "2021-09-20T12:02:28.327Z"
   },
   {
    "duration": 8,
    "start_time": "2021-09-20T12:02:35.375Z"
   },
   {
    "duration": 36,
    "start_time": "2021-09-20T12:02:52.574Z"
   },
   {
    "duration": 9,
    "start_time": "2021-09-20T12:03:05.357Z"
   },
   {
    "duration": 7,
    "start_time": "2021-09-20T12:03:26.322Z"
   },
   {
    "duration": 418,
    "start_time": "2021-09-20T12:05:02.961Z"
   },
   {
    "duration": 383,
    "start_time": "2021-09-20T12:09:26.915Z"
   },
   {
    "duration": 448,
    "start_time": "2021-09-20T12:09:42.524Z"
   },
   {
    "duration": 21,
    "start_time": "2021-09-20T12:11:33.510Z"
   },
   {
    "duration": 49,
    "start_time": "2021-09-20T12:13:19.070Z"
   },
   {
    "duration": 428,
    "start_time": "2021-09-20T12:13:28.593Z"
   },
   {
    "duration": 522,
    "start_time": "2021-09-20T12:13:44.824Z"
   },
   {
    "duration": 38,
    "start_time": "2021-09-20T12:15:02.170Z"
   },
   {
    "duration": 30,
    "start_time": "2021-09-20T12:15:10.533Z"
   },
   {
    "duration": 32,
    "start_time": "2021-09-20T12:15:21.043Z"
   },
   {
    "duration": 30,
    "start_time": "2021-09-20T12:15:40.065Z"
   },
   {
    "duration": 391,
    "start_time": "2021-09-20T12:15:56.888Z"
   },
   {
    "duration": 57,
    "start_time": "2021-09-20T12:16:31.270Z"
   },
   {
    "duration": 9,
    "start_time": "2021-09-20T12:23:24.799Z"
   },
   {
    "duration": 7,
    "start_time": "2021-09-20T12:23:31.129Z"
   },
   {
    "duration": 16,
    "start_time": "2021-09-20T12:23:34.881Z"
   },
   {
    "duration": 7,
    "start_time": "2021-09-20T12:23:35.223Z"
   },
   {
    "duration": 6,
    "start_time": "2021-09-20T12:23:44.215Z"
   },
   {
    "duration": 81,
    "start_time": "2021-09-20T12:23:44.224Z"
   },
   {
    "duration": 60,
    "start_time": "2021-09-20T12:23:44.308Z"
   },
   {
    "duration": 25,
    "start_time": "2021-09-20T12:23:44.371Z"
   },
   {
    "duration": 64,
    "start_time": "2021-09-20T12:23:44.398Z"
   },
   {
    "duration": 748,
    "start_time": "2021-09-20T12:23:44.465Z"
   },
   {
    "duration": 21,
    "start_time": "2021-09-20T12:23:45.216Z"
   },
   {
    "duration": 454,
    "start_time": "2021-09-20T12:23:45.240Z"
   },
   {
    "duration": 27,
    "start_time": "2021-09-20T12:23:45.699Z"
   },
   {
    "duration": 698,
    "start_time": "2021-09-20T12:23:45.728Z"
   },
   {
    "duration": 49,
    "start_time": "2021-09-20T12:23:46.430Z"
   },
   {
    "duration": 642,
    "start_time": "2021-09-20T12:23:46.482Z"
   },
   {
    "duration": 35,
    "start_time": "2021-09-20T12:23:47.127Z"
   },
   {
    "duration": 8,
    "start_time": "2021-09-20T12:23:47.164Z"
   },
   {
    "duration": 6,
    "start_time": "2021-09-20T12:23:55.498Z"
   },
   {
    "duration": 23,
    "start_time": "2021-09-20T12:24:02.303Z"
   },
   {
    "duration": 398,
    "start_time": "2021-09-20T12:24:11.437Z"
   },
   {
    "duration": 24,
    "start_time": "2021-09-20T12:31:14.730Z"
   },
   {
    "duration": 42,
    "start_time": "2021-09-20T12:31:21.703Z"
   },
   {
    "duration": 17,
    "start_time": "2021-09-20T12:31:31.420Z"
   },
   {
    "duration": 56,
    "start_time": "2021-09-20T12:31:59.307Z"
   },
   {
    "duration": 16,
    "start_time": "2021-09-20T12:32:01.188Z"
   },
   {
    "duration": 56,
    "start_time": "2021-09-20T12:32:16.274Z"
   },
   {
    "duration": 16,
    "start_time": "2021-09-20T12:32:16.963Z"
   },
   {
    "duration": 57,
    "start_time": "2021-09-20T12:32:42.588Z"
   },
   {
    "duration": 15,
    "start_time": "2021-09-20T12:32:43.957Z"
   },
   {
    "duration": 177,
    "start_time": "2021-09-20T12:35:13.694Z"
   },
   {
    "duration": 15,
    "start_time": "2021-09-20T12:35:14.718Z"
   },
   {
    "duration": 47,
    "start_time": "2021-09-20T12:35:25.589Z"
   },
   {
    "duration": 29,
    "start_time": "2021-09-20T12:35:26.381Z"
   },
   {
    "duration": 48,
    "start_time": "2021-09-20T12:35:40.669Z"
   },
   {
    "duration": 15,
    "start_time": "2021-09-20T12:35:41.920Z"
   },
   {
    "duration": 45,
    "start_time": "2021-09-20T12:35:48.145Z"
   },
   {
    "duration": 20,
    "start_time": "2021-09-20T12:35:48.426Z"
   },
   {
    "duration": 61,
    "start_time": "2021-09-20T12:36:22.568Z"
   },
   {
    "duration": 34,
    "start_time": "2021-09-20T12:39:21.161Z"
   },
   {
    "duration": 50,
    "start_time": "2021-09-20T12:39:29.020Z"
   },
   {
    "duration": 21,
    "start_time": "2021-09-20T12:41:42.234Z"
   },
   {
    "duration": 22,
    "start_time": "2021-09-20T12:42:11.345Z"
   },
   {
    "duration": 23,
    "start_time": "2021-09-20T12:42:41.886Z"
   },
   {
    "duration": 26,
    "start_time": "2021-09-20T12:43:39.402Z"
   },
   {
    "duration": 23,
    "start_time": "2021-09-20T12:43:58.246Z"
   },
   {
    "duration": 25,
    "start_time": "2021-09-20T12:44:52.282Z"
   },
   {
    "duration": 524,
    "start_time": "2021-09-20T12:45:53.618Z"
   },
   {
    "duration": 953,
    "start_time": "2021-09-20T12:46:17.969Z"
   },
   {
    "duration": 644,
    "start_time": "2021-09-20T12:46:38.688Z"
   },
   {
    "duration": 545,
    "start_time": "2021-09-20T12:46:47.778Z"
   },
   {
    "duration": 548,
    "start_time": "2021-09-20T12:46:58.827Z"
   },
   {
    "duration": 806,
    "start_time": "2021-09-20T12:51:18.224Z"
   },
   {
    "duration": 813,
    "start_time": "2021-09-20T12:51:58.260Z"
   },
   {
    "duration": 11,
    "start_time": "2021-09-20T13:18:39.709Z"
   },
   {
    "duration": 12,
    "start_time": "2021-09-20T13:19:07.771Z"
   },
   {
    "duration": 19,
    "start_time": "2021-09-20T13:20:09.012Z"
   },
   {
    "duration": 15,
    "start_time": "2021-09-20T13:20:19.976Z"
   },
   {
    "duration": 11,
    "start_time": "2021-09-20T13:22:31.548Z"
   },
   {
    "duration": 10,
    "start_time": "2021-09-20T13:22:54.088Z"
   },
   {
    "duration": 11,
    "start_time": "2021-09-20T13:24:07.992Z"
   },
   {
    "duration": 11,
    "start_time": "2021-09-20T13:27:29.707Z"
   },
   {
    "duration": 11,
    "start_time": "2021-09-20T13:28:53.176Z"
   },
   {
    "duration": 15,
    "start_time": "2021-09-20T13:29:58.665Z"
   },
   {
    "duration": 11,
    "start_time": "2021-09-20T13:30:37.565Z"
   },
   {
    "duration": 11,
    "start_time": "2021-09-20T13:31:45.709Z"
   },
   {
    "duration": 15,
    "start_time": "2021-09-20T13:33:47.367Z"
   },
   {
    "duration": 12,
    "start_time": "2021-09-20T13:34:06.576Z"
   },
   {
    "duration": 19,
    "start_time": "2021-09-20T13:35:32.712Z"
   },
   {
    "duration": 19,
    "start_time": "2021-09-20T13:36:17.093Z"
   },
   {
    "duration": 16,
    "start_time": "2021-09-20T13:36:36.789Z"
   },
   {
    "duration": 24,
    "start_time": "2021-09-20T13:39:35.032Z"
   },
   {
    "duration": 569,
    "start_time": "2021-09-20T13:39:38.208Z"
   },
   {
    "duration": 16,
    "start_time": "2021-09-20T13:39:39.015Z"
   },
   {
    "duration": 16,
    "start_time": "2021-09-20T13:41:00.486Z"
   },
   {
    "duration": 16,
    "start_time": "2021-09-20T13:51:12.007Z"
   },
   {
    "duration": 14,
    "start_time": "2021-09-20T13:52:45.595Z"
   },
   {
    "duration": 17,
    "start_time": "2021-09-20T13:54:15.875Z"
   },
   {
    "duration": 27,
    "start_time": "2021-09-20T13:54:25.102Z"
   },
   {
    "duration": 427,
    "start_time": "2021-09-20T13:55:02.838Z"
   },
   {
    "duration": 20,
    "start_time": "2021-09-20T13:55:39.463Z"
   },
   {
    "duration": 25,
    "start_time": "2021-09-20T13:55:50.309Z"
   },
   {
    "duration": 20,
    "start_time": "2021-09-20T13:56:08.916Z"
   },
   {
    "duration": 24,
    "start_time": "2021-09-20T13:56:14.293Z"
   },
   {
    "duration": 17,
    "start_time": "2021-09-20T13:56:30.185Z"
   },
   {
    "duration": 14,
    "start_time": "2021-09-20T13:57:06.858Z"
   },
   {
    "duration": 1723,
    "start_time": "2021-09-21T12:23:39.282Z"
   },
   {
    "duration": 72,
    "start_time": "2021-09-21T12:23:41.007Z"
   },
   {
    "duration": 47,
    "start_time": "2021-09-21T12:23:41.082Z"
   },
   {
    "duration": 21,
    "start_time": "2021-09-21T12:23:41.131Z"
   },
   {
    "duration": 19,
    "start_time": "2021-09-21T12:23:41.155Z"
   },
   {
    "duration": 606,
    "start_time": "2021-09-21T12:23:41.176Z"
   },
   {
    "duration": 34,
    "start_time": "2021-09-21T12:23:41.784Z"
   },
   {
    "duration": 417,
    "start_time": "2021-09-21T12:23:41.822Z"
   },
   {
    "duration": 23,
    "start_time": "2021-09-21T12:23:42.242Z"
   },
   {
    "duration": 706,
    "start_time": "2021-09-21T12:23:42.267Z"
   },
   {
    "duration": 43,
    "start_time": "2021-09-21T12:23:42.975Z"
   },
   {
    "duration": 656,
    "start_time": "2021-09-21T12:23:43.021Z"
   },
   {
    "duration": 65,
    "start_time": "2021-09-21T12:23:43.679Z"
   },
   {
    "duration": 31,
    "start_time": "2021-09-21T12:23:43.746Z"
   },
   {
    "duration": 641,
    "start_time": "2021-09-21T12:23:43.780Z"
   },
   {
    "duration": 15,
    "start_time": "2021-09-21T12:23:44.423Z"
   },
   {
    "duration": 25,
    "start_time": "2021-09-21T12:23:44.440Z"
   },
   {
    "duration": 104,
    "start_time": "2021-09-21T12:27:11.232Z"
   },
   {
    "duration": 134,
    "start_time": "2021-09-21T12:27:47.113Z"
   },
   {
    "duration": 19,
    "start_time": "2021-09-21T12:28:13.169Z"
   },
   {
    "duration": 20,
    "start_time": "2021-09-21T12:29:08.787Z"
   },
   {
    "duration": 13,
    "start_time": "2021-09-21T12:31:39.768Z"
   },
   {
    "duration": 9,
    "start_time": "2021-09-21T12:33:43.201Z"
   },
   {
    "duration": 15,
    "start_time": "2021-09-21T12:33:57.677Z"
   },
   {
    "duration": 14,
    "start_time": "2021-09-21T12:34:43.594Z"
   },
   {
    "duration": 15,
    "start_time": "2021-09-21T12:34:56.344Z"
   },
   {
    "duration": 991,
    "start_time": "2021-09-21T12:35:29.142Z"
   },
   {
    "duration": 18,
    "start_time": "2021-09-21T12:35:45.697Z"
   },
   {
    "duration": 20,
    "start_time": "2021-09-21T12:36:13.230Z"
   },
   {
    "duration": 23,
    "start_time": "2021-09-21T12:37:03.022Z"
   },
   {
    "duration": 413,
    "start_time": "2021-09-21T12:37:25.137Z"
   },
   {
    "duration": 25,
    "start_time": "2021-09-21T12:38:30.470Z"
   },
   {
    "duration": 7,
    "start_time": "2021-09-21T12:43:58.475Z"
   },
   {
    "duration": 49,
    "start_time": "2021-09-21T12:47:41.909Z"
   },
   {
    "duration": 94,
    "start_time": "2021-09-21T12:48:22.358Z"
   },
   {
    "duration": 471,
    "start_time": "2021-09-21T12:49:28.299Z"
   },
   {
    "duration": 103,
    "start_time": "2021-09-21T12:49:47.193Z"
   },
   {
    "duration": 14,
    "start_time": "2021-09-21T12:51:09.511Z"
   },
   {
    "duration": 15,
    "start_time": "2021-09-21T12:51:19.628Z"
   },
   {
    "duration": 672,
    "start_time": "2021-09-21T12:51:27.025Z"
   },
   {
    "duration": 364,
    "start_time": "2021-09-21T12:51:47.310Z"
   },
   {
    "duration": 15,
    "start_time": "2021-09-21T12:52:27.345Z"
   },
   {
    "duration": 14,
    "start_time": "2021-09-21T12:53:34.114Z"
   },
   {
    "duration": 19,
    "start_time": "2021-09-21T12:55:45.948Z"
   },
   {
    "duration": 510,
    "start_time": "2021-09-21T12:56:31.997Z"
   },
   {
    "duration": 395,
    "start_time": "2021-09-21T12:57:04.737Z"
   },
   {
    "duration": 451,
    "start_time": "2021-09-21T12:57:22.256Z"
   },
   {
    "duration": 19,
    "start_time": "2021-09-21T12:57:33.442Z"
   },
   {
    "duration": 626,
    "start_time": "2021-09-21T12:57:43.337Z"
   },
   {
    "duration": 540,
    "start_time": "2021-09-21T12:57:54.469Z"
   },
   {
    "duration": 353,
    "start_time": "2021-09-21T13:00:00.162Z"
   },
   {
    "duration": 45,
    "start_time": "2021-09-21T13:03:03.451Z"
   },
   {
    "duration": 20,
    "start_time": "2021-09-21T13:03:51.771Z"
   },
   {
    "duration": 466,
    "start_time": "2021-09-21T13:04:37.322Z"
   },
   {
    "duration": 19,
    "start_time": "2021-09-21T13:04:52.620Z"
   },
   {
    "duration": 21,
    "start_time": "2021-09-21T13:05:21.859Z"
   },
   {
    "duration": 45,
    "start_time": "2021-09-21T13:12:32.345Z"
   },
   {
    "duration": 45,
    "start_time": "2021-09-21T13:13:25.582Z"
   },
   {
    "duration": 28,
    "start_time": "2021-09-21T13:14:18.280Z"
   },
   {
    "duration": 48,
    "start_time": "2021-09-21T13:14:27.666Z"
   },
   {
    "duration": 38,
    "start_time": "2021-09-21T13:15:28.430Z"
   },
   {
    "duration": 363,
    "start_time": "2021-09-21T13:16:05.468Z"
   },
   {
    "duration": 56,
    "start_time": "2021-09-21T13:16:36.885Z"
   },
   {
    "duration": 41,
    "start_time": "2021-09-21T13:17:08.004Z"
   },
   {
    "duration": 25,
    "start_time": "2021-09-21T13:18:13.598Z"
   },
   {
    "duration": 55,
    "start_time": "2021-09-21T13:18:22.305Z"
   },
   {
    "duration": 54,
    "start_time": "2021-09-21T13:19:23.283Z"
   },
   {
    "duration": 66,
    "start_time": "2021-09-21T13:20:41.213Z"
   },
   {
    "duration": 58,
    "start_time": "2021-09-21T13:21:30.577Z"
   },
   {
    "duration": 57,
    "start_time": "2021-09-21T13:22:39.028Z"
   },
   {
    "duration": 479,
    "start_time": "2021-09-21T13:23:23.833Z"
   },
   {
    "duration": 743,
    "start_time": "2021-09-21T13:24:13.319Z"
   },
   {
    "duration": 771,
    "start_time": "2021-09-21T13:24:35.568Z"
   },
   {
    "duration": 56,
    "start_time": "2021-09-21T14:40:49.156Z"
   },
   {
    "duration": 57,
    "start_time": "2021-09-21T14:41:08.287Z"
   },
   {
    "duration": 1151,
    "start_time": "2021-09-21T14:42:24.805Z"
   },
   {
    "duration": 123,
    "start_time": "2021-09-21T14:44:29.127Z"
   },
   {
    "duration": 331,
    "start_time": "2021-09-21T14:44:53.113Z"
   },
   {
    "duration": 1181,
    "start_time": "2021-09-21T14:45:19.775Z"
   },
   {
    "duration": 1158,
    "start_time": "2021-09-21T14:45:40.444Z"
   },
   {
    "duration": 1269,
    "start_time": "2021-09-21T14:46:18.364Z"
   },
   {
    "duration": 1136,
    "start_time": "2021-09-21T14:47:10.039Z"
   },
   {
    "duration": 1132,
    "start_time": "2021-09-21T14:47:26.708Z"
   },
   {
    "duration": 1142,
    "start_time": "2021-09-21T14:48:38.448Z"
   },
   {
    "duration": 1184,
    "start_time": "2021-09-21T14:48:58.576Z"
   },
   {
    "duration": 1222,
    "start_time": "2021-09-21T14:49:29.570Z"
   },
   {
    "duration": 1243,
    "start_time": "2021-09-21T14:49:35.828Z"
   },
   {
    "duration": 1218,
    "start_time": "2021-09-21T14:55:51.669Z"
   },
   {
    "duration": 1223,
    "start_time": "2021-09-21T14:56:07.389Z"
   },
   {
    "duration": 1243,
    "start_time": "2021-09-21T14:56:38.428Z"
   },
   {
    "duration": 1217,
    "start_time": "2021-09-21T14:56:59.199Z"
   },
   {
    "duration": 6419,
    "start_time": "2021-09-21T15:36:39.797Z"
   },
   {
    "duration": 102,
    "start_time": "2021-09-21T15:38:29.799Z"
   },
   {
    "duration": 266,
    "start_time": "2021-09-21T15:39:30.990Z"
   },
   {
    "duration": 6341,
    "start_time": "2021-09-21T15:41:08.311Z"
   },
   {
    "duration": 1749,
    "start_time": "2021-09-21T16:41:10.770Z"
   },
   {
    "duration": 1388,
    "start_time": "2021-09-21T16:55:19.504Z"
   },
   {
    "duration": 1241,
    "start_time": "2021-09-21T17:03:06.243Z"
   },
   {
    "duration": 6060,
    "start_time": "2021-09-21T17:08:13.590Z"
   },
   {
    "duration": 1249,
    "start_time": "2021-09-21T17:10:04.708Z"
   },
   {
    "duration": 5674,
    "start_time": "2021-09-21T17:12:03.073Z"
   },
   {
    "duration": 694,
    "start_time": "2021-09-21T17:16:30.144Z"
   },
   {
    "duration": 1192,
    "start_time": "2021-09-21T17:18:06.875Z"
   },
   {
    "duration": 786,
    "start_time": "2021-09-21T17:18:43.584Z"
   },
   {
    "duration": 726,
    "start_time": "2021-09-21T17:18:55.752Z"
   },
   {
    "duration": 758,
    "start_time": "2021-09-21T17:20:14.357Z"
   },
   {
    "duration": 1412,
    "start_time": "2021-09-21T17:20:42.773Z"
   },
   {
    "duration": 725,
    "start_time": "2021-09-21T17:20:53.520Z"
   },
   {
    "duration": 370,
    "start_time": "2021-09-21T17:21:39.248Z"
   },
   {
    "duration": 671,
    "start_time": "2021-09-21T17:23:18.174Z"
   },
   {
    "duration": 2923,
    "start_time": "2021-09-21T17:23:54.808Z"
   },
   {
    "duration": 1775,
    "start_time": "2021-09-21T17:24:43.756Z"
   },
   {
    "duration": 1021,
    "start_time": "2021-09-21T17:24:55.185Z"
   },
   {
    "duration": 1539,
    "start_time": "2021-09-21T17:25:15.787Z"
   },
   {
    "duration": 1058,
    "start_time": "2021-09-21T17:25:48.960Z"
   },
   {
    "duration": 333,
    "start_time": "2021-09-21T17:26:04.251Z"
   },
   {
    "duration": 341,
    "start_time": "2021-09-21T17:26:50.901Z"
   },
   {
    "duration": 362,
    "start_time": "2021-09-21T17:28:16.629Z"
   },
   {
    "duration": 857,
    "start_time": "2021-09-21T17:28:36.482Z"
   },
   {
    "duration": 826,
    "start_time": "2021-09-21T17:28:37.341Z"
   },
   {
    "duration": 321,
    "start_time": "2021-09-21T17:28:41.580Z"
   },
   {
    "duration": 443,
    "start_time": "2021-09-21T17:30:25.134Z"
   },
   {
    "duration": 1676,
    "start_time": "2021-09-21T17:30:45.476Z"
   },
   {
    "duration": 882,
    "start_time": "2021-09-21T17:30:56.435Z"
   },
   {
    "duration": 2267,
    "start_time": "2021-09-21T17:32:09.279Z"
   },
   {
    "duration": 2682,
    "start_time": "2021-09-21T17:39:04.262Z"
   },
   {
    "duration": 7,
    "start_time": "2021-09-21T17:39:20.971Z"
   },
   {
    "duration": 84,
    "start_time": "2021-09-21T17:39:20.982Z"
   },
   {
    "duration": 71,
    "start_time": "2021-09-21T17:39:21.070Z"
   },
   {
    "duration": 21,
    "start_time": "2021-09-21T17:39:21.144Z"
   },
   {
    "duration": 48,
    "start_time": "2021-09-21T17:39:21.168Z"
   },
   {
    "duration": 580,
    "start_time": "2021-09-21T17:39:21.218Z"
   },
   {
    "duration": 30,
    "start_time": "2021-09-21T17:39:21.800Z"
   },
   {
    "duration": 427,
    "start_time": "2021-09-21T17:39:21.834Z"
   },
   {
    "duration": 21,
    "start_time": "2021-09-21T17:39:22.264Z"
   },
   {
    "duration": 671,
    "start_time": "2021-09-21T17:39:22.287Z"
   },
   {
    "duration": 23,
    "start_time": "2021-09-21T17:39:22.960Z"
   },
   {
    "duration": 631,
    "start_time": "2021-09-21T17:39:22.985Z"
   },
   {
    "duration": 53,
    "start_time": "2021-09-21T17:39:23.618Z"
   },
   {
    "duration": 50,
    "start_time": "2021-09-21T17:39:23.674Z"
   },
   {
    "duration": 710,
    "start_time": "2021-09-21T17:39:23.727Z"
   },
   {
    "duration": 18,
    "start_time": "2021-09-21T17:39:24.439Z"
   },
   {
    "duration": 20,
    "start_time": "2021-09-21T17:39:24.459Z"
   },
   {
    "duration": 88,
    "start_time": "2021-09-21T17:39:24.482Z"
   },
   {
    "duration": 1298,
    "start_time": "2021-09-21T17:39:24.573Z"
   },
   {
    "duration": 2509,
    "start_time": "2021-09-21T17:39:25.873Z"
   },
   {
    "duration": 148,
    "start_time": "2021-09-21T17:39:28.236Z"
   },
   {
    "duration": 145,
    "start_time": "2021-09-21T17:39:28.241Z"
   },
   {
    "duration": 717,
    "start_time": "2021-09-21T17:40:03.525Z"
   },
   {
    "duration": 1709,
    "start_time": "2021-09-21T17:42:02.514Z"
   },
   {
    "duration": 1138,
    "start_time": "2021-09-21T17:43:36.457Z"
   },
   {
    "duration": 1475,
    "start_time": "2021-09-21T17:43:42.356Z"
   },
   {
    "duration": 681,
    "start_time": "2021-09-21T17:43:50.938Z"
   },
   {
    "duration": 1833,
    "start_time": "2021-09-22T07:16:01.005Z"
   },
   {
    "duration": 77,
    "start_time": "2021-09-22T07:16:02.841Z"
   },
   {
    "duration": 71,
    "start_time": "2021-09-22T07:16:02.921Z"
   },
   {
    "duration": 30,
    "start_time": "2021-09-22T07:16:02.995Z"
   },
   {
    "duration": 56,
    "start_time": "2021-09-22T07:16:03.028Z"
   },
   {
    "duration": 719,
    "start_time": "2021-09-22T07:16:03.087Z"
   },
   {
    "duration": 22,
    "start_time": "2021-09-22T07:16:03.809Z"
   },
   {
    "duration": 532,
    "start_time": "2021-09-22T07:16:03.855Z"
   },
   {
    "duration": 22,
    "start_time": "2021-09-22T07:16:04.390Z"
   },
   {
    "duration": 625,
    "start_time": "2021-09-22T07:16:04.414Z"
   },
   {
    "duration": 38,
    "start_time": "2021-09-22T07:16:05.041Z"
   },
   {
    "duration": 669,
    "start_time": "2021-09-22T07:16:05.082Z"
   },
   {
    "duration": 55,
    "start_time": "2021-09-22T07:16:05.753Z"
   },
   {
    "duration": 55,
    "start_time": "2021-09-22T07:16:05.811Z"
   },
   {
    "duration": 741,
    "start_time": "2021-09-22T07:16:05.872Z"
   },
   {
    "duration": 15,
    "start_time": "2021-09-22T07:16:06.615Z"
   },
   {
    "duration": 41,
    "start_time": "2021-09-22T07:16:06.633Z"
   },
   {
    "duration": 58,
    "start_time": "2021-09-22T07:16:06.678Z"
   },
   {
    "duration": 1474,
    "start_time": "2021-09-22T07:16:06.756Z"
   },
   {
    "duration": 1666,
    "start_time": "2021-09-22T07:16:08.232Z"
   },
   {
    "duration": 799,
    "start_time": "2021-09-22T07:16:09.901Z"
   },
   {
    "duration": 722,
    "start_time": "2021-09-22T07:16:10.702Z"
   },
   {
    "duration": 2794,
    "start_time": "2021-09-22T07:16:32.447Z"
   },
   {
    "duration": 2588,
    "start_time": "2021-09-22T07:17:29.809Z"
   },
   {
    "duration": 2589,
    "start_time": "2021-09-22T07:18:52.237Z"
   },
   {
    "duration": 1119,
    "start_time": "2021-09-22T07:19:20.585Z"
   },
   {
    "duration": 657,
    "start_time": "2021-09-22T07:19:34.918Z"
   },
   {
    "duration": 1083,
    "start_time": "2021-09-22T07:20:33.807Z"
   },
   {
    "duration": 701,
    "start_time": "2021-09-22T07:20:47.024Z"
   },
   {
    "duration": 1264,
    "start_time": "2021-09-22T07:21:09.463Z"
   },
   {
    "duration": 904,
    "start_time": "2021-09-22T07:21:35.411Z"
   },
   {
    "duration": 1237,
    "start_time": "2021-09-22T07:22:06.473Z"
   },
   {
    "duration": 1304,
    "start_time": "2021-09-22T07:22:32.765Z"
   },
   {
    "duration": 510,
    "start_time": "2021-09-22T07:25:21.459Z"
   },
   {
    "duration": 312,
    "start_time": "2021-09-22T07:28:47.888Z"
   },
   {
    "duration": 330,
    "start_time": "2021-09-22T07:30:32.912Z"
   },
   {
    "duration": 373,
    "start_time": "2021-09-22T07:32:50.963Z"
   },
   {
    "duration": 304,
    "start_time": "2021-09-22T07:33:10.331Z"
   },
   {
    "duration": 13,
    "start_time": "2021-09-22T07:33:41.012Z"
   },
   {
    "duration": 325,
    "start_time": "2021-09-22T07:34:24.855Z"
   },
   {
    "duration": 20,
    "start_time": "2021-09-22T07:34:52.141Z"
   },
   {
    "duration": 17,
    "start_time": "2021-09-22T07:35:20.146Z"
   },
   {
    "duration": 349,
    "start_time": "2021-09-22T07:35:53.304Z"
   },
   {
    "duration": 327,
    "start_time": "2021-09-22T07:36:25.552Z"
   },
   {
    "duration": 28,
    "start_time": "2021-09-22T07:36:26.162Z"
   },
   {
    "duration": 27,
    "start_time": "2021-09-22T07:37:16.251Z"
   },
   {
    "duration": 26,
    "start_time": "2021-09-22T07:37:56.622Z"
   },
   {
    "duration": 29,
    "start_time": "2021-09-22T07:38:19.753Z"
   },
   {
    "duration": 10,
    "start_time": "2021-09-22T07:38:44.710Z"
   },
   {
    "duration": 12,
    "start_time": "2021-09-22T07:39:10.486Z"
   },
   {
    "duration": 363,
    "start_time": "2021-09-22T07:39:19.950Z"
   },
   {
    "duration": 201,
    "start_time": "2021-09-22T07:39:55.823Z"
   },
   {
    "duration": 268,
    "start_time": "2021-09-22T07:40:17.842Z"
   },
   {
    "duration": 24,
    "start_time": "2021-09-22T07:40:32.774Z"
   },
   {
    "duration": 25,
    "start_time": "2021-09-22T07:41:34.735Z"
   },
   {
    "duration": 20,
    "start_time": "2021-09-22T07:41:42.620Z"
   },
   {
    "duration": 302,
    "start_time": "2021-09-22T07:41:58.541Z"
   },
   {
    "duration": 8,
    "start_time": "2021-09-22T07:42:14.961Z"
   },
   {
    "duration": 15,
    "start_time": "2021-09-22T07:46:36.929Z"
   },
   {
    "duration": 648,
    "start_time": "2021-09-22T07:48:19.926Z"
   },
   {
    "duration": 673,
    "start_time": "2021-09-22T07:48:51.633Z"
   },
   {
    "duration": 487,
    "start_time": "2021-09-22T07:49:28.518Z"
   },
   {
    "duration": 1654,
    "start_time": "2021-09-22T07:50:17.877Z"
   },
   {
    "duration": 610,
    "start_time": "2021-09-22T07:50:46.554Z"
   },
   {
    "duration": 7,
    "start_time": "2021-09-22T07:51:14.498Z"
   },
   {
    "duration": 299,
    "start_time": "2021-09-22T07:51:33.152Z"
   },
   {
    "duration": 5,
    "start_time": "2021-09-22T07:51:38.836Z"
   },
   {
    "duration": 462,
    "start_time": "2021-09-22T07:51:56.005Z"
   },
   {
    "duration": 199,
    "start_time": "2021-09-22T07:52:28.872Z"
   },
   {
    "duration": 13,
    "start_time": "2021-09-22T07:52:53.392Z"
   },
   {
    "duration": 299,
    "start_time": "2021-09-22T07:53:24.137Z"
   },
   {
    "duration": 280,
    "start_time": "2021-09-22T07:53:51.891Z"
   },
   {
    "duration": 24,
    "start_time": "2021-09-22T07:54:16.724Z"
   },
   {
    "duration": 17,
    "start_time": "2021-09-22T08:00:35.305Z"
   },
   {
    "duration": 24,
    "start_time": "2021-09-22T08:00:46.001Z"
   },
   {
    "duration": 17,
    "start_time": "2021-09-22T08:01:15.783Z"
   },
   {
    "duration": 13,
    "start_time": "2021-09-22T08:01:23.336Z"
   },
   {
    "duration": 1028,
    "start_time": "2021-09-22T08:19:49.117Z"
   },
   {
    "duration": 1576,
    "start_time": "2021-09-22T08:19:56.352Z"
   },
   {
    "duration": 417,
    "start_time": "2021-09-22T08:29:26.379Z"
   },
   {
    "duration": 20,
    "start_time": "2021-09-22T08:30:06.493Z"
   },
   {
    "duration": 43,
    "start_time": "2021-09-22T08:30:25.023Z"
   },
   {
    "duration": 39,
    "start_time": "2021-09-22T08:30:45.974Z"
   },
   {
    "duration": 311,
    "start_time": "2021-09-22T08:35:51.787Z"
   },
   {
    "duration": 12,
    "start_time": "2021-09-22T08:35:52.854Z"
   },
   {
    "duration": 26,
    "start_time": "2021-09-22T08:35:54.015Z"
   },
   {
    "duration": 14,
    "start_time": "2021-09-22T08:36:38.225Z"
   },
   {
    "duration": 23,
    "start_time": "2021-09-22T08:36:39.382Z"
   },
   {
    "duration": 26,
    "start_time": "2021-09-22T08:38:11.708Z"
   },
   {
    "duration": 239,
    "start_time": "2021-09-22T08:45:25.621Z"
   },
   {
    "duration": 232,
    "start_time": "2021-09-22T08:46:09.911Z"
   },
   {
    "duration": 347,
    "start_time": "2021-09-22T08:47:42.190Z"
   },
   {
    "duration": 27,
    "start_time": "2021-09-22T08:48:25.430Z"
   },
   {
    "duration": 25,
    "start_time": "2021-09-22T08:48:35.424Z"
   },
   {
    "duration": 1410,
    "start_time": "2021-09-22T08:49:19.399Z"
   },
   {
    "duration": 73,
    "start_time": "2021-09-22T08:49:20.811Z"
   },
   {
    "duration": 38,
    "start_time": "2021-09-22T08:49:20.887Z"
   },
   {
    "duration": 47,
    "start_time": "2021-09-22T08:49:20.927Z"
   },
   {
    "duration": 19,
    "start_time": "2021-09-22T08:49:20.976Z"
   },
   {
    "duration": 584,
    "start_time": "2021-09-22T08:49:20.997Z"
   },
   {
    "duration": 20,
    "start_time": "2021-09-22T08:49:21.583Z"
   },
   {
    "duration": 436,
    "start_time": "2021-09-22T08:49:21.607Z"
   },
   {
    "duration": 26,
    "start_time": "2021-09-22T08:49:22.046Z"
   },
   {
    "duration": 572,
    "start_time": "2021-09-22T08:49:22.075Z"
   },
   {
    "duration": 27,
    "start_time": "2021-09-22T08:49:22.649Z"
   },
   {
    "duration": 596,
    "start_time": "2021-09-22T08:49:22.678Z"
   },
   {
    "duration": 47,
    "start_time": "2021-09-22T08:49:23.277Z"
   },
   {
    "duration": 50,
    "start_time": "2021-09-22T08:49:23.326Z"
   },
   {
    "duration": 621,
    "start_time": "2021-09-22T08:49:23.378Z"
   },
   {
    "duration": 323,
    "start_time": "2021-09-22T08:49:24.001Z"
   },
   {
    "duration": 17,
    "start_time": "2021-09-22T08:49:24.327Z"
   },
   {
    "duration": 25,
    "start_time": "2021-09-22T08:49:24.347Z"
   },
   {
    "duration": 55,
    "start_time": "2021-09-22T08:49:24.375Z"
   },
   {
    "duration": 1201,
    "start_time": "2021-09-22T08:49:24.433Z"
   },
   {
    "duration": 194,
    "start_time": "2021-09-22T08:51:09.303Z"
   },
   {
    "duration": 147,
    "start_time": "2021-09-22T08:51:19.362Z"
   },
   {
    "duration": 156,
    "start_time": "2021-09-22T08:51:36.513Z"
   },
   {
    "duration": 333,
    "start_time": "2021-09-22T08:51:43.618Z"
   },
   {
    "duration": 341,
    "start_time": "2021-09-22T08:52:28.401Z"
   },
   {
    "duration": 3229,
    "start_time": "2021-09-22T08:52:33.637Z"
   },
   {
    "duration": 167,
    "start_time": "2021-09-22T08:54:03.381Z"
   },
   {
    "duration": 785,
    "start_time": "2021-09-22T08:54:38.150Z"
   },
   {
    "duration": 192,
    "start_time": "2021-09-22T08:55:00.227Z"
   },
   {
    "duration": 302,
    "start_time": "2021-09-22T08:55:37.247Z"
   },
   {
    "duration": 150,
    "start_time": "2021-09-22T08:56:01.405Z"
   },
   {
    "duration": 341,
    "start_time": "2021-09-22T08:56:17.013Z"
   },
   {
    "duration": 304,
    "start_time": "2021-09-22T08:56:58.155Z"
   },
   {
    "duration": 190,
    "start_time": "2021-09-22T08:57:33.136Z"
   },
   {
    "duration": 285,
    "start_time": "2021-09-22T08:58:56.634Z"
   },
   {
    "duration": 209,
    "start_time": "2021-09-22T08:59:26.561Z"
   },
   {
    "duration": 1237,
    "start_time": "2021-09-22T09:00:18.117Z"
   },
   {
    "duration": 238,
    "start_time": "2021-09-22T09:00:27.274Z"
   },
   {
    "duration": 187,
    "start_time": "2021-09-22T09:00:46.278Z"
   },
   {
    "duration": 341,
    "start_time": "2021-09-22T09:01:00.226Z"
   },
   {
    "duration": 209,
    "start_time": "2021-09-22T09:01:52.374Z"
   },
   {
    "duration": 206,
    "start_time": "2021-09-22T09:02:19.766Z"
   },
   {
    "duration": 165,
    "start_time": "2021-09-22T09:02:57.680Z"
   },
   {
    "duration": 1048,
    "start_time": "2021-09-22T09:04:03.490Z"
   },
   {
    "duration": 1022,
    "start_time": "2021-09-22T09:04:26.809Z"
   },
   {
    "duration": 348,
    "start_time": "2021-09-22T09:04:58.461Z"
   },
   {
    "duration": 1109,
    "start_time": "2021-09-22T09:06:47.415Z"
   },
   {
    "duration": 1119,
    "start_time": "2021-09-22T09:06:57.760Z"
   },
   {
    "duration": 1192,
    "start_time": "2021-09-22T09:07:08.868Z"
   },
   {
    "duration": 16,
    "start_time": "2021-09-22T09:09:00.249Z"
   },
   {
    "duration": 15,
    "start_time": "2021-09-22T09:09:06.624Z"
   },
   {
    "duration": 286,
    "start_time": "2021-09-22T09:09:09.220Z"
   },
   {
    "duration": 23,
    "start_time": "2021-09-22T09:09:20.070Z"
   },
   {
    "duration": 22,
    "start_time": "2021-09-22T09:09:33.835Z"
   },
   {
    "duration": 371,
    "start_time": "2021-09-22T09:09:43.846Z"
   },
   {
    "duration": 21,
    "start_time": "2021-09-22T09:09:59.411Z"
   },
   {
    "duration": 488,
    "start_time": "2021-09-22T09:10:16.649Z"
   },
   {
    "duration": 24,
    "start_time": "2021-09-22T09:10:22.483Z"
   },
   {
    "duration": 24,
    "start_time": "2021-09-22T09:10:49.388Z"
   },
   {
    "duration": 547,
    "start_time": "2021-09-22T09:10:57.720Z"
   },
   {
    "duration": 23,
    "start_time": "2021-09-22T09:12:33.352Z"
   },
   {
    "duration": 107,
    "start_time": "2021-09-22T09:12:44.642Z"
   },
   {
    "duration": 18,
    "start_time": "2021-09-22T09:13:01.808Z"
   },
   {
    "duration": 17,
    "start_time": "2021-09-22T09:13:36.576Z"
   },
   {
    "duration": 26,
    "start_time": "2021-09-22T09:15:28.394Z"
   },
   {
    "duration": 31,
    "start_time": "2021-09-22T09:16:12.328Z"
   },
   {
    "duration": 327,
    "start_time": "2021-09-22T09:16:55.866Z"
   },
   {
    "duration": 23,
    "start_time": "2021-09-22T09:17:39.436Z"
   },
   {
    "duration": 7328,
    "start_time": "2021-09-22T09:20:16.574Z"
   },
   {
    "duration": 7273,
    "start_time": "2021-09-22T09:20:58.499Z"
   },
   {
    "duration": 7429,
    "start_time": "2021-09-22T09:21:38.596Z"
   },
   {
    "duration": 7,
    "start_time": "2021-09-22T09:31:37.440Z"
   },
   {
    "duration": 30,
    "start_time": "2021-09-22T09:43:54.549Z"
   },
   {
    "duration": 30,
    "start_time": "2021-09-22T09:52:23.352Z"
   },
   {
    "duration": 502,
    "start_time": "2021-09-22T09:55:09.975Z"
   },
   {
    "duration": 572,
    "start_time": "2021-09-22T09:56:50.956Z"
   },
   {
    "duration": 569,
    "start_time": "2021-09-22T09:57:27.463Z"
   },
   {
    "duration": 564,
    "start_time": "2021-09-22T09:57:38.250Z"
   },
   {
    "duration": 572,
    "start_time": "2021-09-22T09:57:49.410Z"
   },
   {
    "duration": 576,
    "start_time": "2021-09-22T09:57:54.880Z"
   },
   {
    "duration": 586,
    "start_time": "2021-09-22T09:58:04.898Z"
   },
   {
    "duration": 678,
    "start_time": "2021-09-22T09:58:12.232Z"
   },
   {
    "duration": 575,
    "start_time": "2021-09-22T09:58:16.128Z"
   },
   {
    "duration": 762,
    "start_time": "2021-09-22T09:58:23.365Z"
   },
   {
    "duration": 621,
    "start_time": "2021-09-22T09:58:30.312Z"
   },
   {
    "duration": 675,
    "start_time": "2021-09-22T09:58:37.630Z"
   },
   {
    "duration": 588,
    "start_time": "2021-09-22T09:58:51.231Z"
   },
   {
    "duration": 593,
    "start_time": "2021-09-22T09:59:18.371Z"
   },
   {
    "duration": 576,
    "start_time": "2021-09-22T09:59:28.567Z"
   },
   {
    "duration": 576,
    "start_time": "2021-09-22T09:59:34.347Z"
   },
   {
    "duration": 576,
    "start_time": "2021-09-22T09:59:45.373Z"
   },
   {
    "duration": 584,
    "start_time": "2021-09-22T09:59:59.706Z"
   },
   {
    "duration": 25,
    "start_time": "2021-09-22T10:01:47.135Z"
   },
   {
    "duration": 22,
    "start_time": "2021-09-22T10:02:32.528Z"
   },
   {
    "duration": 739,
    "start_time": "2021-09-22T10:03:56.655Z"
   },
   {
    "duration": 661,
    "start_time": "2021-09-22T10:04:10.229Z"
   },
   {
    "duration": 625,
    "start_time": "2021-09-22T10:04:26.212Z"
   },
   {
    "duration": 720,
    "start_time": "2021-09-22T10:11:22.725Z"
   },
   {
    "duration": 611,
    "start_time": "2021-09-22T10:11:59.216Z"
   },
   {
    "duration": 6,
    "start_time": "2021-09-22T11:14:01.178Z"
   },
   {
    "duration": 86,
    "start_time": "2021-09-22T11:14:01.189Z"
   },
   {
    "duration": 42,
    "start_time": "2021-09-22T11:14:01.277Z"
   },
   {
    "duration": 46,
    "start_time": "2021-09-22T11:14:01.322Z"
   },
   {
    "duration": 53,
    "start_time": "2021-09-22T11:14:01.371Z"
   },
   {
    "duration": 617,
    "start_time": "2021-09-22T11:14:01.426Z"
   },
   {
    "duration": 24,
    "start_time": "2021-09-22T11:14:02.045Z"
   },
   {
    "duration": 422,
    "start_time": "2021-09-22T11:14:02.072Z"
   },
   {
    "duration": 21,
    "start_time": "2021-09-22T11:14:02.496Z"
   },
   {
    "duration": 794,
    "start_time": "2021-09-22T11:14:02.521Z"
   },
   {
    "duration": 32,
    "start_time": "2021-09-22T11:14:03.333Z"
   },
   {
    "duration": 636,
    "start_time": "2021-09-22T11:14:03.368Z"
   },
   {
    "duration": 596,
    "start_time": "2021-09-22T11:14:04.007Z"
   },
   {
    "duration": 162,
    "start_time": "2021-09-22T11:14:04.605Z"
   },
   {
    "duration": 40,
    "start_time": "2021-09-22T11:14:04.769Z"
   },
   {
    "duration": 569,
    "start_time": "2021-09-22T11:14:04.812Z"
   },
   {
    "duration": 540,
    "start_time": "2021-09-22T11:14:05.383Z"
   },
   {
    "duration": 1214,
    "start_time": "2021-09-22T11:14:05.926Z"
   },
   {
    "duration": 24,
    "start_time": "2021-09-22T11:14:07.143Z"
   },
   {
    "duration": 32,
    "start_time": "2021-09-22T11:14:07.170Z"
   },
   {
    "duration": 8160,
    "start_time": "2021-09-22T11:14:07.204Z"
   },
   {
    "duration": 55,
    "start_time": "2021-09-22T11:14:15.366Z"
   },
   {
    "duration": 1216,
    "start_time": "2021-09-22T11:14:15.423Z"
   },
   {
    "duration": 45,
    "start_time": "2021-09-22T12:30:52.104Z"
   },
   {
    "duration": 6,
    "start_time": "2021-09-22T12:31:01.387Z"
   },
   {
    "duration": 114,
    "start_time": "2021-09-22T12:31:01.396Z"
   },
   {
    "duration": 66,
    "start_time": "2021-09-22T12:31:01.514Z"
   },
   {
    "duration": 22,
    "start_time": "2021-09-22T12:31:01.584Z"
   },
   {
    "duration": 45,
    "start_time": "2021-09-22T12:31:01.609Z"
   },
   {
    "duration": 620,
    "start_time": "2021-09-22T12:31:01.669Z"
   },
   {
    "duration": 20,
    "start_time": "2021-09-22T12:31:02.292Z"
   },
   {
    "duration": 577,
    "start_time": "2021-09-22T12:31:02.314Z"
   },
   {
    "duration": 20,
    "start_time": "2021-09-22T12:31:02.894Z"
   },
   {
    "duration": 637,
    "start_time": "2021-09-22T12:31:02.917Z"
   },
   {
    "duration": 30,
    "start_time": "2021-09-22T12:31:03.564Z"
   },
   {
    "duration": 724,
    "start_time": "2021-09-22T12:31:03.596Z"
   },
   {
    "duration": 654,
    "start_time": "2021-09-22T12:31:04.322Z"
   },
   {
    "duration": 48,
    "start_time": "2021-09-22T12:31:04.979Z"
   },
   {
    "duration": 56,
    "start_time": "2021-09-22T12:31:05.031Z"
   },
   {
    "duration": 655,
    "start_time": "2021-09-22T12:31:05.091Z"
   },
   {
    "duration": 446,
    "start_time": "2021-09-22T12:31:05.749Z"
   },
   {
    "duration": 1231,
    "start_time": "2021-09-22T12:31:06.198Z"
   },
   {
    "duration": 33,
    "start_time": "2021-09-22T12:31:07.431Z"
   },
   {
    "duration": 31,
    "start_time": "2021-09-22T12:31:07.472Z"
   },
   {
    "duration": 8402,
    "start_time": "2021-09-22T12:31:07.506Z"
   },
   {
    "duration": 76,
    "start_time": "2021-09-22T12:31:15.911Z"
   },
   {
    "duration": 1473,
    "start_time": "2021-09-22T12:31:15.990Z"
   },
   {
    "duration": 6,
    "start_time": "2021-09-22T13:44:21.234Z"
   },
   {
    "duration": 75,
    "start_time": "2021-09-22T13:44:21.246Z"
   },
   {
    "duration": 61,
    "start_time": "2021-09-22T13:44:21.324Z"
   },
   {
    "duration": 23,
    "start_time": "2021-09-22T13:44:21.389Z"
   },
   {
    "duration": 56,
    "start_time": "2021-09-22T13:44:21.415Z"
   },
   {
    "duration": 690,
    "start_time": "2021-09-22T13:44:21.474Z"
   },
   {
    "duration": 26,
    "start_time": "2021-09-22T13:44:22.167Z"
   },
   {
    "duration": 460,
    "start_time": "2021-09-22T13:44:22.196Z"
   },
   {
    "duration": 20,
    "start_time": "2021-09-22T13:44:22.660Z"
   },
   {
    "duration": 577,
    "start_time": "2021-09-22T13:44:22.683Z"
   },
   {
    "duration": 22,
    "start_time": "2021-09-22T13:44:23.262Z"
   },
   {
    "duration": 736,
    "start_time": "2021-09-22T13:44:23.286Z"
   },
   {
    "duration": 714,
    "start_time": "2021-09-22T13:44:24.025Z"
   },
   {
    "duration": 76,
    "start_time": "2021-09-22T13:44:24.741Z"
   },
   {
    "duration": 59,
    "start_time": "2021-09-22T13:44:24.820Z"
   },
   {
    "duration": 978,
    "start_time": "2021-09-22T13:44:24.882Z"
   },
   {
    "duration": 590,
    "start_time": "2021-09-22T13:44:25.863Z"
   },
   {
    "duration": 1765,
    "start_time": "2021-09-22T13:44:26.456Z"
   },
   {
    "duration": 34,
    "start_time": "2021-09-22T13:44:28.224Z"
   },
   {
    "duration": 31,
    "start_time": "2021-09-22T13:44:28.260Z"
   },
   {
    "duration": 7569,
    "start_time": "2021-09-22T13:44:28.293Z"
   },
   {
    "duration": 60,
    "start_time": "2021-09-22T13:44:35.866Z"
   },
   {
    "duration": 1731,
    "start_time": "2021-09-22T13:44:35.929Z"
   },
   {
    "duration": 6,
    "start_time": "2021-09-22T13:49:34.715Z"
   },
   {
    "duration": 77,
    "start_time": "2021-09-22T13:49:34.725Z"
   },
   {
    "duration": 60,
    "start_time": "2021-09-22T13:49:34.805Z"
   },
   {
    "duration": 24,
    "start_time": "2021-09-22T13:49:34.867Z"
   },
   {
    "duration": 19,
    "start_time": "2021-09-22T13:49:34.894Z"
   },
   {
    "duration": 606,
    "start_time": "2021-09-22T13:49:34.916Z"
   },
   {
    "duration": 37,
    "start_time": "2021-09-22T13:49:35.525Z"
   },
   {
    "duration": 403,
    "start_time": "2021-09-22T13:49:35.565Z"
   },
   {
    "duration": 20,
    "start_time": "2021-09-22T13:49:35.972Z"
   },
   {
    "duration": 691,
    "start_time": "2021-09-22T13:49:35.995Z"
   },
   {
    "duration": 23,
    "start_time": "2021-09-22T13:49:36.688Z"
   },
   {
    "duration": 622,
    "start_time": "2021-09-22T13:49:36.713Z"
   },
   {
    "duration": 585,
    "start_time": "2021-09-22T13:49:37.337Z"
   },
   {
    "duration": 52,
    "start_time": "2021-09-22T13:49:37.925Z"
   },
   {
    "duration": 25,
    "start_time": "2021-09-22T13:49:37.980Z"
   },
   {
    "duration": 673,
    "start_time": "2021-09-22T13:49:38.007Z"
   },
   {
    "duration": 169,
    "start_time": "2021-09-22T13:49:38.683Z"
   },
   {
    "duration": 1088,
    "start_time": "2021-09-22T13:49:38.855Z"
   },
   {
    "duration": 21,
    "start_time": "2021-09-22T13:49:39.946Z"
   },
   {
    "duration": 27,
    "start_time": "2021-09-22T13:49:39.969Z"
   },
   {
    "duration": 7265,
    "start_time": "2021-09-22T13:49:39.998Z"
   },
   {
    "duration": 62,
    "start_time": "2021-09-22T13:49:47.266Z"
   },
   {
    "duration": 1228,
    "start_time": "2021-09-22T13:49:47.331Z"
   },
   {
    "duration": 123,
    "start_time": "2021-09-23T08:41:29.165Z"
   },
   {
    "duration": 406,
    "start_time": "2021-09-23T11:52:53.507Z"
   },
   {
    "duration": 1659,
    "start_time": "2021-09-23T11:52:59.930Z"
   },
   {
    "duration": 77,
    "start_time": "2021-09-23T11:53:01.592Z"
   },
   {
    "duration": 37,
    "start_time": "2021-09-23T11:53:06.220Z"
   },
   {
    "duration": 398,
    "start_time": "2021-09-23T11:54:36.772Z"
   },
   {
    "duration": 6,
    "start_time": "2021-09-23T11:54:45.340Z"
   },
   {
    "duration": 68,
    "start_time": "2021-09-23T11:54:45.349Z"
   },
   {
    "duration": 62,
    "start_time": "2021-09-23T11:54:45.420Z"
   },
   {
    "duration": 23,
    "start_time": "2021-09-23T11:54:45.485Z"
   },
   {
    "duration": 58,
    "start_time": "2021-09-23T11:54:45.511Z"
   },
   {
    "duration": 602,
    "start_time": "2021-09-23T11:54:45.571Z"
   },
   {
    "duration": 21,
    "start_time": "2021-09-23T11:54:46.175Z"
   },
   {
    "duration": 424,
    "start_time": "2021-09-23T11:54:46.200Z"
   },
   {
    "duration": 26,
    "start_time": "2021-09-23T11:54:46.627Z"
   },
   {
    "duration": 932,
    "start_time": "2021-09-23T11:54:46.656Z"
   },
   {
    "duration": 35,
    "start_time": "2021-09-23T11:54:47.592Z"
   },
   {
    "duration": 1014,
    "start_time": "2021-09-23T11:54:47.631Z"
   },
   {
    "duration": 948,
    "start_time": "2021-09-23T11:54:48.648Z"
   },
   {
    "duration": 207,
    "start_time": "2021-09-23T11:54:49.599Z"
   },
   {
    "duration": 41,
    "start_time": "2021-09-23T11:54:49.809Z"
   },
   {
    "duration": 602,
    "start_time": "2021-09-23T11:54:49.868Z"
   },
   {
    "duration": 381,
    "start_time": "2021-09-23T11:54:50.473Z"
   },
   {
    "duration": 1134,
    "start_time": "2021-09-23T11:54:50.856Z"
   },
   {
    "duration": 18,
    "start_time": "2021-09-23T11:54:51.992Z"
   },
   {
    "duration": 57,
    "start_time": "2021-09-23T11:54:52.012Z"
   },
   {
    "duration": 7639,
    "start_time": "2021-09-23T11:54:52.071Z"
   },
   {
    "duration": 75,
    "start_time": "2021-09-23T11:54:59.712Z"
   },
   {
    "duration": 1225,
    "start_time": "2021-09-23T11:54:59.790Z"
   },
   {
    "duration": 6,
    "start_time": "2021-09-23T14:15:38.820Z"
   },
   {
    "duration": 68,
    "start_time": "2021-09-23T14:15:38.832Z"
   },
   {
    "duration": 34,
    "start_time": "2021-09-23T14:15:38.902Z"
   },
   {
    "duration": 46,
    "start_time": "2021-09-23T14:15:38.939Z"
   },
   {
    "duration": 19,
    "start_time": "2021-09-23T14:15:38.988Z"
   },
   {
    "duration": 596,
    "start_time": "2021-09-23T14:15:39.009Z"
   },
   {
    "duration": 22,
    "start_time": "2021-09-23T14:15:39.608Z"
   },
   {
    "duration": 492,
    "start_time": "2021-09-23T14:15:39.632Z"
   },
   {
    "duration": 21,
    "start_time": "2021-09-23T14:15:40.127Z"
   },
   {
    "duration": 561,
    "start_time": "2021-09-23T14:15:40.168Z"
   },
   {
    "duration": 37,
    "start_time": "2021-09-23T14:15:40.731Z"
   },
   {
    "duration": 836,
    "start_time": "2021-09-23T14:15:40.771Z"
   },
   {
    "duration": 593,
    "start_time": "2021-09-23T14:15:41.609Z"
   },
   {
    "duration": 64,
    "start_time": "2021-09-23T14:15:42.205Z"
   },
   {
    "duration": 25,
    "start_time": "2021-09-23T14:15:42.271Z"
   },
   {
    "duration": 581,
    "start_time": "2021-09-23T14:15:42.298Z"
   },
   {
    "duration": 438,
    "start_time": "2021-09-23T14:15:42.881Z"
   },
   {
    "duration": 1089,
    "start_time": "2021-09-23T14:15:43.322Z"
   },
   {
    "duration": 18,
    "start_time": "2021-09-23T14:15:44.413Z"
   },
   {
    "duration": 48,
    "start_time": "2021-09-23T14:15:44.433Z"
   },
   {
    "duration": 7360,
    "start_time": "2021-09-23T14:15:44.483Z"
   },
   {
    "duration": 70,
    "start_time": "2021-09-23T14:15:51.845Z"
   },
   {
    "duration": 1230,
    "start_time": "2021-09-23T14:15:51.917Z"
   },
   {
    "duration": 353,
    "start_time": "2021-09-23T14:17:48.982Z"
   },
   {
    "duration": 383,
    "start_time": "2021-09-23T14:18:01.102Z"
   },
   {
    "duration": 6,
    "start_time": "2021-09-23T14:18:07.074Z"
   },
   {
    "duration": 87,
    "start_time": "2021-09-23T14:18:07.082Z"
   },
   {
    "duration": 35,
    "start_time": "2021-09-23T14:18:07.172Z"
   },
   {
    "duration": 21,
    "start_time": "2021-09-23T14:18:07.209Z"
   },
   {
    "duration": 53,
    "start_time": "2021-09-23T14:18:07.232Z"
   },
   {
    "duration": 584,
    "start_time": "2021-09-23T14:18:07.287Z"
   },
   {
    "duration": 18,
    "start_time": "2021-09-23T14:18:07.874Z"
   },
   {
    "duration": 412,
    "start_time": "2021-09-23T14:18:07.895Z"
   },
   {
    "duration": 22,
    "start_time": "2021-09-23T14:18:08.310Z"
   },
   {
    "duration": 573,
    "start_time": "2021-09-23T14:18:08.335Z"
   },
   {
    "duration": 22,
    "start_time": "2021-09-23T14:18:08.911Z"
   },
   {
    "duration": 634,
    "start_time": "2021-09-23T14:18:08.936Z"
   },
   {
    "duration": 609,
    "start_time": "2021-09-23T14:18:09.574Z"
   },
   {
    "duration": 49,
    "start_time": "2021-09-23T14:18:10.185Z"
   },
   {
    "duration": 48,
    "start_time": "2021-09-23T14:18:10.237Z"
   },
   {
    "duration": 673,
    "start_time": "2021-09-23T14:18:10.288Z"
   },
   {
    "duration": 471,
    "start_time": "2021-09-23T14:18:10.967Z"
   },
   {
    "duration": 1259,
    "start_time": "2021-09-23T14:18:11.441Z"
   },
   {
    "duration": 17,
    "start_time": "2021-09-23T14:18:12.702Z"
   },
   {
    "duration": 54,
    "start_time": "2021-09-23T14:18:12.722Z"
   },
   {
    "duration": 7376,
    "start_time": "2021-09-23T14:18:12.779Z"
   },
   {
    "duration": 57,
    "start_time": "2021-09-23T14:18:20.166Z"
   },
   {
    "duration": 1244,
    "start_time": "2021-09-23T14:18:20.226Z"
   },
   {
    "duration": 19,
    "start_time": "2021-09-23T14:26:35.975Z"
   },
   {
    "duration": 392,
    "start_time": "2021-09-23T14:26:38.053Z"
   },
   {
    "duration": 390,
    "start_time": "2021-09-23T14:26:48.829Z"
   },
   {
    "duration": 497,
    "start_time": "2021-09-23T14:26:54.640Z"
   },
   {
    "duration": 394,
    "start_time": "2021-09-23T14:27:00.270Z"
   },
   {
    "duration": 384,
    "start_time": "2021-09-23T14:27:04.592Z"
   },
   {
    "duration": 406,
    "start_time": "2021-09-23T14:27:08.579Z"
   },
   {
    "duration": 387,
    "start_time": "2021-09-23T14:34:11.543Z"
   },
   {
    "duration": 863,
    "start_time": "2021-09-23T14:34:22.534Z"
   },
   {
    "duration": 2506,
    "start_time": "2021-09-23T14:39:17.592Z"
   },
   {
    "duration": 1120,
    "start_time": "2021-09-23T14:39:30.780Z"
   },
   {
    "duration": 844,
    "start_time": "2021-09-23T14:39:45.952Z"
   },
   {
    "duration": 945,
    "start_time": "2021-09-23T14:40:03.473Z"
   },
   {
    "duration": 496,
    "start_time": "2021-09-23T14:42:18.706Z"
   },
   {
    "duration": 344,
    "start_time": "2021-09-23T14:42:45.256Z"
   },
   {
    "duration": 827,
    "start_time": "2021-09-23T14:45:23.418Z"
   },
   {
    "duration": 242,
    "start_time": "2021-09-23T14:45:46.952Z"
   },
   {
    "duration": 238,
    "start_time": "2021-09-23T14:46:57.524Z"
   },
   {
    "duration": 243,
    "start_time": "2021-09-23T14:47:17.448Z"
   },
   {
    "duration": 833,
    "start_time": "2021-09-23T14:48:18.684Z"
   },
   {
    "duration": 882,
    "start_time": "2021-09-23T14:48:27.403Z"
   },
   {
    "duration": 967,
    "start_time": "2021-09-23T14:48:31.223Z"
   },
   {
    "duration": 237,
    "start_time": "2021-09-23T14:48:54.280Z"
   },
   {
    "duration": 247,
    "start_time": "2021-09-23T14:49:33.081Z"
   },
   {
    "duration": 249,
    "start_time": "2021-09-23T14:50:16.780Z"
   },
   {
    "duration": 13,
    "start_time": "2021-09-23T14:54:17.422Z"
   },
   {
    "duration": 35,
    "start_time": "2021-09-23T14:57:42.837Z"
   },
   {
    "duration": 11,
    "start_time": "2021-09-23T14:57:54.049Z"
   },
   {
    "duration": 9,
    "start_time": "2021-09-23T14:58:14.620Z"
   },
   {
    "duration": 12,
    "start_time": "2021-09-23T14:59:14.902Z"
   },
   {
    "duration": 13,
    "start_time": "2021-09-23T14:59:20.556Z"
   },
   {
    "duration": 13,
    "start_time": "2021-09-23T14:59:26.974Z"
   },
   {
    "duration": 361,
    "start_time": "2021-09-23T15:01:43.259Z"
   },
   {
    "duration": 29,
    "start_time": "2021-09-23T15:03:06.945Z"
   },
   {
    "duration": 20,
    "start_time": "2021-09-23T15:03:33.226Z"
   },
   {
    "duration": 20,
    "start_time": "2021-09-23T15:04:00.973Z"
   },
   {
    "duration": 24,
    "start_time": "2021-09-23T15:04:45.092Z"
   },
   {
    "duration": 150,
    "start_time": "2021-09-23T15:07:59.141Z"
   },
   {
    "duration": 28,
    "start_time": "2021-09-23T15:08:03.469Z"
   },
   {
    "duration": 30,
    "start_time": "2021-09-23T15:08:23.595Z"
   },
   {
    "duration": 9434,
    "start_time": "2021-09-23T15:08:54.418Z"
   },
   {
    "duration": 31,
    "start_time": "2021-09-23T15:09:07.290Z"
   },
   {
    "duration": 32,
    "start_time": "2021-09-23T15:09:45.519Z"
   },
   {
    "duration": 30,
    "start_time": "2021-09-23T15:12:01.342Z"
   },
   {
    "duration": 31,
    "start_time": "2021-09-23T15:12:22.954Z"
   },
   {
    "duration": 506,
    "start_time": "2021-09-23T15:12:56.093Z"
   },
   {
    "duration": 510,
    "start_time": "2021-09-23T15:13:19.377Z"
   },
   {
    "duration": 529,
    "start_time": "2021-09-23T15:13:27.586Z"
   },
   {
    "duration": 522,
    "start_time": "2021-09-23T15:13:34.680Z"
   },
   {
    "duration": 502,
    "start_time": "2021-09-23T15:13:56.297Z"
   },
   {
    "duration": 32,
    "start_time": "2021-09-23T15:14:08.764Z"
   },
   {
    "duration": 33,
    "start_time": "2021-09-23T15:14:23.103Z"
   },
   {
    "duration": 531,
    "start_time": "2021-09-23T15:14:31.065Z"
   },
   {
    "duration": 528,
    "start_time": "2021-09-23T15:14:39.942Z"
   },
   {
    "duration": 632,
    "start_time": "2021-09-23T15:14:50.335Z"
   },
   {
    "duration": 561,
    "start_time": "2021-09-23T15:15:09.955Z"
   },
   {
    "duration": 420,
    "start_time": "2021-09-23T15:15:18.453Z"
   },
   {
    "duration": 566,
    "start_time": "2021-09-23T15:15:26.334Z"
   },
   {
    "duration": 584,
    "start_time": "2021-09-23T15:15:42.648Z"
   },
   {
    "duration": 554,
    "start_time": "2021-09-23T15:15:51.181Z"
   },
   {
    "duration": 563,
    "start_time": "2021-09-23T15:15:55.147Z"
   },
   {
    "duration": 660,
    "start_time": "2021-09-23T15:15:58.848Z"
   },
   {
    "duration": 559,
    "start_time": "2021-09-23T15:16:05.519Z"
   },
   {
    "duration": 575,
    "start_time": "2021-09-23T15:16:35.242Z"
   },
   {
    "duration": 569,
    "start_time": "2021-09-23T15:16:40.285Z"
   },
   {
    "duration": 675,
    "start_time": "2021-09-23T15:18:51.092Z"
   },
   {
    "duration": 14,
    "start_time": "2021-09-23T16:42:22.544Z"
   },
   {
    "duration": 9,
    "start_time": "2021-09-23T16:42:39.727Z"
   },
   {
    "duration": 6,
    "start_time": "2021-09-23T16:43:14.000Z"
   },
   {
    "duration": 28,
    "start_time": "2021-09-23T16:43:26.866Z"
   },
   {
    "duration": 12,
    "start_time": "2021-09-23T16:43:59.742Z"
   },
   {
    "duration": 14,
    "start_time": "2021-09-23T16:44:17.494Z"
   },
   {
    "duration": 14,
    "start_time": "2021-09-23T16:48:10.233Z"
   },
   {
    "duration": 14,
    "start_time": "2021-09-23T16:48:15.995Z"
   },
   {
    "duration": 24,
    "start_time": "2021-09-23T16:49:19.829Z"
   },
   {
    "duration": 31,
    "start_time": "2021-09-23T16:50:50.473Z"
   },
   {
    "duration": 39,
    "start_time": "2021-09-23T16:56:44.013Z"
   },
   {
    "duration": 42,
    "start_time": "2021-09-23T16:57:12.049Z"
   },
   {
    "duration": 38,
    "start_time": "2021-09-23T17:00:38.875Z"
   },
   {
    "duration": 39,
    "start_time": "2021-09-23T17:01:03.375Z"
   },
   {
    "duration": 390,
    "start_time": "2021-09-23T17:02:17.780Z"
   },
   {
    "duration": 402,
    "start_time": "2021-09-23T17:02:32.262Z"
   },
   {
    "duration": 37,
    "start_time": "2021-09-23T17:02:39.483Z"
   },
   {
    "duration": 659,
    "start_time": "2021-09-23T17:02:58.223Z"
   },
   {
    "duration": 41,
    "start_time": "2021-09-23T17:03:11.772Z"
   },
   {
    "duration": 40,
    "start_time": "2021-09-23T17:14:26.202Z"
   },
   {
    "duration": 39,
    "start_time": "2021-09-23T17:14:41.354Z"
   },
   {
    "duration": 49,
    "start_time": "2021-09-23T17:14:59.437Z"
   },
   {
    "duration": 383,
    "start_time": "2021-09-23T17:15:16.546Z"
   },
   {
    "duration": 45,
    "start_time": "2021-09-23T17:15:31.180Z"
   },
   {
    "duration": 53,
    "start_time": "2021-09-23T17:18:43.491Z"
   },
   {
    "duration": 52,
    "start_time": "2021-09-23T17:19:17.199Z"
   },
   {
    "duration": 50,
    "start_time": "2021-09-23T17:20:16.150Z"
   },
   {
    "duration": 9425,
    "start_time": "2021-09-23T17:29:52.894Z"
   },
   {
    "duration": 394,
    "start_time": "2021-09-23T17:30:50.656Z"
   },
   {
    "duration": 108,
    "start_time": "2021-09-23T17:31:17.152Z"
   },
   {
    "duration": 118,
    "start_time": "2021-09-23T17:31:34.293Z"
   },
   {
    "duration": 109,
    "start_time": "2021-09-23T17:31:44.045Z"
   },
   {
    "duration": 130,
    "start_time": "2021-09-23T17:31:49.219Z"
   },
   {
    "duration": 402,
    "start_time": "2021-09-23T17:32:16.170Z"
   },
   {
    "duration": 57,
    "start_time": "2021-09-23T17:32:28.490Z"
   },
   {
    "duration": 58,
    "start_time": "2021-09-23T17:32:56.387Z"
   },
   {
    "duration": 65,
    "start_time": "2021-09-23T17:33:06.495Z"
   },
   {
    "duration": 66,
    "start_time": "2021-09-23T17:33:21.743Z"
   },
   {
    "duration": 66,
    "start_time": "2021-09-23T17:33:54.741Z"
   },
   {
    "duration": 136,
    "start_time": "2021-09-23T17:34:16.796Z"
   },
   {
    "duration": 468,
    "start_time": "2021-09-23T17:34:49.514Z"
   },
   {
    "duration": 402,
    "start_time": "2021-09-23T17:35:34.907Z"
   },
   {
    "duration": 424,
    "start_time": "2021-09-23T17:36:15.048Z"
   },
   {
    "duration": 55,
    "start_time": "2021-09-23T17:38:51.439Z"
   },
   {
    "duration": 61,
    "start_time": "2021-09-23T17:39:01.691Z"
   },
   {
    "duration": 377,
    "start_time": "2021-09-23T17:39:34.923Z"
   },
   {
    "duration": 56,
    "start_time": "2021-09-23T17:39:43.916Z"
   },
   {
    "duration": 55,
    "start_time": "2021-09-23T17:40:15.812Z"
   },
   {
    "duration": 54,
    "start_time": "2021-09-23T17:40:42.694Z"
   },
   {
    "duration": 58,
    "start_time": "2021-09-23T17:40:59.215Z"
   },
   {
    "duration": 62,
    "start_time": "2021-09-23T17:42:29.563Z"
   },
   {
    "duration": 51,
    "start_time": "2021-09-23T17:43:24.156Z"
   },
   {
    "duration": 139,
    "start_time": "2021-09-23T17:58:48.390Z"
   },
   {
    "duration": 111,
    "start_time": "2021-09-23T17:59:14.745Z"
   },
   {
    "duration": 75,
    "start_time": "2021-09-23T17:59:26.153Z"
   },
   {
    "duration": 73,
    "start_time": "2021-09-23T17:59:47.426Z"
   },
   {
    "duration": 58,
    "start_time": "2021-09-23T18:00:11.236Z"
   },
   {
    "duration": 81,
    "start_time": "2021-09-23T18:00:23.159Z"
   },
   {
    "duration": 72,
    "start_time": "2021-09-23T18:00:54.239Z"
   },
   {
    "duration": 68,
    "start_time": "2021-09-23T18:00:59.497Z"
   },
   {
    "duration": 57,
    "start_time": "2021-09-23T18:01:17.103Z"
   },
   {
    "duration": 82,
    "start_time": "2021-09-23T18:01:40.640Z"
   },
   {
    "duration": 334,
    "start_time": "2021-09-24T09:20:41.953Z"
   },
   {
    "duration": 1349,
    "start_time": "2021-09-24T09:20:47.612Z"
   },
   {
    "duration": 79,
    "start_time": "2021-09-24T09:20:48.963Z"
   },
   {
    "duration": 51,
    "start_time": "2021-09-24T09:20:49.045Z"
   },
   {
    "duration": 15,
    "start_time": "2021-09-24T09:20:49.098Z"
   },
   {
    "duration": 21,
    "start_time": "2021-09-24T09:20:49.115Z"
   },
   {
    "duration": 369,
    "start_time": "2021-09-24T09:20:49.138Z"
   },
   {
    "duration": 13,
    "start_time": "2021-09-24T09:20:49.508Z"
   },
   {
    "duration": 258,
    "start_time": "2021-09-24T09:20:49.523Z"
   },
   {
    "duration": 169,
    "start_time": "2021-09-24T09:20:49.784Z"
   },
   {
    "duration": 29,
    "start_time": "2021-09-24T09:20:49.955Z"
   },
   {
    "duration": 349,
    "start_time": "2021-09-24T09:20:49.986Z"
   },
   {
    "duration": 21,
    "start_time": "2021-09-24T09:20:50.336Z"
   },
   {
    "duration": 370,
    "start_time": "2021-09-24T09:20:50.359Z"
   },
   {
    "duration": 14,
    "start_time": "2021-09-24T09:20:50.731Z"
   },
   {
    "duration": 674,
    "start_time": "2021-09-24T09:20:50.746Z"
   },
   {
    "duration": 13,
    "start_time": "2021-09-24T09:20:51.422Z"
   },
   {
    "duration": 131,
    "start_time": "2021-09-24T09:20:51.438Z"
   },
   {
    "duration": 456,
    "start_time": "2021-09-24T09:20:51.571Z"
   },
   {
    "duration": 364,
    "start_time": "2021-09-24T09:20:52.029Z"
   },
   {
    "duration": 36,
    "start_time": "2021-09-24T09:20:52.395Z"
   },
   {
    "duration": 44,
    "start_time": "2021-09-24T09:20:52.433Z"
   },
   {
    "duration": 344,
    "start_time": "2021-09-24T09:20:52.480Z"
   },
   {
    "duration": 421,
    "start_time": "2021-09-24T09:20:52.826Z"
   },
   {
    "duration": 663,
    "start_time": "2021-09-24T09:20:53.249Z"
   },
   {
    "duration": 13,
    "start_time": "2021-09-24T09:20:53.914Z"
   },
   {
    "duration": 21,
    "start_time": "2021-09-24T09:20:53.929Z"
   },
   {
    "duration": 4686,
    "start_time": "2021-09-24T09:20:53.978Z"
   },
   {
    "duration": 44,
    "start_time": "2021-09-24T09:20:58.666Z"
   },
   {
    "duration": 1050,
    "start_time": "2021-09-24T09:20:58.712Z"
   },
   {
    "duration": 496,
    "start_time": "2021-09-24T09:21:54.604Z"
   },
   {
    "duration": 58,
    "start_time": "2021-09-24T09:28:23.826Z"
   },
   {
    "duration": 43,
    "start_time": "2021-09-24T09:29:18.776Z"
   },
   {
    "duration": 103,
    "start_time": "2021-09-24T09:30:03.824Z"
   },
   {
    "duration": 72,
    "start_time": "2021-09-24T09:30:12.081Z"
   },
   {
    "duration": 72,
    "start_time": "2021-09-24T09:31:59.453Z"
   },
   {
    "duration": 15,
    "start_time": "2021-09-24T09:32:59.317Z"
   },
   {
    "duration": 15,
    "start_time": "2021-09-24T09:33:02.836Z"
   },
   {
    "duration": 118,
    "start_time": "2021-09-24T09:34:12.021Z"
   },
   {
    "duration": 46,
    "start_time": "2021-09-24T09:34:36.491Z"
   },
   {
    "duration": 963,
    "start_time": "2021-09-24T09:59:11.296Z"
   },
   {
    "duration": 948,
    "start_time": "2021-09-24T09:59:24.326Z"
   },
   {
    "duration": 365,
    "start_time": "2021-09-24T09:59:45.331Z"
   },
   {
    "duration": 46,
    "start_time": "2021-09-24T10:11:30.083Z"
   },
   {
    "duration": 39,
    "start_time": "2021-09-24T10:12:26.756Z"
   },
   {
    "duration": 11,
    "start_time": "2021-09-24T10:17:01.242Z"
   },
   {
    "duration": 10,
    "start_time": "2021-09-24T10:18:16.565Z"
   },
   {
    "duration": 11,
    "start_time": "2021-09-24T10:18:24.989Z"
   },
   {
    "duration": 12,
    "start_time": "2021-09-24T10:18:50.793Z"
   },
   {
    "duration": 15,
    "start_time": "2021-09-24T10:21:00.770Z"
   },
   {
    "duration": 15,
    "start_time": "2021-09-24T10:21:35.351Z"
   },
   {
    "duration": 18,
    "start_time": "2021-09-24T10:22:58.805Z"
   },
   {
    "duration": 18,
    "start_time": "2021-09-24T10:23:54.541Z"
   },
   {
    "duration": 17,
    "start_time": "2021-09-24T10:24:18.533Z"
   },
   {
    "duration": 16,
    "start_time": "2021-09-24T10:24:26.498Z"
   },
   {
    "duration": 16,
    "start_time": "2021-09-24T10:24:41.717Z"
   },
   {
    "duration": 18,
    "start_time": "2021-09-24T10:24:54.455Z"
   },
   {
    "duration": 17,
    "start_time": "2021-09-24T10:25:21.384Z"
   },
   {
    "duration": 125,
    "start_time": "2021-09-24T10:25:32.453Z"
   },
   {
    "duration": 16,
    "start_time": "2021-09-24T10:25:46.590Z"
   },
   {
    "duration": 17,
    "start_time": "2021-09-24T10:26:16.365Z"
   },
   {
    "duration": 11,
    "start_time": "2021-09-24T10:29:45.850Z"
   },
   {
    "duration": 103,
    "start_time": "2021-09-24T10:41:17.585Z"
   },
   {
    "duration": 15,
    "start_time": "2021-09-24T10:42:11.416Z"
   },
   {
    "duration": 525,
    "start_time": "2021-09-24T10:43:25.672Z"
   },
   {
    "duration": 17,
    "start_time": "2021-09-24T12:36:34.426Z"
   },
   {
    "duration": 512,
    "start_time": "2021-09-24T12:52:21.678Z"
   },
   {
    "duration": 543,
    "start_time": "2021-09-24T12:53:33.968Z"
   },
   {
    "duration": 538,
    "start_time": "2021-09-24T12:54:08.313Z"
   },
   {
    "duration": 506,
    "start_time": "2021-09-24T12:54:16.025Z"
   },
   {
    "duration": 600,
    "start_time": "2021-09-24T12:54:20.220Z"
   },
   {
    "duration": 539,
    "start_time": "2021-09-24T12:54:35.960Z"
   },
   {
    "duration": 35,
    "start_time": "2021-09-24T12:58:07.141Z"
   },
   {
    "duration": 42,
    "start_time": "2021-09-24T12:58:22.374Z"
   },
   {
    "duration": 64,
    "start_time": "2021-09-24T12:59:28.714Z"
   },
   {
    "duration": 132,
    "start_time": "2021-09-24T13:00:35.142Z"
   },
   {
    "duration": 5,
    "start_time": "2021-09-24T13:01:30.853Z"
   },
   {
    "duration": 70,
    "start_time": "2021-09-24T13:01:46.723Z"
   },
   {
    "duration": 122,
    "start_time": "2021-09-24T13:02:38.970Z"
   },
   {
    "duration": 134,
    "start_time": "2021-09-24T13:02:45.094Z"
   },
   {
    "duration": 18,
    "start_time": "2021-09-24T13:03:30.383Z"
   },
   {
    "duration": 16,
    "start_time": "2021-09-24T13:03:50.810Z"
   },
   {
    "duration": 65,
    "start_time": "2021-09-24T13:05:09.695Z"
   },
   {
    "duration": 138,
    "start_time": "2021-09-24T13:05:57.944Z"
   },
   {
    "duration": 70,
    "start_time": "2021-09-24T13:06:06.309Z"
   },
   {
    "duration": 69,
    "start_time": "2021-09-24T13:06:48.648Z"
   },
   {
    "duration": 136,
    "start_time": "2021-09-24T13:07:00.040Z"
   },
   {
    "duration": 73,
    "start_time": "2021-09-24T13:09:28.450Z"
   },
   {
    "duration": 18,
    "start_time": "2021-09-24T13:09:33.531Z"
   },
   {
    "duration": 4,
    "start_time": "2021-09-24T13:09:40.740Z"
   },
   {
    "duration": 62,
    "start_time": "2021-09-24T13:09:40.746Z"
   },
   {
    "duration": 25,
    "start_time": "2021-09-24T13:09:40.810Z"
   },
   {
    "duration": 14,
    "start_time": "2021-09-24T13:09:40.837Z"
   },
   {
    "duration": 35,
    "start_time": "2021-09-24T13:09:40.852Z"
   },
   {
    "duration": 376,
    "start_time": "2021-09-24T13:09:40.889Z"
   },
   {
    "duration": 18,
    "start_time": "2021-09-24T13:09:41.267Z"
   },
   {
    "duration": 251,
    "start_time": "2021-09-24T13:09:41.287Z"
   },
   {
    "duration": 161,
    "start_time": "2021-09-24T13:09:41.540Z"
   },
   {
    "duration": 16,
    "start_time": "2021-09-24T13:09:41.702Z"
   },
   {
    "duration": 351,
    "start_time": "2021-09-24T13:09:41.719Z"
   },
   {
    "duration": 21,
    "start_time": "2021-09-24T13:09:42.072Z"
   },
   {
    "duration": 407,
    "start_time": "2021-09-24T13:09:42.095Z"
   },
   {
    "duration": 16,
    "start_time": "2021-09-24T13:09:42.504Z"
   },
   {
    "duration": 450,
    "start_time": "2021-09-24T13:09:42.521Z"
   },
   {
    "duration": 41,
    "start_time": "2021-09-24T13:09:42.973Z"
   },
   {
    "duration": 17,
    "start_time": "2021-09-24T13:09:43.015Z"
   },
   {
    "duration": 10,
    "start_time": "2021-09-24T13:09:43.034Z"
   },
   {
    "duration": 544,
    "start_time": "2021-09-24T13:09:43.078Z"
   },
   {
    "duration": 15,
    "start_time": "2021-09-24T13:09:43.624Z"
   },
   {
    "duration": 575,
    "start_time": "2021-09-24T13:09:43.641Z"
   },
   {
    "duration": 17,
    "start_time": "2021-09-24T13:09:44.219Z"
   },
   {
    "duration": 572,
    "start_time": "2021-09-24T13:09:44.238Z"
   },
   {
    "duration": 385,
    "start_time": "2021-09-24T13:09:44.812Z"
   },
   {
    "duration": 88,
    "start_time": "2021-09-24T13:09:45.198Z"
   },
   {
    "duration": 18,
    "start_time": "2021-09-24T13:09:45.288Z"
   },
   {
    "duration": 347,
    "start_time": "2021-09-24T13:09:45.307Z"
   },
   {
    "duration": 620,
    "start_time": "2021-09-24T13:09:45.656Z"
   },
   {
    "duration": 754,
    "start_time": "2021-09-24T13:09:46.279Z"
   },
   {
    "duration": 14,
    "start_time": "2021-09-24T13:09:47.035Z"
   },
   {
    "duration": 37,
    "start_time": "2021-09-24T13:09:47.050Z"
   },
   {
    "duration": 4574,
    "start_time": "2021-09-24T13:09:47.089Z"
   },
   {
    "duration": 47,
    "start_time": "2021-09-24T13:09:51.665Z"
   },
   {
    "duration": 778,
    "start_time": "2021-09-24T13:09:51.714Z"
   },
   {
    "duration": 420,
    "start_time": "2021-09-24T13:10:58.861Z"
   },
   {
    "duration": 16,
    "start_time": "2021-09-24T13:11:01.987Z"
   },
   {
    "duration": 441,
    "start_time": "2021-09-24T13:11:32.727Z"
   },
   {
    "duration": 86,
    "start_time": "2021-09-24T13:11:57.238Z"
   },
   {
    "duration": 73,
    "start_time": "2021-09-24T13:12:53.410Z"
   },
   {
    "duration": 19,
    "start_time": "2021-09-24T13:12:56.102Z"
   },
   {
    "duration": 120,
    "start_time": "2021-09-24T13:13:16.984Z"
   },
   {
    "duration": 71,
    "start_time": "2021-09-24T13:13:31.187Z"
   },
   {
    "duration": 64,
    "start_time": "2021-09-24T13:13:45.057Z"
   },
   {
    "duration": 125,
    "start_time": "2021-09-24T13:14:04.179Z"
   },
   {
    "duration": 41,
    "start_time": "2021-09-24T13:14:47.176Z"
   },
   {
    "duration": 48,
    "start_time": "2021-09-24T13:14:55.786Z"
   },
   {
    "duration": 11,
    "start_time": "2021-09-24T13:15:07.928Z"
   },
   {
    "duration": 25,
    "start_time": "2021-09-24T13:15:16.728Z"
   },
   {
    "duration": 19,
    "start_time": "2021-09-24T13:16:19.528Z"
   },
   {
    "duration": 17,
    "start_time": "2021-09-24T13:16:39.854Z"
   },
   {
    "duration": 16,
    "start_time": "2021-09-24T13:16:53.990Z"
   },
   {
    "duration": 53,
    "start_time": "2021-09-24T13:17:36.682Z"
   },
   {
    "duration": 58,
    "start_time": "2021-09-24T13:18:10.541Z"
   },
   {
    "duration": 5,
    "start_time": "2021-09-24T13:18:19.327Z"
   },
   {
    "duration": 60,
    "start_time": "2021-09-24T13:18:19.335Z"
   },
   {
    "duration": 25,
    "start_time": "2021-09-24T13:18:19.397Z"
   },
   {
    "duration": 15,
    "start_time": "2021-09-24T13:18:19.424Z"
   },
   {
    "duration": 40,
    "start_time": "2021-09-24T13:18:19.441Z"
   },
   {
    "duration": 359,
    "start_time": "2021-09-24T13:18:19.483Z"
   },
   {
    "duration": 14,
    "start_time": "2021-09-24T13:18:19.843Z"
   },
   {
    "duration": 317,
    "start_time": "2021-09-24T13:18:19.859Z"
   },
   {
    "duration": 159,
    "start_time": "2021-09-24T13:18:20.179Z"
   },
   {
    "duration": 14,
    "start_time": "2021-09-24T13:18:20.340Z"
   },
   {
    "duration": 351,
    "start_time": "2021-09-24T13:18:20.355Z"
   },
   {
    "duration": 20,
    "start_time": "2021-09-24T13:18:20.708Z"
   },
   {
    "duration": 363,
    "start_time": "2021-09-24T13:18:20.730Z"
   },
   {
    "duration": 15,
    "start_time": "2021-09-24T13:18:21.095Z"
   },
   {
    "duration": 385,
    "start_time": "2021-09-24T13:18:21.112Z"
   },
   {
    "duration": 42,
    "start_time": "2021-09-24T13:18:21.499Z"
   },
   {
    "duration": 38,
    "start_time": "2021-09-24T13:18:21.543Z"
   },
   {
    "duration": 10,
    "start_time": "2021-09-24T13:18:21.583Z"
   },
   {
    "duration": 522,
    "start_time": "2021-09-24T13:18:21.594Z"
   },
   {
    "duration": 17,
    "start_time": "2021-09-24T13:18:22.118Z"
   },
   {
    "duration": 565,
    "start_time": "2021-09-24T13:18:22.137Z"
   },
   {
    "duration": 17,
    "start_time": "2021-09-24T13:18:22.704Z"
   },
   {
    "duration": 505,
    "start_time": "2021-09-24T13:18:22.722Z"
   },
   {
    "duration": 383,
    "start_time": "2021-09-24T13:18:23.230Z"
   },
   {
    "duration": 66,
    "start_time": "2021-09-24T13:18:23.615Z"
   },
   {
    "duration": 16,
    "start_time": "2021-09-24T13:18:23.683Z"
   },
   {
    "duration": 442,
    "start_time": "2021-09-24T13:18:23.700Z"
   },
   {
    "duration": 877,
    "start_time": "2021-09-24T13:18:24.144Z"
   },
   {
    "duration": 663,
    "start_time": "2021-09-24T13:18:25.023Z"
   },
   {
    "duration": 12,
    "start_time": "2021-09-24T13:18:25.688Z"
   },
   {
    "duration": 28,
    "start_time": "2021-09-24T13:18:25.701Z"
   },
   {
    "duration": 4776,
    "start_time": "2021-09-24T13:18:25.731Z"
   },
   {
    "duration": 41,
    "start_time": "2021-09-24T13:18:30.510Z"
   },
   {
    "duration": 821,
    "start_time": "2021-09-24T13:18:30.553Z"
   },
   {
    "duration": 304,
    "start_time": "2021-09-24T13:19:55.071Z"
   },
   {
    "duration": 146,
    "start_time": "2021-09-24T13:20:07.944Z"
   },
   {
    "duration": 17,
    "start_time": "2021-09-24T13:20:24.387Z"
   },
   {
    "duration": 347,
    "start_time": "2021-09-24T13:20:35.679Z"
   },
   {
    "duration": 392,
    "start_time": "2021-09-24T13:20:51.626Z"
   },
   {
    "duration": 115,
    "start_time": "2021-09-24T13:22:40.587Z"
   },
   {
    "duration": 10,
    "start_time": "2021-09-24T13:30:31.395Z"
   },
   {
    "duration": 8,
    "start_time": "2021-09-24T13:31:08.418Z"
   },
   {
    "duration": 9,
    "start_time": "2021-09-24T13:32:11.022Z"
   },
   {
    "duration": 17,
    "start_time": "2021-09-24T13:32:18.669Z"
   },
   {
    "duration": 16,
    "start_time": "2021-09-24T13:34:06.285Z"
   },
   {
    "duration": 8,
    "start_time": "2021-09-24T13:40:22.555Z"
   },
   {
    "duration": 10,
    "start_time": "2021-09-24T13:41:26.687Z"
   },
   {
    "duration": 9,
    "start_time": "2021-09-24T13:41:45.196Z"
   },
   {
    "duration": 11,
    "start_time": "2021-09-24T13:42:07.514Z"
   },
   {
    "duration": 7,
    "start_time": "2021-09-24T13:44:11.659Z"
   },
   {
    "duration": 12,
    "start_time": "2021-09-24T13:44:19.014Z"
   },
   {
    "duration": 13,
    "start_time": "2021-09-24T13:46:22.416Z"
   },
   {
    "duration": 13,
    "start_time": "2021-09-24T13:46:40.579Z"
   },
   {
    "duration": 15,
    "start_time": "2021-09-24T13:47:35.192Z"
   },
   {
    "duration": 16,
    "start_time": "2021-09-24T13:47:48.297Z"
   },
   {
    "duration": 18,
    "start_time": "2021-09-24T13:49:26.055Z"
   },
   {
    "duration": 19,
    "start_time": "2021-09-24T13:49:59.762Z"
   },
   {
    "duration": 18,
    "start_time": "2021-09-24T13:50:21.506Z"
   },
   {
    "duration": 19,
    "start_time": "2021-09-24T13:50:30.431Z"
   },
   {
    "duration": 431,
    "start_time": "2021-09-24T13:57:42.337Z"
   },
   {
    "duration": 402,
    "start_time": "2021-09-24T13:58:57.626Z"
   },
   {
    "duration": 416,
    "start_time": "2021-09-24T13:59:18.597Z"
   },
   {
    "duration": 381,
    "start_time": "2021-09-24T14:00:23.212Z"
   },
   {
    "duration": 384,
    "start_time": "2021-09-24T14:00:29.396Z"
   },
   {
    "duration": 387,
    "start_time": "2021-09-24T14:00:33.480Z"
   },
   {
    "duration": 387,
    "start_time": "2021-09-24T14:00:43.404Z"
   },
   {
    "duration": 1236,
    "start_time": "2021-09-25T10:51:20.856Z"
   },
   {
    "duration": 59,
    "start_time": "2021-09-25T10:51:22.094Z"
   },
   {
    "duration": 27,
    "start_time": "2021-09-25T10:51:22.156Z"
   },
   {
    "duration": 14,
    "start_time": "2021-09-25T10:51:22.185Z"
   },
   {
    "duration": 15,
    "start_time": "2021-09-25T10:51:22.201Z"
   },
   {
    "duration": 402,
    "start_time": "2021-09-25T10:51:22.218Z"
   },
   {
    "duration": 13,
    "start_time": "2021-09-25T10:51:22.622Z"
   },
   {
    "duration": 259,
    "start_time": "2021-09-25T10:51:22.637Z"
   },
   {
    "duration": 180,
    "start_time": "2021-09-25T10:51:22.899Z"
   },
   {
    "duration": 16,
    "start_time": "2021-09-25T10:51:23.081Z"
   },
   {
    "duration": 371,
    "start_time": "2021-09-25T10:51:23.099Z"
   },
   {
    "duration": 20,
    "start_time": "2021-09-25T10:51:23.472Z"
   },
   {
    "duration": 368,
    "start_time": "2021-09-25T10:51:23.494Z"
   },
   {
    "duration": 15,
    "start_time": "2021-09-25T10:51:23.863Z"
   },
   {
    "duration": 375,
    "start_time": "2021-09-25T10:51:23.879Z"
   },
   {
    "duration": 121,
    "start_time": "2021-09-25T10:51:24.257Z"
   },
   {
    "duration": 19,
    "start_time": "2021-09-25T10:51:24.381Z"
   },
   {
    "duration": 12,
    "start_time": "2021-09-25T10:51:24.402Z"
   },
   {
    "duration": 552,
    "start_time": "2021-09-25T10:51:24.416Z"
   },
   {
    "duration": 14,
    "start_time": "2021-09-25T10:51:24.970Z"
   },
   {
    "duration": 516,
    "start_time": "2021-09-25T10:51:24.985Z"
   },
   {
    "duration": 14,
    "start_time": "2021-09-25T10:51:25.502Z"
   },
   {
    "duration": 566,
    "start_time": "2021-09-25T10:51:25.519Z"
   },
   {
    "duration": 374,
    "start_time": "2021-09-25T10:51:26.088Z"
   },
   {
    "duration": 42,
    "start_time": "2021-09-25T10:51:26.463Z"
   },
   {
    "duration": 16,
    "start_time": "2021-09-25T10:51:26.506Z"
   },
   {
    "duration": 412,
    "start_time": "2021-09-25T10:51:26.524Z"
   },
   {
    "duration": 459,
    "start_time": "2021-09-25T10:51:26.938Z"
   },
   {
    "duration": 669,
    "start_time": "2021-09-25T10:51:27.399Z"
   },
   {
    "duration": 15,
    "start_time": "2021-09-25T10:51:28.069Z"
   },
   {
    "duration": 17,
    "start_time": "2021-09-25T10:51:28.086Z"
   },
   {
    "duration": 425,
    "start_time": "2021-09-25T10:51:28.105Z"
   },
   {
    "duration": 24,
    "start_time": "2021-09-25T10:51:28.532Z"
   },
   {
    "duration": 21,
    "start_time": "2021-09-25T10:51:28.561Z"
   },
   {
    "duration": 4887,
    "start_time": "2021-09-25T10:51:28.584Z"
   },
   {
    "duration": 35,
    "start_time": "2021-09-25T10:51:33.473Z"
   },
   {
    "duration": 812,
    "start_time": "2021-09-25T10:51:33.510Z"
   },
   {
    "duration": 15,
    "start_time": "2021-09-25T10:51:59.910Z"
   },
   {
    "duration": 37,
    "start_time": "2021-09-25T10:52:35.291Z"
   },
   {
    "duration": 17,
    "start_time": "2021-09-25T10:56:58.952Z"
   },
   {
    "duration": 15,
    "start_time": "2021-09-25T10:57:10.589Z"
   },
   {
    "duration": 17,
    "start_time": "2021-09-25T10:57:57.098Z"
   },
   {
    "duration": 17,
    "start_time": "2021-09-25T10:58:23.822Z"
   },
   {
    "duration": 16,
    "start_time": "2021-09-25T10:58:32.757Z"
   },
   {
    "duration": 18,
    "start_time": "2021-09-25T10:58:52.453Z"
   },
   {
    "duration": 15,
    "start_time": "2021-09-25T10:59:48.486Z"
   },
   {
    "duration": 439,
    "start_time": "2021-09-25T11:00:08.528Z"
   },
   {
    "duration": 385,
    "start_time": "2021-09-25T11:00:38.066Z"
   },
   {
    "duration": 448,
    "start_time": "2021-09-25T11:00:56.498Z"
   },
   {
    "duration": 467,
    "start_time": "2021-09-25T11:01:52.056Z"
   },
   {
    "duration": 525,
    "start_time": "2021-09-25T11:02:14.321Z"
   },
   {
    "duration": 733,
    "start_time": "2021-09-25T11:04:50.189Z"
   },
   {
    "duration": 648,
    "start_time": "2021-09-25T11:05:08.944Z"
   },
   {
    "duration": 640,
    "start_time": "2021-09-25T11:05:25.406Z"
   },
   {
    "duration": 734,
    "start_time": "2021-09-25T11:06:39.871Z"
   },
   {
    "duration": 214,
    "start_time": "2021-09-25T11:08:03.173Z"
   },
   {
    "duration": 207,
    "start_time": "2021-09-25T11:08:17.739Z"
   },
   {
    "duration": 214,
    "start_time": "2021-09-25T11:08:26.971Z"
   },
   {
    "duration": 5,
    "start_time": "2021-09-25T11:18:20.310Z"
   },
   {
    "duration": 57,
    "start_time": "2021-09-25T11:18:20.317Z"
   },
   {
    "duration": 27,
    "start_time": "2021-09-25T11:18:20.377Z"
   },
   {
    "duration": 50,
    "start_time": "2021-09-25T11:18:20.406Z"
   },
   {
    "duration": 13,
    "start_time": "2021-09-25T11:18:20.458Z"
   },
   {
    "duration": 351,
    "start_time": "2021-09-25T11:18:20.473Z"
   },
   {
    "duration": 25,
    "start_time": "2021-09-25T11:18:20.827Z"
   },
   {
    "duration": 225,
    "start_time": "2021-09-25T11:18:20.854Z"
   },
   {
    "duration": 147,
    "start_time": "2021-09-25T11:18:21.081Z"
   },
   {
    "duration": 22,
    "start_time": "2021-09-25T11:18:21.230Z"
   },
   {
    "duration": 333,
    "start_time": "2021-09-25T11:18:21.254Z"
   },
   {
    "duration": 21,
    "start_time": "2021-09-25T11:18:21.589Z"
   },
   {
    "duration": 349,
    "start_time": "2021-09-25T11:18:21.611Z"
   },
   {
    "duration": 14,
    "start_time": "2021-09-25T11:18:21.962Z"
   },
   {
    "duration": 375,
    "start_time": "2021-09-25T11:18:21.978Z"
   },
   {
    "duration": 136,
    "start_time": "2021-09-25T11:18:22.354Z"
   },
   {
    "duration": 16,
    "start_time": "2021-09-25T11:18:22.491Z"
   },
   {
    "duration": 11,
    "start_time": "2021-09-25T11:18:22.509Z"
   },
   {
    "duration": 520,
    "start_time": "2021-09-25T11:18:22.524Z"
   },
   {
    "duration": 15,
    "start_time": "2021-09-25T11:18:23.046Z"
   },
   {
    "duration": 513,
    "start_time": "2021-09-25T11:18:23.063Z"
   },
   {
    "duration": 18,
    "start_time": "2021-09-25T11:18:23.578Z"
   },
   {
    "duration": 504,
    "start_time": "2021-09-25T11:18:23.599Z"
   },
   {
    "duration": 368,
    "start_time": "2021-09-25T11:18:24.105Z"
   },
   {
    "duration": 47,
    "start_time": "2021-09-25T11:18:24.475Z"
   },
   {
    "duration": 32,
    "start_time": "2021-09-25T11:18:24.524Z"
   },
   {
    "duration": 388,
    "start_time": "2021-09-25T11:18:24.558Z"
   },
   {
    "duration": 245,
    "start_time": "2021-09-25T11:18:24.948Z"
   },
   {
    "duration": 602,
    "start_time": "2021-09-25T11:18:25.195Z"
   },
   {
    "duration": 16,
    "start_time": "2021-09-25T11:18:25.798Z"
   },
   {
    "duration": 35,
    "start_time": "2021-09-25T11:18:25.815Z"
   },
   {
    "duration": 358,
    "start_time": "2021-09-25T11:18:25.851Z"
   },
   {
    "duration": 10,
    "start_time": "2021-09-25T11:18:26.211Z"
   },
   {
    "duration": 29,
    "start_time": "2021-09-25T11:18:26.223Z"
   },
   {
    "duration": 4647,
    "start_time": "2021-09-25T11:18:26.254Z"
   },
   {
    "duration": 49,
    "start_time": "2021-09-25T11:18:30.903Z"
   },
   {
    "duration": 747,
    "start_time": "2021-09-25T11:18:30.954Z"
   },
   {
    "duration": 16,
    "start_time": "2021-09-25T11:18:31.703Z"
   },
   {
    "duration": 228,
    "start_time": "2021-09-25T11:18:31.720Z"
   },
   {
    "duration": 298,
    "start_time": "2021-09-25T11:20:33.665Z"
   },
   {
    "duration": 754,
    "start_time": "2021-09-25T11:22:00.860Z"
   },
   {
    "duration": 870,
    "start_time": "2021-09-25T11:22:25.496Z"
   },
   {
    "duration": 958,
    "start_time": "2021-09-25T11:28:15.652Z"
   },
   {
    "duration": 4,
    "start_time": "2021-09-25T11:28:48.027Z"
   },
   {
    "duration": 62,
    "start_time": "2021-09-25T11:28:48.033Z"
   },
   {
    "duration": 24,
    "start_time": "2021-09-25T11:28:48.097Z"
   },
   {
    "duration": 29,
    "start_time": "2021-09-25T11:28:48.123Z"
   },
   {
    "duration": 12,
    "start_time": "2021-09-25T11:28:48.153Z"
   },
   {
    "duration": 358,
    "start_time": "2021-09-25T11:28:48.167Z"
   },
   {
    "duration": 26,
    "start_time": "2021-09-25T11:28:48.527Z"
   },
   {
    "duration": 226,
    "start_time": "2021-09-25T11:28:48.555Z"
   },
   {
    "duration": 148,
    "start_time": "2021-09-25T11:28:48.782Z"
   },
   {
    "duration": 18,
    "start_time": "2021-09-25T11:28:48.931Z"
   },
   {
    "duration": 333,
    "start_time": "2021-09-25T11:28:48.950Z"
   },
   {
    "duration": 18,
    "start_time": "2021-09-25T11:28:49.285Z"
   },
   {
    "duration": 389,
    "start_time": "2021-09-25T11:28:49.305Z"
   },
   {
    "duration": 14,
    "start_time": "2021-09-25T11:28:49.696Z"
   },
   {
    "duration": 375,
    "start_time": "2021-09-25T11:28:49.711Z"
   },
   {
    "duration": 59,
    "start_time": "2021-09-25T11:28:50.088Z"
   },
   {
    "duration": 16,
    "start_time": "2021-09-25T11:28:50.149Z"
   },
   {
    "duration": 11,
    "start_time": "2021-09-25T11:28:50.167Z"
   },
   {
    "duration": 494,
    "start_time": "2021-09-25T11:28:50.182Z"
   },
   {
    "duration": 16,
    "start_time": "2021-09-25T11:28:50.678Z"
   },
   {
    "duration": 601,
    "start_time": "2021-09-25T11:28:50.696Z"
   },
   {
    "duration": 16,
    "start_time": "2021-09-25T11:28:51.298Z"
   },
   {
    "duration": 531,
    "start_time": "2021-09-25T11:28:51.316Z"
   },
   {
    "duration": 364,
    "start_time": "2021-09-25T11:28:51.849Z"
   },
   {
    "duration": 54,
    "start_time": "2021-09-25T11:28:52.215Z"
   },
   {
    "duration": 18,
    "start_time": "2021-09-25T11:28:52.270Z"
   },
   {
    "duration": 412,
    "start_time": "2021-09-25T11:28:52.290Z"
   },
   {
    "duration": 572,
    "start_time": "2021-09-25T11:28:52.704Z"
   },
   {
    "duration": 616,
    "start_time": "2021-09-25T11:28:53.278Z"
   },
   {
    "duration": 17,
    "start_time": "2021-09-25T11:28:53.896Z"
   },
   {
    "duration": 37,
    "start_time": "2021-09-25T11:28:53.915Z"
   },
   {
    "duration": 372,
    "start_time": "2021-09-25T11:28:53.954Z"
   },
   {
    "duration": 21,
    "start_time": "2021-09-25T11:28:54.328Z"
   },
   {
    "duration": 20,
    "start_time": "2021-09-25T11:28:54.351Z"
   },
   {
    "duration": 4617,
    "start_time": "2021-09-25T11:28:54.373Z"
   },
   {
    "duration": 34,
    "start_time": "2021-09-25T11:28:58.992Z"
   },
   {
    "duration": 774,
    "start_time": "2021-09-25T11:28:59.028Z"
   },
   {
    "duration": 16,
    "start_time": "2021-09-25T11:28:59.804Z"
   },
   {
    "duration": 228,
    "start_time": "2021-09-25T11:28:59.822Z"
   },
   {
    "duration": 645,
    "start_time": "2021-09-25T11:37:29.352Z"
   },
   {
    "duration": 251,
    "start_time": "2021-09-25T11:49:44.605Z"
   },
   {
    "duration": 344,
    "start_time": "2021-09-25T11:49:57.865Z"
   },
   {
    "duration": 592,
    "start_time": "2021-09-25T11:50:40.889Z"
   },
   {
    "duration": 633,
    "start_time": "2021-09-25T11:50:53.811Z"
   },
   {
    "duration": 358,
    "start_time": "2021-09-25T11:51:00.792Z"
   },
   {
    "duration": 366,
    "start_time": "2021-09-25T11:56:08.709Z"
   },
   {
    "duration": 4,
    "start_time": "2021-09-25T12:04:43.980Z"
   },
   {
    "duration": 56,
    "start_time": "2021-09-25T12:04:43.989Z"
   },
   {
    "duration": 26,
    "start_time": "2021-09-25T12:04:44.046Z"
   },
   {
    "duration": 13,
    "start_time": "2021-09-25T12:04:44.074Z"
   },
   {
    "duration": 22,
    "start_time": "2021-09-25T12:04:44.089Z"
   },
   {
    "duration": 373,
    "start_time": "2021-09-25T12:04:44.113Z"
   },
   {
    "duration": 13,
    "start_time": "2021-09-25T12:04:44.487Z"
   },
   {
    "duration": 235,
    "start_time": "2021-09-25T12:04:44.501Z"
   },
   {
    "duration": 146,
    "start_time": "2021-09-25T12:04:44.739Z"
   },
   {
    "duration": 14,
    "start_time": "2021-09-25T12:04:44.887Z"
   },
   {
    "duration": 365,
    "start_time": "2021-09-25T12:04:44.902Z"
   },
   {
    "duration": 163,
    "start_time": "2021-09-25T12:04:45.269Z"
   },
   {
    "duration": 335,
    "start_time": "2021-09-25T12:04:45.434Z"
   },
   {
    "duration": 14,
    "start_time": "2021-09-25T12:04:45.771Z"
   },
   {
    "duration": 358,
    "start_time": "2021-09-25T12:04:45.787Z"
   },
   {
    "duration": 41,
    "start_time": "2021-09-25T12:04:46.147Z"
   },
   {
    "duration": 17,
    "start_time": "2021-09-25T12:04:46.190Z"
   },
   {
    "duration": 37,
    "start_time": "2021-09-25T12:04:46.208Z"
   },
   {
    "duration": 500,
    "start_time": "2021-09-25T12:04:46.247Z"
   },
   {
    "duration": 15,
    "start_time": "2021-09-25T12:04:46.749Z"
   },
   {
    "duration": 506,
    "start_time": "2021-09-25T12:04:46.766Z"
   },
   {
    "duration": 17,
    "start_time": "2021-09-25T12:04:47.274Z"
   },
   {
    "duration": 471,
    "start_time": "2021-09-25T12:04:47.293Z"
   },
   {
    "duration": 352,
    "start_time": "2021-09-25T12:04:47.769Z"
   },
   {
    "duration": 55,
    "start_time": "2021-09-25T12:04:48.124Z"
   },
   {
    "duration": 16,
    "start_time": "2021-09-25T12:04:48.181Z"
   },
   {
    "duration": 372,
    "start_time": "2021-09-25T12:04:48.199Z"
   },
   {
    "duration": 164,
    "start_time": "2021-09-25T12:04:48.573Z"
   },
   {
    "duration": 608,
    "start_time": "2021-09-25T12:04:48.739Z"
   },
   {
    "duration": 15,
    "start_time": "2021-09-25T12:04:49.349Z"
   },
   {
    "duration": 16,
    "start_time": "2021-09-25T12:04:49.366Z"
   },
   {
    "duration": 479,
    "start_time": "2021-09-25T12:04:49.384Z"
   },
   {
    "duration": 12,
    "start_time": "2021-09-25T12:04:49.864Z"
   },
   {
    "duration": 20,
    "start_time": "2021-09-25T12:04:49.877Z"
   },
   {
    "duration": 4554,
    "start_time": "2021-09-25T12:04:49.899Z"
   },
   {
    "duration": 35,
    "start_time": "2021-09-25T12:04:54.455Z"
   },
   {
    "duration": 756,
    "start_time": "2021-09-25T12:04:54.491Z"
   },
   {
    "duration": 15,
    "start_time": "2021-09-25T12:04:55.249Z"
   },
   {
    "duration": 217,
    "start_time": "2021-09-25T12:04:55.265Z"
   },
   {
    "duration": 5,
    "start_time": "2021-09-25T12:41:59.882Z"
   },
   {
    "duration": 51,
    "start_time": "2021-09-25T12:41:59.891Z"
   },
   {
    "duration": 25,
    "start_time": "2021-09-25T12:41:59.943Z"
   },
   {
    "duration": 14,
    "start_time": "2021-09-25T12:41:59.970Z"
   },
   {
    "duration": 12,
    "start_time": "2021-09-25T12:41:59.986Z"
   },
   {
    "duration": 400,
    "start_time": "2021-09-25T12:42:00.000Z"
   },
   {
    "duration": 14,
    "start_time": "2021-09-25T12:42:00.402Z"
   },
   {
    "duration": 264,
    "start_time": "2021-09-25T12:42:00.418Z"
   },
   {
    "duration": 150,
    "start_time": "2021-09-25T12:42:00.684Z"
   },
   {
    "duration": 20,
    "start_time": "2021-09-25T12:42:00.836Z"
   },
   {
    "duration": 373,
    "start_time": "2021-09-25T12:42:00.858Z"
   },
   {
    "duration": 29,
    "start_time": "2021-09-25T12:42:01.232Z"
   },
   {
    "duration": 355,
    "start_time": "2021-09-25T12:42:01.263Z"
   },
   {
    "duration": 26,
    "start_time": "2021-09-25T12:42:01.619Z"
   },
   {
    "duration": 362,
    "start_time": "2021-09-25T12:42:01.647Z"
   },
   {
    "duration": 55,
    "start_time": "2021-09-25T12:42:02.011Z"
   },
   {
    "duration": 17,
    "start_time": "2021-09-25T12:42:02.068Z"
   },
   {
    "duration": 23,
    "start_time": "2021-09-25T12:42:02.087Z"
   },
   {
    "duration": 539,
    "start_time": "2021-09-25T12:42:02.113Z"
   },
   {
    "duration": 15,
    "start_time": "2021-09-25T12:42:02.654Z"
   },
   {
    "duration": 495,
    "start_time": "2021-09-25T12:42:02.671Z"
   },
   {
    "duration": 16,
    "start_time": "2021-09-25T12:42:03.168Z"
   },
   {
    "duration": 680,
    "start_time": "2021-09-25T12:42:03.186Z"
   },
   {
    "duration": 358,
    "start_time": "2021-09-25T12:42:03.869Z"
   },
   {
    "duration": 53,
    "start_time": "2021-09-25T12:42:04.229Z"
   },
   {
    "duration": 17,
    "start_time": "2021-09-25T12:42:04.284Z"
   },
   {
    "duration": 468,
    "start_time": "2021-09-25T12:42:04.302Z"
   },
   {
    "duration": 123,
    "start_time": "2021-09-25T12:42:04.772Z"
   },
   {
    "duration": 642,
    "start_time": "2021-09-25T12:42:04.897Z"
   },
   {
    "duration": 15,
    "start_time": "2021-09-25T12:42:05.544Z"
   },
   {
    "duration": 17,
    "start_time": "2021-09-25T12:42:05.561Z"
   },
   {
    "duration": 387,
    "start_time": "2021-09-25T12:42:05.580Z"
   },
   {
    "duration": 11,
    "start_time": "2021-09-25T12:42:05.969Z"
   },
   {
    "duration": 18,
    "start_time": "2021-09-25T12:42:05.982Z"
   },
   {
    "duration": 4428,
    "start_time": "2021-09-25T12:42:06.001Z"
   },
   {
    "duration": 45,
    "start_time": "2021-09-25T12:42:10.431Z"
   },
   {
    "duration": 727,
    "start_time": "2021-09-25T12:42:10.478Z"
   },
   {
    "duration": 15,
    "start_time": "2021-09-25T12:42:11.207Z"
   },
   {
    "duration": 223,
    "start_time": "2021-09-25T12:42:11.223Z"
   },
   {
    "duration": 5,
    "start_time": "2021-09-25T12:42:28.531Z"
   },
   {
    "duration": 418,
    "start_time": "2021-09-26T09:23:49.351Z"
   },
   {
    "duration": 96,
    "start_time": "2021-09-26T09:32:14.424Z"
   }
  ],
  "kernelspec": {
   "display_name": "Python 3",
   "language": "python",
   "name": "python3"
  },
  "language_info": {
   "codemirror_mode": {
    "name": "ipython",
    "version": 3
   },
   "file_extension": ".py",
   "mimetype": "text/x-python",
   "name": "python",
   "nbconvert_exporter": "python",
   "pygments_lexer": "ipython3",
   "version": "3.8.8"
  },
  "toc": {
   "base_numbering": 1,
   "nav_menu": {},
   "number_sections": true,
   "sideBar": true,
   "skip_h1_title": true,
   "title_cell": "Table of Contents",
   "title_sidebar": "Contents",
   "toc_cell": false,
   "toc_position": {},
   "toc_section_display": true,
   "toc_window_display": false
  }
 },
 "nbformat": 4,
 "nbformat_minor": 2
}
